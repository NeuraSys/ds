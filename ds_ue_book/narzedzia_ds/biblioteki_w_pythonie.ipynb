{
 "cells": [
  {
   "cell_type": "code",
   "execution_count": 3,
   "metadata": {
    "tags": [
     "remove-cell"
    ]
   },
   "outputs": [],
   "source": [
    "import pandas as pd\n",
    "from ipywidgets import interact, interactive"
   ]
  },
  {
   "cell_type": "markdown",
   "metadata": {},
   "source": [
    "## Przegląd bibliotek [^autor]\n",
    "\n",
    "[^autor]: Autor sekcji: {ref}`authors:filip-wojcik`\n",
    "\n",
    "Python jest jednym z najczęściej wybieranych języków programowania w zastosowaniach analitycznych. Swoją pozycję zawdzięcza między innymi:\n",
    "\n",
    "1. Relatywnej łatwości nauki;\n",
    "2. Dużej ilości dostępnych bibliotek;\n",
    "3. Aktywnej społeczności;\n",
    "4. Wykorzystaniu przez różne grupy zawodowe: od testerów, administratorów, po programistów i analityków danych.\n",
    "\n",
    "Nic więc dziwnego, że jest uznawany za wiodące rozwiązanie w dziedzinie Data Science.\n",
    "\n",
    "\n",
    "Istnieje cała masa bibliotek przeznaczonych do rozmaitych zastosowań, nierzadko dublujących się lub będących \"nakładkami\" na inne narzędzia. W tej sekcji zostaną przedstawione najważniejsze, naszym zdaniem, biblioteki, które warto znać i umieć wykorzystać w codziennej pracy.\n",
    "\n",
    "Dla ułatwienia zadania podzieliliśmy je na kilka kategorii:\n",
    "1. Biblioteki do analizy danych;\n",
    "2. Biblioteki do operacji matematycznych i statystycznych;\n",
    "3. Biblioteki do wizualizacji danych;\n",
    "4. Biblioteki do uczenia maszynowego;\n",
    "5. Biblioteki do analizy szeregów czasowych;\n",
    "6. Biblioteki do automatyzacji i optymalizacji pracy;\n",
    "7. Inne.\n",
    "\n",
    "Lista ta oczywiście nie jest w pełni kompletna i nie obejmuje m. in. narzędzi z zakresu np. MLOps, czyli zarządzania cyklem życia modeli uczenia maszynowego oraz całych projektów.\n",
    "Dodatkowo, niemal każda pod-dziedzina uczenia maszynowego posiada własne zestawy specyficznych bibliotek, których są dziesiątki. Przykładowo:\n",
    "1. Dla analizy grafów i grafowych sieci neuronowych:\n",
    "   1. [Pytorch Geometric](https://pytorch-geometric.readthedocs.io/en/latest/)\n",
    "   2. [NetworkX](https://networkx.org/)\n",
    "   3. [Deep Graph Library DGL](https://www.dgl.ai/)\n",
    "2. Dla analizy języka naturalnego i przetwarzania tekstu:\n",
    "   1. [SpaCy](https://spacy.io/)\n",
    "   2. [NLTK](https://www.nltk.org/)\n",
    "   3. [Gensim](https://radimrehurek.com/gensim/)\n",
    "   4. [Transformers od Hugginface](https://huggingface.co/docs/transformers/index) - cały zestaw powiązanych narzędzi dla modeli LLM i szkolenia modeli językowych.\n",
    "3. Dla analizy obrazów:\n",
    "   1. [OpenCV](https://opencv.org/)\n",
    "   2. [Scikit-image](https://scikit-image.org/)\n",
    "\n",
    "i tak dalej. Pracując z konkretną pod-dziedziną musimy zapoznać się z konkretnymi narzędziami w niej używanymi.\n",
    "\n",
    "Lista zamieszczona w tej sekcji zawiera tylko absolutne minimum przydatne każdemu, rozpoczynającemu swoją przygodę w świecie DS."
   ]
  },
  {
   "cell_type": "markdown",
   "metadata": {},
   "source": [
    "# Biblioteki do pracy z danymi\n",
    "\n",
    "Praca z danymi jest kluczowym elementem Data Science. Poniżej przedstawiamy dwie popularne biblioteki do manipulacji i analizy danych: `pandas` oraz `polars`.\n",
    "\n"
   ]
  },
  {
   "cell_type": "markdown",
   "metadata": {},
   "source": [
    "## Pandas\n",
    "\n",
    "Pandas to jedna z najbardziej wszechstronnych bibliotek Pythona, używana do manipulacji i analizy danych. Oferuje elastyczne struktury danych, takie jak Series (jednowymiarowe tablice) i DataFrame (dwuwymiarowe tablice/tabele bazodanowe/arkusze Excel - ogólniej: dane ustrukturyzowane).\n",
    "\n",
    "Pandas jest nieodzownym elementem w zestawie narzędzi Data Science."
   ]
  },
  {
   "cell_type": "markdown",
   "metadata": {},
   "source": [
    "```{admonition} Zastosowania Pandas\n",
    ":class: tip\n",
    "Pandas jest używany do:\n",
    "\n",
    "1. Ładowania, czyszczenia i przekształcania danych.\n",
    "2. Analizy danych, takich jak grupowanie, agregacja, filtrowanie.\n",
    "3. Pracy z danymi z plików CSV, Excel, baz danych, oraz formatów takich jak JSON.\n",
    "\n",
    "```"
   ]
  },
  {
   "cell_type": "markdown",
   "metadata": {},
   "source": [
    "### Dodatkowe materiały\n",
    "\n",
    "\n",
    "```{admonition} Przydatne linki - Pandas\n",
    ":class: tip\n",
    "1. [Pandas - przewodnik i oficjalna dokumentacja](https://pandas.pydata.org/docs/user_guide/index.html)\n",
    "2. [Książka - Data analytics with Python](https://wesmckinney.com/book/) pokrywająca dużą część funkcjonalności biblioteki Pandas.\n",
    "\n",
    "```"
   ]
  },
  {
   "cell_type": "markdown",
   "metadata": {},
   "source": [
    "### Przykład 1: Proste wczytywanie danych z pliku CSV"
   ]
  },
  {
   "cell_type": "code",
   "execution_count": 4,
   "metadata": {},
   "outputs": [
    {
     "data": {
      "text/html": [
       "<div>\n",
       "<style scoped>\n",
       "    .dataframe tbody tr th:only-of-type {\n",
       "        vertical-align: middle;\n",
       "    }\n",
       "\n",
       "    .dataframe tbody tr th {\n",
       "        vertical-align: top;\n",
       "    }\n",
       "\n",
       "    .dataframe thead th {\n",
       "        text-align: right;\n",
       "    }\n",
       "</style>\n",
       "<table border=\"1\" class=\"dataframe\">\n",
       "  <thead>\n",
       "    <tr style=\"text-align: right;\">\n",
       "      <th></th>\n",
       "      <th>survived</th>\n",
       "      <th>pclass</th>\n",
       "      <th>sex</th>\n",
       "      <th>age</th>\n",
       "      <th>sibsp</th>\n",
       "      <th>parch</th>\n",
       "      <th>fare</th>\n",
       "      <th>embarked</th>\n",
       "      <th>class</th>\n",
       "      <th>who</th>\n",
       "      <th>adult_male</th>\n",
       "      <th>deck</th>\n",
       "      <th>embark_town</th>\n",
       "      <th>alive</th>\n",
       "      <th>alone</th>\n",
       "    </tr>\n",
       "  </thead>\n",
       "  <tbody>\n",
       "    <tr>\n",
       "      <th>0</th>\n",
       "      <td>0</td>\n",
       "      <td>3</td>\n",
       "      <td>male</td>\n",
       "      <td>22.0</td>\n",
       "      <td>1</td>\n",
       "      <td>0</td>\n",
       "      <td>7.2500</td>\n",
       "      <td>S</td>\n",
       "      <td>Third</td>\n",
       "      <td>man</td>\n",
       "      <td>True</td>\n",
       "      <td>NaN</td>\n",
       "      <td>Southampton</td>\n",
       "      <td>no</td>\n",
       "      <td>False</td>\n",
       "    </tr>\n",
       "    <tr>\n",
       "      <th>1</th>\n",
       "      <td>1</td>\n",
       "      <td>1</td>\n",
       "      <td>female</td>\n",
       "      <td>38.0</td>\n",
       "      <td>1</td>\n",
       "      <td>0</td>\n",
       "      <td>71.2833</td>\n",
       "      <td>C</td>\n",
       "      <td>First</td>\n",
       "      <td>woman</td>\n",
       "      <td>False</td>\n",
       "      <td>C</td>\n",
       "      <td>Cherbourg</td>\n",
       "      <td>yes</td>\n",
       "      <td>False</td>\n",
       "    </tr>\n",
       "    <tr>\n",
       "      <th>2</th>\n",
       "      <td>1</td>\n",
       "      <td>3</td>\n",
       "      <td>female</td>\n",
       "      <td>26.0</td>\n",
       "      <td>0</td>\n",
       "      <td>0</td>\n",
       "      <td>7.9250</td>\n",
       "      <td>S</td>\n",
       "      <td>Third</td>\n",
       "      <td>woman</td>\n",
       "      <td>False</td>\n",
       "      <td>NaN</td>\n",
       "      <td>Southampton</td>\n",
       "      <td>yes</td>\n",
       "      <td>True</td>\n",
       "    </tr>\n",
       "    <tr>\n",
       "      <th>3</th>\n",
       "      <td>1</td>\n",
       "      <td>1</td>\n",
       "      <td>female</td>\n",
       "      <td>35.0</td>\n",
       "      <td>1</td>\n",
       "      <td>0</td>\n",
       "      <td>53.1000</td>\n",
       "      <td>S</td>\n",
       "      <td>First</td>\n",
       "      <td>woman</td>\n",
       "      <td>False</td>\n",
       "      <td>C</td>\n",
       "      <td>Southampton</td>\n",
       "      <td>yes</td>\n",
       "      <td>False</td>\n",
       "    </tr>\n",
       "    <tr>\n",
       "      <th>4</th>\n",
       "      <td>0</td>\n",
       "      <td>3</td>\n",
       "      <td>male</td>\n",
       "      <td>35.0</td>\n",
       "      <td>0</td>\n",
       "      <td>0</td>\n",
       "      <td>8.0500</td>\n",
       "      <td>S</td>\n",
       "      <td>Third</td>\n",
       "      <td>man</td>\n",
       "      <td>True</td>\n",
       "      <td>NaN</td>\n",
       "      <td>Southampton</td>\n",
       "      <td>no</td>\n",
       "      <td>True</td>\n",
       "    </tr>\n",
       "  </tbody>\n",
       "</table>\n",
       "</div>"
      ],
      "text/plain": [
       "   survived  pclass     sex   age  sibsp  parch     fare embarked  class  \\\n",
       "0         0       3    male  22.0      1      0   7.2500        S  Third   \n",
       "1         1       1  female  38.0      1      0  71.2833        C  First   \n",
       "2         1       3  female  26.0      0      0   7.9250        S  Third   \n",
       "3         1       1  female  35.0      1      0  53.1000        S  First   \n",
       "4         0       3    male  35.0      0      0   8.0500        S  Third   \n",
       "\n",
       "     who  adult_male deck  embark_town alive  alone  \n",
       "0    man        True  NaN  Southampton    no  False  \n",
       "1  woman       False    C    Cherbourg   yes  False  \n",
       "2  woman       False  NaN  Southampton   yes   True  \n",
       "3  woman       False    C  Southampton   yes  False  \n",
       "4    man        True  NaN  Southampton    no   True  "
      ]
     },
     "execution_count": 4,
     "metadata": {},
     "output_type": "execute_result"
    }
   ],
   "source": [
    "import pandas as pd\n",
    "\n",
    "# Wczytywanie danych z pliku CSV\n",
    "url = \"https://raw.githubusercontent.com/mwaskom/seaborn-data/master/titanic.csv\"\n",
    "titanic_data = pd.read_csv(url)\n",
    "\n",
    "# Przegląd pierwszych kilku wierszy\n",
    "titanic_data.head()"
   ]
  },
  {
   "cell_type": "code",
   "execution_count": 5,
   "metadata": {},
   "outputs": [
    {
     "name": "stdout",
     "output_type": "stream",
     "text": [
      "<class 'pandas.core.frame.DataFrame'>\n",
      "RangeIndex: 891 entries, 0 to 890\n",
      "Data columns (total 15 columns):\n",
      " #   Column       Non-Null Count  Dtype  \n",
      "---  ------       --------------  -----  \n",
      " 0   survived     891 non-null    int64  \n",
      " 1   pclass       891 non-null    int64  \n",
      " 2   sex          891 non-null    object \n",
      " 3   age          714 non-null    float64\n",
      " 4   sibsp        891 non-null    int64  \n",
      " 5   parch        891 non-null    int64  \n",
      " 6   fare         891 non-null    float64\n",
      " 7   embarked     889 non-null    object \n",
      " 8   class        891 non-null    object \n",
      " 9   who          891 non-null    object \n",
      " 10  adult_male   891 non-null    bool   \n",
      " 11  deck         203 non-null    object \n",
      " 12  embark_town  889 non-null    object \n",
      " 13  alive        891 non-null    object \n",
      " 14  alone        891 non-null    bool   \n",
      "dtypes: bool(2), float64(2), int64(4), object(7)\n",
      "memory usage: 92.4+ KB\n",
      "None\n"
     ]
    }
   ],
   "source": [
    "# Generowanie podsumowania danych\n",
    "print(titanic_data.info())"
   ]
  },
  {
   "cell_type": "markdown",
   "metadata": {},
   "source": [
    "W powyższym przykładzie załadowano dane dotyczące pasażerów Titanica z pliku CSV dostępnego online, a następnie wyświetlono pierwsze kilka wierszy oraz podstawowe informacje o zbiorze danych, takie jak liczba wierszy i kolumn oraz typy danych.\n"
   ]
  },
  {
   "cell_type": "markdown",
   "metadata": {},
   "source": [
    "### Przykład 2: Filtrowanie i grupowanie"
   ]
  },
  {
   "cell_type": "code",
   "execution_count": 6,
   "metadata": {},
   "outputs": [
    {
     "name": "stdout",
     "output_type": "stream",
     "text": [
      "Kobiety, które przetrwały katastrofę\n"
     ]
    },
    {
     "data": {
      "text/html": [
       "<div>\n",
       "<style scoped>\n",
       "    .dataframe tbody tr th:only-of-type {\n",
       "        vertical-align: middle;\n",
       "    }\n",
       "\n",
       "    .dataframe tbody tr th {\n",
       "        vertical-align: top;\n",
       "    }\n",
       "\n",
       "    .dataframe thead th {\n",
       "        text-align: right;\n",
       "    }\n",
       "</style>\n",
       "<table border=\"1\" class=\"dataframe\">\n",
       "  <thead>\n",
       "    <tr style=\"text-align: right;\">\n",
       "      <th></th>\n",
       "      <th>survived</th>\n",
       "      <th>pclass</th>\n",
       "      <th>sex</th>\n",
       "      <th>age</th>\n",
       "      <th>sibsp</th>\n",
       "      <th>parch</th>\n",
       "      <th>fare</th>\n",
       "      <th>embarked</th>\n",
       "      <th>class</th>\n",
       "      <th>who</th>\n",
       "      <th>adult_male</th>\n",
       "      <th>deck</th>\n",
       "      <th>embark_town</th>\n",
       "      <th>alive</th>\n",
       "      <th>alone</th>\n",
       "    </tr>\n",
       "  </thead>\n",
       "  <tbody>\n",
       "    <tr>\n",
       "      <th>1</th>\n",
       "      <td>1</td>\n",
       "      <td>1</td>\n",
       "      <td>female</td>\n",
       "      <td>38.0</td>\n",
       "      <td>1</td>\n",
       "      <td>0</td>\n",
       "      <td>71.2833</td>\n",
       "      <td>C</td>\n",
       "      <td>First</td>\n",
       "      <td>woman</td>\n",
       "      <td>False</td>\n",
       "      <td>C</td>\n",
       "      <td>Cherbourg</td>\n",
       "      <td>yes</td>\n",
       "      <td>False</td>\n",
       "    </tr>\n",
       "    <tr>\n",
       "      <th>2</th>\n",
       "      <td>1</td>\n",
       "      <td>3</td>\n",
       "      <td>female</td>\n",
       "      <td>26.0</td>\n",
       "      <td>0</td>\n",
       "      <td>0</td>\n",
       "      <td>7.9250</td>\n",
       "      <td>S</td>\n",
       "      <td>Third</td>\n",
       "      <td>woman</td>\n",
       "      <td>False</td>\n",
       "      <td>NaN</td>\n",
       "      <td>Southampton</td>\n",
       "      <td>yes</td>\n",
       "      <td>True</td>\n",
       "    </tr>\n",
       "    <tr>\n",
       "      <th>3</th>\n",
       "      <td>1</td>\n",
       "      <td>1</td>\n",
       "      <td>female</td>\n",
       "      <td>35.0</td>\n",
       "      <td>1</td>\n",
       "      <td>0</td>\n",
       "      <td>53.1000</td>\n",
       "      <td>S</td>\n",
       "      <td>First</td>\n",
       "      <td>woman</td>\n",
       "      <td>False</td>\n",
       "      <td>C</td>\n",
       "      <td>Southampton</td>\n",
       "      <td>yes</td>\n",
       "      <td>False</td>\n",
       "    </tr>\n",
       "    <tr>\n",
       "      <th>8</th>\n",
       "      <td>1</td>\n",
       "      <td>3</td>\n",
       "      <td>female</td>\n",
       "      <td>27.0</td>\n",
       "      <td>0</td>\n",
       "      <td>2</td>\n",
       "      <td>11.1333</td>\n",
       "      <td>S</td>\n",
       "      <td>Third</td>\n",
       "      <td>woman</td>\n",
       "      <td>False</td>\n",
       "      <td>NaN</td>\n",
       "      <td>Southampton</td>\n",
       "      <td>yes</td>\n",
       "      <td>False</td>\n",
       "    </tr>\n",
       "    <tr>\n",
       "      <th>9</th>\n",
       "      <td>1</td>\n",
       "      <td>2</td>\n",
       "      <td>female</td>\n",
       "      <td>14.0</td>\n",
       "      <td>1</td>\n",
       "      <td>0</td>\n",
       "      <td>30.0708</td>\n",
       "      <td>C</td>\n",
       "      <td>Second</td>\n",
       "      <td>child</td>\n",
       "      <td>False</td>\n",
       "      <td>NaN</td>\n",
       "      <td>Cherbourg</td>\n",
       "      <td>yes</td>\n",
       "      <td>False</td>\n",
       "    </tr>\n",
       "  </tbody>\n",
       "</table>\n",
       "</div>"
      ],
      "text/plain": [
       "   survived  pclass     sex   age  sibsp  parch     fare embarked   class  \\\n",
       "1         1       1  female  38.0      1      0  71.2833        C   First   \n",
       "2         1       3  female  26.0      0      0   7.9250        S   Third   \n",
       "3         1       1  female  35.0      1      0  53.1000        S   First   \n",
       "8         1       3  female  27.0      0      2  11.1333        S   Third   \n",
       "9         1       2  female  14.0      1      0  30.0708        C  Second   \n",
       "\n",
       "     who  adult_male deck  embark_town alive  alone  \n",
       "1  woman       False    C    Cherbourg   yes  False  \n",
       "2  woman       False  NaN  Southampton   yes   True  \n",
       "3  woman       False    C  Southampton   yes  False  \n",
       "8  woman       False  NaN  Southampton   yes  False  \n",
       "9  child       False  NaN    Cherbourg   yes  False  "
      ]
     },
     "execution_count": 6,
     "metadata": {},
     "output_type": "execute_result"
    }
   ],
   "source": [
    "# Filtrowanie danych - tylko kobiety, które przeżyły\n",
    "surviving_females = titanic_data[(titanic_data['sex'] == 'female') & (titanic_data['survived'] == 1)]\n",
    "\n",
    "print(\"Kobiety, które przetrwały katastrofę\")\n",
    "surviving_females.head()"
   ]
  },
  {
   "cell_type": "code",
   "execution_count": 7,
   "metadata": {},
   "outputs": [
    {
     "name": "stdout",
     "output_type": "stream",
     "text": [
      "\n",
      "Średni wiek i cena biletu dla różnych klas:\n",
      "               age       fare\n",
      "class                       \n",
      "First   38.233441  84.154687\n",
      "Second  29.877630  20.662183\n",
      "Third   25.140620  13.675550\n"
     ]
    }
   ],
   "source": [
    "# Grupowanie danych - średni wiek i cena biletu dla różnych klas\n",
    "average_stats = titanic_data.groupby('class').agg({'age': 'mean', 'fare': 'mean'})\n",
    "\n",
    "print(\"\\nŚredni wiek i cena biletu dla różnych klas:\\n\", average_stats)"
   ]
  },
  {
   "cell_type": "markdown",
   "metadata": {},
   "source": [
    "W tym przykładzie przefiltrowano dane, aby uzyskać informacje tylko o kobietach, które przeżyły katastrofę, a także dokonano grupowania danych według klasy pasażerów, obliczając średni wiek oraz średnią cenę biletu w każdej klasie.\n"
   ]
  },
  {
   "cell_type": "markdown",
   "metadata": {},
   "source": [
    "### Przykład 3: Wizualizacja danych przy pomocy Pandasa"
   ]
  },
  {
   "cell_type": "code",
   "execution_count": 8,
   "metadata": {},
   "outputs": [
    {
     "data": {
      "text/plain": [
       "<Axes: title={'center': 'fare'}, xlabel='class'>"
      ]
     },
     "execution_count": 8,
     "metadata": {},
     "output_type": "execute_result"
    },
    {
     "data": {
      "image/png": "[encoded data removed]",
      "text/plain": [
       "<Figure size 640x480 with 1 Axes>"
      ]
     },
     "metadata": {},
     "output_type": "display_data"
    },
    {
     "data": {
      "image/png": "[encoded data removed]",
      "text/plain": [
       "<Figure size 640x480 with 1 Axes>"
      ]
     },
     "metadata": {},
     "output_type": "display_data"
    }
   ],
   "source": [
    "# Histogram wieku pasażerów\n",
    "titanic_data['age'].hist(bins=30)\n",
    "\n",
    "# Wykres pudełkowy (boxplot) dla cen biletów w różnych klasach\n",
    "titanic_data.boxplot(column='fare', by='class', grid=False)\n"
   ]
  },
  {
   "cell_type": "markdown",
   "metadata": {},
   "source": [
    "Pandas oferuje również proste metody wizualizacji danych. Powyżej wygenerowano histogram wieku pasażerów oraz wykres pudełkowy (boxplot) dla cen biletów w różnych klasach, co pozwala na szybkie zwizualizowanie rozkładu danych.\n",
    "\n",
    "Pandas posiada uproszczone funkcje do wizualizacji danych, które delegują wykonanie określonych funkcji do pakietów jak np. `matplotlib`."
   ]
  },
  {
   "cell_type": "markdown",
   "metadata": {},
   "source": [
    "## Polars\n",
    "\n",
    "Polars to nowoczesna, szybka i wielowątkowa alternatywa dla Pandas, napisana w języku Rust. Jest zoptymalizowana pod kątem wydajności, zwłaszcza przy pracy z dużymi zbiorami danych. Polars oferuje podobne struktury danych jak Pandas, w tym DataFrame, ale dzięki swojej architekturze może działać szybciej i efektywniej na dużych danych.\n",
    "\n",
    "\n",
    "```{admonition} Zastosowania Polars\n",
    ":class: tip\n",
    "Polars jest używany do:\n",
    "\n",
    "1. Szybkiej analizy dużych zbiorów danych.\n",
    "2. Przetwarzania danych na wielu rdzeniach procesora (wielowątkowość).\n",
    "3. Wykonywania operacji podobnych do Pandas, ale z lepszą wydajnością.\n",
    "```"
   ]
  },
  {
   "cell_type": "markdown",
   "metadata": {},
   "source": [
    "### Dodatkowe materiały\n",
    "\n",
    "```{admonition} Przydatne linki - Polars\n",
    ":class: tip\n",
    "\n",
    "1. [Dokumentacja i przewodnik Polars](https://docs.pola.rs/user-guide/getting-started/)\n",
    "2. [Tutorial Polars od Real Python](https://realpython.com/polars-python/)\n",
    "\n",
    "```"
   ]
  },
  {
   "cell_type": "markdown",
   "metadata": {},
   "source": [
    "### Przykład 1: Wczytaywanie i analiza dancyh"
   ]
  },
  {
   "cell_type": "code",
   "execution_count": 9,
   "metadata": {},
   "outputs": [
    {
     "data": {
      "text/html": [
       "<div><style>\n",
       ".dataframe > thead > tr,\n",
       ".dataframe > tbody > tr {\n",
       "  text-align: right;\n",
       "  white-space: pre-wrap;\n",
       "}\n",
       "</style>\n",
       "<small>shape: (5, 15)</small><table border=\"1\" class=\"dataframe\"><thead><tr><th>survived</th><th>pclass</th><th>sex</th><th>age</th><th>sibsp</th><th>parch</th><th>fare</th><th>embarked</th><th>class</th><th>who</th><th>adult_male</th><th>deck</th><th>embark_town</th><th>alive</th><th>alone</th></tr><tr><td>i64</td><td>i64</td><td>str</td><td>f64</td><td>i64</td><td>i64</td><td>f64</td><td>str</td><td>str</td><td>str</td><td>bool</td><td>str</td><td>str</td><td>str</td><td>bool</td></tr></thead><tbody><tr><td>0</td><td>3</td><td>&quot;male&quot;</td><td>22.0</td><td>1</td><td>0</td><td>7.25</td><td>&quot;S&quot;</td><td>&quot;Third&quot;</td><td>&quot;man&quot;</td><td>true</td><td>null</td><td>&quot;Southampton&quot;</td><td>&quot;no&quot;</td><td>false</td></tr><tr><td>1</td><td>1</td><td>&quot;female&quot;</td><td>38.0</td><td>1</td><td>0</td><td>71.2833</td><td>&quot;C&quot;</td><td>&quot;First&quot;</td><td>&quot;woman&quot;</td><td>false</td><td>&quot;C&quot;</td><td>&quot;Cherbourg&quot;</td><td>&quot;yes&quot;</td><td>false</td></tr><tr><td>1</td><td>3</td><td>&quot;female&quot;</td><td>26.0</td><td>0</td><td>0</td><td>7.925</td><td>&quot;S&quot;</td><td>&quot;Third&quot;</td><td>&quot;woman&quot;</td><td>false</td><td>null</td><td>&quot;Southampton&quot;</td><td>&quot;yes&quot;</td><td>true</td></tr><tr><td>1</td><td>1</td><td>&quot;female&quot;</td><td>35.0</td><td>1</td><td>0</td><td>53.1</td><td>&quot;S&quot;</td><td>&quot;First&quot;</td><td>&quot;woman&quot;</td><td>false</td><td>&quot;C&quot;</td><td>&quot;Southampton&quot;</td><td>&quot;yes&quot;</td><td>false</td></tr><tr><td>0</td><td>3</td><td>&quot;male&quot;</td><td>35.0</td><td>0</td><td>0</td><td>8.05</td><td>&quot;S&quot;</td><td>&quot;Third&quot;</td><td>&quot;man&quot;</td><td>true</td><td>null</td><td>&quot;Southampton&quot;</td><td>&quot;no&quot;</td><td>true</td></tr></tbody></table></div>"
      ],
      "text/plain": [
       "shape: (5, 15)\n",
       "┌──────────┬────────┬────────┬──────┬───┬──────┬─────────────┬───────┬───────┐\n",
       "│ survived ┆ pclass ┆ sex    ┆ age  ┆ … ┆ deck ┆ embark_town ┆ alive ┆ alone │\n",
       "│ ---      ┆ ---    ┆ ---    ┆ ---  ┆   ┆ ---  ┆ ---         ┆ ---   ┆ ---   │\n",
       "│ i64      ┆ i64    ┆ str    ┆ f64  ┆   ┆ str  ┆ str         ┆ str   ┆ bool  │\n",
       "╞══════════╪════════╪════════╪══════╪═══╪══════╪═════════════╪═══════╪═══════╡\n",
       "│ 0        ┆ 3      ┆ male   ┆ 22.0 ┆ … ┆ null ┆ Southampton ┆ no    ┆ false │\n",
       "│ 1        ┆ 1      ┆ female ┆ 38.0 ┆ … ┆ C    ┆ Cherbourg   ┆ yes   ┆ false │\n",
       "│ 1        ┆ 3      ┆ female ┆ 26.0 ┆ … ┆ null ┆ Southampton ┆ yes   ┆ true  │\n",
       "│ 1        ┆ 1      ┆ female ┆ 35.0 ┆ … ┆ C    ┆ Southampton ┆ yes   ┆ false │\n",
       "│ 0        ┆ 3      ┆ male   ┆ 35.0 ┆ … ┆ null ┆ Southampton ┆ no    ┆ true  │\n",
       "└──────────┴────────┴────────┴──────┴───┴──────┴─────────────┴───────┴───────┘"
      ]
     },
     "execution_count": 9,
     "metadata": {},
     "output_type": "execute_result"
    }
   ],
   "source": [
    "import polars as pl\n",
    "\n",
    "# Wczytywanie danych z pliku CSV\n",
    "titanic_data = pl.read_csv(url)\n",
    "\n",
    "# Przegląd pierwszych kilku wierszy\n",
    "titanic_data.head()"
   ]
  },
  {
   "cell_type": "code",
   "execution_count": 10,
   "metadata": {},
   "outputs": [
    {
     "name": "stdout",
     "output_type": "stream",
     "text": [
      "shape: (9, 16)\n",
      "┌────────────┬──────────┬──────────┬────────┬───┬──────┬─────────────┬───────┬──────────┐\n",
      "│ statistic  ┆ survived ┆ pclass   ┆ sex    ┆ … ┆ deck ┆ embark_town ┆ alive ┆ alone    │\n",
      "│ ---        ┆ ---      ┆ ---      ┆ ---    ┆   ┆ ---  ┆ ---         ┆ ---   ┆ ---      │\n",
      "│ str        ┆ f64      ┆ f64      ┆ str    ┆   ┆ str  ┆ str         ┆ str   ┆ f64      │\n",
      "╞════════════╪══════════╪══════════╪════════╪═══╪══════╪═════════════╪═══════╪══════════╡\n",
      "│ count      ┆ 891.0    ┆ 891.0    ┆ 891    ┆ … ┆ 203  ┆ 889         ┆ 891   ┆ 891.0    │\n",
      "│ null_count ┆ 0.0      ┆ 0.0      ┆ 0      ┆ … ┆ 688  ┆ 2           ┆ 0     ┆ 0.0      │\n",
      "│ mean       ┆ 0.383838 ┆ 2.308642 ┆ null   ┆ … ┆ null ┆ null        ┆ null  ┆ 0.602694 │\n",
      "│ std        ┆ 0.486592 ┆ 0.836071 ┆ null   ┆ … ┆ null ┆ null        ┆ null  ┆ null     │\n",
      "│ min        ┆ 0.0      ┆ 1.0      ┆ female ┆ … ┆ A    ┆ Cherbourg   ┆ no    ┆ 0.0      │\n",
      "│ 25%        ┆ 0.0      ┆ 2.0      ┆ null   ┆ … ┆ null ┆ null        ┆ null  ┆ null     │\n",
      "│ 50%        ┆ 0.0      ┆ 3.0      ┆ null   ┆ … ┆ null ┆ null        ┆ null  ┆ null     │\n",
      "│ 75%        ┆ 1.0      ┆ 3.0      ┆ null   ┆ … ┆ null ┆ null        ┆ null  ┆ null     │\n",
      "│ max        ┆ 1.0      ┆ 3.0      ┆ male   ┆ … ┆ G    ┆ Southampton ┆ yes   ┆ 1.0      │\n",
      "└────────────┴──────────┴──────────┴────────┴───┴──────┴─────────────┴───────┴──────────┘\n"
     ]
    }
   ],
   "source": [
    "# Informacje o danych\n",
    "print(titanic_data.describe())\n"
   ]
  },
  {
   "cell_type": "markdown",
   "metadata": {},
   "source": [
    "W tym przykładzie załadowano dane o pasażerach Titanica za pomocą Polars i wyświetlono pierwsze kilka wierszy oraz podstawowe statystyki opisowe dla każdej kolumny. Operacje te będą bardzo szybkie w Polarsie, nawet przy dużych zbiorach danych.\n",
    "\n",
    "Pozornie składnia Polarsa wydaje sie bardzo podobna do Pandasa, ale różni się w szczegółach, upodabniając go nieco do np. `Sparka`, używanego dla zastosowań Big Data.\n"
   ]
  },
  {
   "cell_type": "markdown",
   "metadata": {},
   "source": [
    "### Przykład 2: Filtrowanie i agregacja dnaych"
   ]
  },
  {
   "cell_type": "code",
   "execution_count": 11,
   "metadata": {},
   "outputs": [
    {
     "data": {
      "text/html": [
       "<div><style>\n",
       ".dataframe > thead > tr,\n",
       ".dataframe > tbody > tr {\n",
       "  text-align: right;\n",
       "  white-space: pre-wrap;\n",
       "}\n",
       "</style>\n",
       "<small>shape: (202, 15)</small><table border=\"1\" class=\"dataframe\"><thead><tr><th>survived</th><th>pclass</th><th>sex</th><th>age</th><th>sibsp</th><th>parch</th><th>fare</th><th>embarked</th><th>class</th><th>who</th><th>adult_male</th><th>deck</th><th>embark_town</th><th>alive</th><th>alone</th></tr><tr><td>i64</td><td>i64</td><td>str</td><td>f64</td><td>i64</td><td>i64</td><td>f64</td><td>str</td><td>str</td><td>str</td><td>bool</td><td>str</td><td>str</td><td>str</td><td>bool</td></tr></thead><tbody><tr><td>0</td><td>3</td><td>&quot;male&quot;</td><td>35.0</td><td>0</td><td>0</td><td>8.05</td><td>&quot;S&quot;</td><td>&quot;Third&quot;</td><td>&quot;man&quot;</td><td>true</td><td>null</td><td>&quot;Southampton&quot;</td><td>&quot;no&quot;</td><td>true</td></tr><tr><td>0</td><td>1</td><td>&quot;male&quot;</td><td>54.0</td><td>0</td><td>0</td><td>51.8625</td><td>&quot;S&quot;</td><td>&quot;First&quot;</td><td>&quot;man&quot;</td><td>true</td><td>&quot;E&quot;</td><td>&quot;Southampton&quot;</td><td>&quot;no&quot;</td><td>true</td></tr><tr><td>0</td><td>3</td><td>&quot;male&quot;</td><td>39.0</td><td>1</td><td>5</td><td>31.275</td><td>&quot;S&quot;</td><td>&quot;Third&quot;</td><td>&quot;man&quot;</td><td>true</td><td>null</td><td>&quot;Southampton&quot;</td><td>&quot;no&quot;</td><td>false</td></tr><tr><td>0</td><td>2</td><td>&quot;male&quot;</td><td>35.0</td><td>0</td><td>0</td><td>26.0</td><td>&quot;S&quot;</td><td>&quot;Second&quot;</td><td>&quot;man&quot;</td><td>true</td><td>null</td><td>&quot;Southampton&quot;</td><td>&quot;no&quot;</td><td>true</td></tr><tr><td>1</td><td>2</td><td>&quot;male&quot;</td><td>34.0</td><td>0</td><td>0</td><td>13.0</td><td>&quot;S&quot;</td><td>&quot;Second&quot;</td><td>&quot;man&quot;</td><td>true</td><td>&quot;D&quot;</td><td>&quot;Southampton&quot;</td><td>&quot;yes&quot;</td><td>true</td></tr><tr><td>&hellip;</td><td>&hellip;</td><td>&hellip;</td><td>&hellip;</td><td>&hellip;</td><td>&hellip;</td><td>&hellip;</td><td>&hellip;</td><td>&hellip;</td><td>&hellip;</td><td>&hellip;</td><td>&hellip;</td><td>&hellip;</td><td>&hellip;</td><td>&hellip;</td></tr><tr><td>0</td><td>1</td><td>&quot;male&quot;</td><td>31.0</td><td>0</td><td>0</td><td>50.4958</td><td>&quot;S&quot;</td><td>&quot;First&quot;</td><td>&quot;man&quot;</td><td>true</td><td>&quot;A&quot;</td><td>&quot;Southampton&quot;</td><td>&quot;no&quot;</td><td>true</td></tr><tr><td>0</td><td>1</td><td>&quot;male&quot;</td><td>33.0</td><td>0</td><td>0</td><td>5.0</td><td>&quot;S&quot;</td><td>&quot;First&quot;</td><td>&quot;man&quot;</td><td>true</td><td>&quot;B&quot;</td><td>&quot;Southampton&quot;</td><td>&quot;no&quot;</td><td>true</td></tr><tr><td>0</td><td>3</td><td>&quot;male&quot;</td><td>47.0</td><td>0</td><td>0</td><td>9.0</td><td>&quot;S&quot;</td><td>&quot;Third&quot;</td><td>&quot;man&quot;</td><td>true</td><td>null</td><td>&quot;Southampton&quot;</td><td>&quot;no&quot;</td><td>true</td></tr><tr><td>0</td><td>3</td><td>&quot;male&quot;</td><td>33.0</td><td>0</td><td>0</td><td>7.8958</td><td>&quot;S&quot;</td><td>&quot;Third&quot;</td><td>&quot;man&quot;</td><td>true</td><td>null</td><td>&quot;Southampton&quot;</td><td>&quot;no&quot;</td><td>true</td></tr><tr><td>0</td><td>3</td><td>&quot;male&quot;</td><td>32.0</td><td>0</td><td>0</td><td>7.75</td><td>&quot;Q&quot;</td><td>&quot;Third&quot;</td><td>&quot;man&quot;</td><td>true</td><td>null</td><td>&quot;Queenstown&quot;</td><td>&quot;no&quot;</td><td>true</td></tr></tbody></table></div>"
      ],
      "text/plain": [
       "shape: (202, 15)\n",
       "┌──────────┬────────┬──────┬──────┬───┬──────┬─────────────┬───────┬───────┐\n",
       "│ survived ┆ pclass ┆ sex  ┆ age  ┆ … ┆ deck ┆ embark_town ┆ alive ┆ alone │\n",
       "│ ---      ┆ ---    ┆ ---  ┆ ---  ┆   ┆ ---  ┆ ---         ┆ ---   ┆ ---   │\n",
       "│ i64      ┆ i64    ┆ str  ┆ f64  ┆   ┆ str  ┆ str         ┆ str   ┆ bool  │\n",
       "╞══════════╪════════╪══════╪══════╪═══╪══════╪═════════════╪═══════╪═══════╡\n",
       "│ 0        ┆ 3      ┆ male ┆ 35.0 ┆ … ┆ null ┆ Southampton ┆ no    ┆ true  │\n",
       "│ 0        ┆ 1      ┆ male ┆ 54.0 ┆ … ┆ E    ┆ Southampton ┆ no    ┆ true  │\n",
       "│ 0        ┆ 3      ┆ male ┆ 39.0 ┆ … ┆ null ┆ Southampton ┆ no    ┆ false │\n",
       "│ 0        ┆ 2      ┆ male ┆ 35.0 ┆ … ┆ null ┆ Southampton ┆ no    ┆ true  │\n",
       "│ 1        ┆ 2      ┆ male ┆ 34.0 ┆ … ┆ D    ┆ Southampton ┆ yes   ┆ true  │\n",
       "│ …        ┆ …      ┆ …    ┆ …    ┆ … ┆ …    ┆ …           ┆ …     ┆ …     │\n",
       "│ 0        ┆ 1      ┆ male ┆ 31.0 ┆ … ┆ A    ┆ Southampton ┆ no    ┆ true  │\n",
       "│ 0        ┆ 1      ┆ male ┆ 33.0 ┆ … ┆ B    ┆ Southampton ┆ no    ┆ true  │\n",
       "│ 0        ┆ 3      ┆ male ┆ 47.0 ┆ … ┆ null ┆ Southampton ┆ no    ┆ true  │\n",
       "│ 0        ┆ 3      ┆ male ┆ 33.0 ┆ … ┆ null ┆ Southampton ┆ no    ┆ true  │\n",
       "│ 0        ┆ 3      ┆ male ┆ 32.0 ┆ … ┆ null ┆ Queenstown  ┆ no    ┆ true  │\n",
       "└──────────┴────────┴──────┴──────┴───┴──────┴─────────────┴───────┴───────┘"
      ]
     },
     "execution_count": 11,
     "metadata": {},
     "output_type": "execute_result"
    }
   ],
   "source": [
    "# Filtrowanie danych - tylko mężczyźni powyżej 30 lat\n",
    "filtered_data = titanic_data.filter((pl.col('sex') == 'male') & (pl.col('age') > 30))\n",
    "\n",
    "filtered_data\n"
   ]
  },
  {
   "cell_type": "code",
   "execution_count": 12,
   "metadata": {},
   "outputs": [
    {
     "name": "stdout",
     "output_type": "stream",
     "text": [
      "\n",
      "Suma biletów dla różnych klas:\n",
      " shape: (3, 2)\n",
      "┌────────┬────────────┐\n",
      "│ class  ┆ total_fare │\n",
      "│ ---    ┆ ---        │\n",
      "│ str    ┆ f64        │\n",
      "╞════════╪════════════╡\n",
      "│ Third  ┆ 6714.6951  │\n",
      "│ First  ┆ 18177.4125 │\n",
      "│ Second ┆ 3801.8417  │\n",
      "└────────┴────────────┘\n"
     ]
    }
   ],
   "source": [
    "# Grupowanie danych - suma biletów dla różnych klas\n",
    "fare_sum = titanic_data.group_by('class').agg(pl.sum('fare').alias('total_fare'))\n",
    "print(\"\\nSuma biletów dla różnych klas:\\n\", fare_sum)"
   ]
  },
  {
   "cell_type": "markdown",
   "metadata": {},
   "source": [
    "Podobnie jak w Pandas, Polars pozwala na filtrowanie i grupowanie danych. W powyższym kodzie przefiltrowano dane, aby wyświetlić tylko mężczyzn powyżej 30 roku życia, a następnie pogrupowano dane według klasy pasażerów, sumując ceny biletów.\n",
    "\n",
    "Widzimy jednak, że zachodzą spore różnice w składni. Polars wykorzystuje funkcyjne podejście do wywoływania operacji, podobnie jak `Apache Spark`."
   ]
  },
  {
   "cell_type": "markdown",
   "metadata": {},
   "source": [
    "# Biblioteki do operacji matematycznych i statystycznych\n",
    "\n",
    "## NumPy\n",
    "\n",
    "NumPy jest fundamentalną biblioteką Pythona do obliczeń numerycznych. Oferuje wsparcie dla efektywnego przechowywania i manipulacji dużymi tablicami oraz macierzami wielowymiarowymi. Posiada również bogaty zbiór funkcji matematycznych umożliwiających wykonywanie operacji na tych danych, takich jak wszelkiego rodzaju arytmetyka, przekształcenia algebraiczne, badanie funkcji, i inne.\n",
    "\n",
    "Znajomość NumPy, zwłaszcza w zakresie macierzy jest **fundamentalną** umiejętnością dla działań w zakresie uczenia maszynowego.\n",
    "\n",
    "\n",
    "```{admonition} Zastosowania NumPy\n",
    ":class: tip\n",
    "NumPy jest często używany do:\n",
    "\n",
    "1. Tworzenia i manipulowania macierzami: dodawanie, mnożenie, transpozycja, itd.\n",
    "3. Wszelkich innych działań z zakresu algebry liniowej, jak np. rozwiazywanie układów równań.\n",
    "```\n",
    "\n",
    "### Dodatkowe materiały\n",
    "\n",
    "```{admonition} Przydatne linki - NumPy\n",
    ":class: tip\n",
    "\n",
    "1. [Oficjalny przewodnik Numpy](https://numpy.org/doc/stable/user/index.html)\n",
    "2. [Seria przewodników po funkcjonalnościach, o różnych poziomach zaawansowania](https://numpy.org/learn/)\n",
    "\n",
    "```"
   ]
  },
  {
   "cell_type": "markdown",
   "metadata": {},
   "source": [
    "### Przykład 1: Tworzenie macierzy i podstawowe operacje na nich"
   ]
  },
  {
   "cell_type": "code",
   "execution_count": 13,
   "metadata": {},
   "outputs": [
    {
     "name": "stdout",
     "output_type": "stream",
     "text": [
      "Macierz A:\n",
      " [[1 2 3]\n",
      " [4 5 6]\n",
      " [7 8 9]]\n",
      "Macierz A po transpozycji:\n",
      " [[1 4 7]\n",
      " [2 5 8]\n",
      " [3 6 9]]\n",
      "Wynik mnożenia A i B:\n",
      " [[ 30  24  18]\n",
      " [ 84  69  54]\n",
      " [138 114  90]]\n"
     ]
    }
   ],
   "source": [
    "import numpy as np\n",
    "\n",
    "# Tworzenie macierzy 3x3\n",
    "A = np.array([[1, 2, 3],\n",
    "              [4, 5, 6],\n",
    "              [7, 8, 9]])\n",
    "\n",
    "# Transpozycja macierzy\n",
    "A_transposed = A.T\n",
    "\n",
    "# Mnożenie macierzy\n",
    "B = np.array([[9, 8, 7],\n",
    "              [6, 5, 4],\n",
    "              [3, 2, 1]])\n",
    "result = np.dot(A, B)\n",
    "\n",
    "print(\"Macierz A:\\n\", A)\n",
    "print(\"Macierz A po transpozycji:\\n\", A_transposed)\n",
    "print(\"Wynik mnożenia A i B:\\n\", result)\n"
   ]
  },
  {
   "cell_type": "markdown",
   "metadata": {},
   "source": [
    "W powyższym kodzie utworzono macierz A o wymiarach 3x3, a następnie dokonano jej transpozycji. Następnie wykonano operację mnożenia macierzy A z macierzą B za pomocą funkcji np.dot."
   ]
  },
  {
   "cell_type": "markdown",
   "metadata": {},
   "source": [
    "### Przykład 2: Rozwiązywanie układów równań liniowych\n",
    "\n",
    "W poniższym przykładzie wykorzystamy numpy do rozwiazania układu równań liniowych:\n",
    "\n",
    "```{math}\n",
    "\\begin{align}\n",
    "\\begin{cases}\n",
    "x +2y &= 4 \\\\\n",
    "3x - 5y &= 1\n",
    "\\end{cases}\n",
    "\\end{align}\n",
    "```"
   ]
  },
  {
   "cell_type": "code",
   "execution_count": 14,
   "metadata": {},
   "outputs": [
    {
     "name": "stdout",
     "output_type": "stream",
     "text": [
      "Rozwiązanie układu to: [x,y] = [2. 1.]\n"
     ]
    }
   ],
   "source": [
    "X = np.array([\n",
    "    [1., 2.],\n",
    "    [3, -5]\n",
    "])\n",
    "y = np.array([4, 1])\n",
    "\n",
    "coef = np.linalg.solve(X, y)\n",
    "print(f\"Rozwiązanie układu to: [x,y] = {coef}\")"
   ]
  },
  {
   "cell_type": "markdown",
   "metadata": {},
   "source": [
    "## SciPy\n",
    "\n",
    "SciPy to rozbudowana biblioteka dla zaawansowanych obliczeń naukowych. Oferuje funkcje do optymalizacji procesów, rozwiązywania równań różniczkowych, statystyki, przetwarzania sygnałów i wielu innych zadań. W tej sekcji skupimy się na module `scipy.stats`, który zawiera zestaw narzędzi statystycznych, w tym rozkłady prawdopodobieństwa, testy statystyczne, oraz funkcje estymacji.\n",
    "\n",
    "```{admonition} Zastosowania SciPy\n",
    ":class: tip\n",
    "SciPy jest używany do:\n",
    "\n",
    "1. Przeprowadzania testów statystycznych (np. testu t-Studenta, testu chi-kwadrat, etc).\n",
    "2. Estymacji parametrów rozkładów.\n",
    "3. Analizy regresji i korelacji.\n",
    "\n",
    "```"
   ]
  },
  {
   "cell_type": "markdown",
   "metadata": {},
   "source": [
    "### Dodatkowe materiały\n",
    "\n",
    "\n",
    "```{admonition} Przydatne linki - SciPy\n",
    ":class: tip\n",
    "\n",
    "1. [Przewodnik po module Scipy Stats](https://docs.scipy.org/doc/scipy/tutorial/stats.html)\n",
    "2. [Kompleksowy kurs Scipy+Numpy](https://lectures.scientific-python.org/)\n",
    "\n",
    "```"
   ]
  },
  {
   "cell_type": "markdown",
   "metadata": {},
   "source": [
    "### Przykład 1: test T-studenta dla dwóch próbek"
   ]
  },
  {
   "cell_type": "code",
   "execution_count": 15,
   "metadata": {},
   "outputs": [
    {
     "name": "stdout",
     "output_type": "stream",
     "text": [
      "t-statystyka: -0.8401680504168061\n",
      "p-wartość: 0.4252097205513896\n"
     ]
    }
   ],
   "source": [
    "from scipy import stats\n",
    "\n",
    "# Przykładowe dane: dwie próbki\n",
    "sample1 = [5, 7, 8, 9, 10]\n",
    "sample2 = [6, 9, 7, 12, 11]\n",
    "\n",
    "# Test t-Studenta\n",
    "t_stat, p_value = stats.ttest_ind(sample1, sample2)\n",
    "\n",
    "print(\"t-statystyka:\", t_stat)\n",
    "print(\"p-wartość:\", p_value)\n"
   ]
  },
  {
   "cell_type": "markdown",
   "metadata": {},
   "source": [
    "W powyższym kodzie przeprowadzono test t-Studenta dla dwóch niezależnych próbek danych. Wynikiem jest t-statystyka oraz p-wartość, która mówi nam o tym, czy możemy odrzucić hipotezę zerową o równości średnich w populacji.\n"
   ]
  },
  {
   "cell_type": "markdown",
   "metadata": {},
   "source": [
    "### Przykad 2: Estymacja parametrów rozkładu"
   ]
  },
  {
   "cell_type": "code",
   "execution_count": 16,
   "metadata": {},
   "outputs": [
    {
     "name": "stdout",
     "output_type": "stream",
     "text": [
      "Estymowana średnia (mu): 9.978324397178323\n",
      "Estymowana odchylenie standardowe (std): 3.0785717223077307\n"
     ]
    }
   ],
   "source": [
    "# Przykładowe dane - normalnei nie wiemy, z jakiego rozkładu by pochodziły :)\n",
    "data = np.random.normal(loc=10, scale=3, size=1000)\n",
    "\n",
    "# Estymacja parametrów \"nieznanego\" rozkładu na podstawie danych\n",
    "mu, std = stats.norm.fit(data)\n",
    "\n",
    "print(\"Estymowana średnia (mu):\", mu)\n",
    "print(\"Estymowana odchylenie standardowe (std):\", std)\n"
   ]
  },
  {
   "cell_type": "markdown",
   "metadata": {},
   "source": [
    "W tym przykładzie przeprowadzono estymację parametrów rozkładu normalnego (średniej oraz odchylenia standardowego) na podstawie wygenerowanej próbki danych."
   ]
  },
  {
   "cell_type": "markdown",
   "metadata": {},
   "source": [
    "# Biblioteki do wizualizacji danych\n",
    "\n",
    "Wizualizacja danych to kluczowy element pracy z danymi, umożliwiający efektywne komunikowanie wyników analizy, odkrywanie wzorców i trendów, a także weryfikację hipotez. W tej sekcji omówimy trzy popularne biblioteki do wizualizacji danych: `matplotlib`, `seaborn` oraz `plotly`.\n",
    "\n",
    "\n"
   ]
  },
  {
   "cell_type": "markdown",
   "metadata": {},
   "source": [
    "## Matplotlib\n",
    "\n",
    "Matplotlib to podstawowa biblioteka do tworzenia wykresów w Pythonie. Jest niezwykle elastyczna i umożliwia tworzenie szerokiej gamy obrazów od prostych wykresów liniowych po skomplikowane wizualizacje 3D. Matplotlib jest często używany jako fundament dla innych bibliotek takich jak Seaborn.\n",
    "Oferuje kolosalną ilość funkcjonalności, których poznanie wymaga sporo czasu i wysiłku. W praktyce, zwykle uczymy się tych elementów, które najbardziej nam się przydadzą w prowadzonych analizach.\n",
    "\n",
    "\n",
    "```{admonition} Zastosowania Matplolib \n",
    ":class: tip\n",
    "\n",
    "Matplotlib jest używany do:\n",
    "\n",
    "1. Tworzenia wykresów liniowych, słupkowych, kołowych, histogramów, i wielu innych.\n",
    "2. Dostosowywania elementów wykresu, takich jak osie, legendy, etykiety, kolory.\n",
    "3. Tworzenia interaktywnych wykresów i animacji.\n",
    "```"
   ]
  },
  {
   "cell_type": "markdown",
   "metadata": {},
   "source": [
    "### Dodatkowe materiały\n",
    "\n",
    "```{admonition} Przydatne linki - Matplotlib\n",
    ":class: tip\n",
    "\n",
    "1. [Oficjalny przewodnik po funkcjonalnościach](https://matplotlib.org/stable/tutorials/index.html)\n",
    "2. [Przegląd podstawowych funkcji od DataCamp](https://www.datacamp.com/tutorial/matplotlib-tutorial-python)\n",
    "\n",
    "```"
   ]
  },
  {
   "cell_type": "markdown",
   "metadata": {},
   "source": [
    "### Przykład 1: Prosty wykres liniowy\n",
    "\n"
   ]
  },
  {
   "cell_type": "code",
   "execution_count": 17,
   "metadata": {},
   "outputs": [
    {
     "data": {
      "image/png": "[encoded data removed]",
      "text/plain": [
       "<Figure size 640x480 with 1 Axes>"
      ]
     },
     "metadata": {},
     "output_type": "display_data"
    }
   ],
   "source": [
    "import matplotlib.pyplot as plt\n",
    "\n",
    "# Przykładowe dane\n",
    "x = [1, 2, 3, 4, 5]\n",
    "y = [2, 3, 5, 7, 11]\n",
    "\n",
    "# Tworzenie wykresu liniowego\n",
    "plt.plot(x, y, marker='o')\n",
    "\n",
    "# Dodawanie tytułu i etykiet osi\n",
    "plt.title('Prosty wykres liniowy')\n",
    "plt.xlabel('X')\n",
    "plt.ylabel('Y')\n",
    "\n",
    "# Wyświetlanie wykresu\n",
    "plt.show()\n"
   ]
  },
  {
   "cell_type": "markdown",
   "metadata": {},
   "source": [
    "W powyższym przykładzie utworzono prosty wykres liniowy z pięcioma punktami. Dodano również tytuł wykresu oraz etykiety osi X i Y. Wykres został wygenerowany za pomocą funkcji plt.plot i wyświetlony z użyciem plt.show.\n"
   ]
  },
  {
   "cell_type": "markdown",
   "metadata": {},
   "source": [
    "### Przykład 2: Tworzenie histogramu i wykresu pudełkowego"
   ]
  },
  {
   "cell_type": "code",
   "execution_count": 18,
   "metadata": {},
   "outputs": [
    {
     "data": {
      "image/png": "[encoded data removed]",
      "text/plain": [
       "<Figure size 640x480 with 1 Axes>"
      ]
     },
     "metadata": {},
     "output_type": "display_data"
    },
    {
     "data": {
      "image/png": "[encoded data removed]",
      "text/plain": [
       "<Figure size 640x480 with 1 Axes>"
      ]
     },
     "metadata": {},
     "output_type": "display_data"
    }
   ],
   "source": [
    "# Generowanie losowych danych\n",
    "data = np.random.normal(0, 1, 1000)\n",
    "\n",
    "# Tworzenie histogramu\n",
    "plt.hist(data, bins=30, alpha=0.7, color='blue')\n",
    "plt.title('Histogram rozkładu normalnego')\n",
    "plt.xlabel('Wartość')\n",
    "plt.ylabel('Częstość')\n",
    "plt.show()\n",
    "\n",
    "# Tworzenie wykresu pudełkowego\n",
    "plt.boxplot(data)\n",
    "plt.title('Wykres pudełkowy')\n",
    "plt.show()\n"
   ]
  },
  {
   "cell_type": "markdown",
   "metadata": {},
   "source": [
    "W powyższym kodzie najpierw wygenerowano losowy zbiór danych o rozkładzie normalnym. Następnie utworzono histogram dla tych danych, a także wykres pudełkowy, który pomaga wizualizować rozkład oraz identyfikować wartości odstające.\n"
   ]
  },
  {
   "cell_type": "markdown",
   "metadata": {},
   "source": [
    "## Seaborn\n",
    "\n",
    "Seaborn to biblioteka zbudowana na bazie Matplotlib, która upraszcza proces tworzenia atrakcyjnych wizualnie wykresów. Seaborn oferuje domyślne style i palety kolorów, które poprawiają estetykę wykresów, a także dodatkowe funkcje ułatwiające wizualizację złożonych relacji między zmiennymi, jak wykresy rozrzutu z liniami regresji, wykresy skrzynkowe, czy wykresy gęstości.\n",
    "\n",
    "```{admonition} Zastosowania Seaborn\n",
    ":class: tip\n",
    "Seaborn jest używany do:\n",
    "\n",
    "1. Tworzenia bardziej zaawansowanych wykresów, jak wykresy korelacji, heatmapy.\n",
    "2. Wizualizacji rozkładów danych, takich jak wykresy gęstości, violin ploty.\n",
    "3. Łatwego łączenia danych kategorycznych z ilościowymi na wykresach.\n",
    "```\n",
    "\n"
   ]
  },
  {
   "cell_type": "markdown",
   "metadata": {},
   "source": [
    "### Dodatkowe materiały\n",
    "\n",
    "```{admonition} Przydatne linki - Seaborn\n",
    ":class: tip\n",
    "\n",
    "1. [Oficjalny przewodnik po bibliotece](https://seaborn.pydata.org/tutorial.html)\n",
    "2. [Kurs Seaborn od DataCamp](https://www.datacamp.com/community/tutorials/seaborn-python-tutorial)\n",
    "```"
   ]
  },
  {
   "cell_type": "markdown",
   "metadata": {},
   "source": [
    "### Przykład 1: Tworzenie wykresu rozrzutu z linią regresji"
   ]
  },
  {
   "cell_type": "code",
   "execution_count": 19,
   "metadata": {},
   "outputs": [
    {
     "data": {
      "image/png": "[encoded data removed]",
      "text/plain": [
       "<Figure size 500x500 with 1 Axes>"
      ]
     },
     "metadata": {},
     "output_type": "display_data"
    }
   ],
   "source": [
    "import seaborn as sns\n",
    "\n",
    "# Wczytywanie danych z seaborn\n",
    "tips = sns.load_dataset('tips')\n",
    "\n",
    "# Tworzenie wykresu rozrzutu z linią regresji\n",
    "sns.lmplot(x='total_bill', y='tip', data=tips)\n",
    "\n",
    "# Dodawanie tytułu wykresu\n",
    "plt.title('Relacja między rachunkiem a napiwkiem')\n",
    "plt.show()\n"
   ]
  },
  {
   "cell_type": "markdown",
   "metadata": {},
   "source": [
    "W powyższym przykładzie użyto wbudowanego w Seaborn zbioru danych tips i utworzono wykres rozrzutu, przedstawiający relację między wysokością rachunku a napiwkiem, z nałożoną linią regresji. Wykres jest automatycznie dostosowany do estetyki Seaborn.\n"
   ]
  },
  {
   "cell_type": "markdown",
   "metadata": {},
   "source": [
    "### Przykład 2: tworzenie wykresu pudełkowego (boxplot) i heatmapy"
   ]
  },
  {
   "cell_type": "code",
   "execution_count": 20,
   "metadata": {},
   "outputs": [
    {
     "data": {
      "image/png": "[encoded data removed]",
      "text/plain": [
       "<Figure size 640x480 with 1 Axes>"
      ]
     },
     "metadata": {},
     "output_type": "display_data"
    },
    {
     "data": {
      "image/png": "[encoded data removed]",
      "text/plain": [
       "<Figure size 640x480 with 2 Axes>"
      ]
     },
     "metadata": {},
     "output_type": "display_data"
    }
   ],
   "source": [
    "# Wykres skrzynkowy dla napiwków w zależności od dnia tygodnia\n",
    "sns.boxplot(x='day', y='tip', data=tips)\n",
    "plt.title('Napiwki w zależności od dnia tygodnia')\n",
    "plt.show()\n",
    "\n",
    "# Tworzenie macierzy korelacji\n",
    "corr = tips[['total_bill', 'tip', 'size']].corr()\n",
    "\n",
    "# Heatmapa korelacji\n",
    "sns.heatmap(corr, annot=True, cmap='coolwarm')\n",
    "plt.title('Macierz korelacji')\n",
    "plt.show()\n"
   ]
  },
  {
   "cell_type": "markdown",
   "metadata": {},
   "source": [
    "Najpierw stworzono wykres skrzynkowy, który porównuje rozkład napiwków w zależności od dnia tygodnia. Następnie, na podstawie macierzy korelacji obliczonej dla danych z tips, wygenerowano heatmapę z zaznaczonymi wartościami korelacji pomiędzy różnymi zmiennymi."
   ]
  },
  {
   "cell_type": "markdown",
   "metadata": {},
   "source": [
    "### Przykład 3: Tworzenie zaawansowanych wykresów wielofacetowych"
   ]
  },
  {
   "cell_type": "code",
   "execution_count": 21,
   "metadata": {},
   "outputs": [
    {
     "data": {
      "image/png": "[encoded data removed]",
      "text/plain": [
       "<Figure size 1270.49x800 with 6 Axes>"
      ]
     },
     "metadata": {},
     "output_type": "display_data"
    }
   ],
   "source": [
    "import seaborn as sns\n",
    "\n",
    "# Load the Titanic dataset\n",
    "titanic_data = sns.load_dataset('titanic')\n",
    "\n",
    "# Create a FacetGrid with multiple facets\n",
    "g = sns.FacetGrid(titanic_data, col='class', row='sex', hue='survived', height=4, sharey=False)\n",
    "\n",
    "# Add a scatter plot to each facet\n",
    "g.map(sns.scatterplot, 'age', 'fare')\n",
    "\n",
    "# Add a regression line to each facet\n",
    "g.map(sns.regplot, 'age', 'fare')\n",
    "\n",
    "# Set titles for each facet\n",
    "g.set_titles('Class: {col_name}, Sex: {row_name}')\n",
    "\n",
    "# Add a legend\n",
    "g.add_legend()\n",
    "\n",
    "# Show the plot\n",
    "plt.show()"
   ]
  },
  {
   "cell_type": "markdown",
   "metadata": {},
   "source": [
    "W przykładzie powyżej wykonano tzw. wykres wielofasetowy z użyciem Seaborn, dzieląc zbiór danych na różne kategorie i przedstawiając na kilku planszach. Jednocześnie nałożono także linie regresji."
   ]
  },
  {
   "cell_type": "markdown",
   "metadata": {},
   "source": [
    "## Plotly\n",
    "\n",
    "Plotly to biblioteka do tworzenia interaktywnych wykresów, która jest idealna do publikowania wyników analizy danych online. W przeciwieństwie do Matplotlib czy Seaborn, Plotly pozwala na tworzenie interaktywnych wizualizacji, które można łatwo integrować z aplikacjami internetowymi. Plotly obsługuje szeroki zakres wykresów, od podstawowych po zaawansowane, takie jak wykresy 3D, mapy geograficzne, wykresy sankey'ego i wiele innych.\n",
    "\n",
    "Co ważne, Plotly można operować na kilku poziomach złożoności:\n",
    "1. `Plotly Express` - wysokopoziomowy interfejs do tworzenia wykresów, który pozwala na szybkie generowanie wykresów z minimalną ilością kodu.\n",
    "2. `Plotly Graph Objects` - niskopoziomowy interfejs, który umożliwia pełną kontrolę nad wyglądem i zachowaniem wykresu.\n",
    "\n",
    "```{admonition} Zastosowania Plotly\n",
    ":class: tip\n",
    "Plotly jest używany do:\n",
    "1. Tworzenia interaktywnych wykresów, które można łatwo publikować online.\n",
    "2. Tworzenia zaawansowanych wykresów, takich jak wykresy 3D, mapy geograficzne, wykresy sankey'ego.\n",
    "3. Integracji z aplikacjami internetowymi.\n",
    "```\n",
    "\n",
    "### Dodatkowe materiały\n",
    "\n",
    "```{admonition} Przydatne linki - Plotly\n",
    ":class: tip\n",
    "1. [Oficjalny przewodnik po funkcjach Plotly](https://plotly.com/python/plotly-fundamentals/)\n",
    "2. [Kurs Plotly Express od DataCamp](https://www.datacamp.com/tutorial/python-plotly-express-tutorial)\n",
    "\n",
    "```\n",
    "\n",
    "\n",
    "```{admonition} Renderowanie wykresów w notebookach i książce\n",
    ":class: warning\n",
    "Wykresy tworzone w Plotly są pod spodem konwertowane do HTML. Z tego względu nie zawsze prawidłowo renderują się w postaci Jupyter Notebooka oraz w materiałach takich, jak ta książka. Warto zatem uruchomić kod w swoim środowisku, aby zobaczyć wykresy w pełnej krasie - np. w Google Colab albo lokalnie.\n",
    "```"
   ]
  },
  {
   "cell_type": "markdown",
   "metadata": {},
   "source": [
    "### Przykład 1: Tworzenie interaktywnego wykresu liniowego"
   ]
  },
  {
   "cell_type": "code",
   "execution_count": 22,
   "metadata": {},
   "outputs": [
    {
     "data": {
      "application/vnd.plotly.v1+json": {
       "config": {
        "plotlyServerURL": "https://plot.ly"
       },
       "data": [
        {
         "hovertemplate": "year=%{x}<br>gdpPercap=%{y}<extra></extra>",
         "legendgroup": "",
         "line": {
          "color": "#636efa",
          "dash": "solid"
         },
         "marker": {
          "symbol": "circle"
         },
         "mode": "lines",
         "name": "",
         "orientation": "v",
         "showlegend": false,
         "type": "scatter",
         "x": [
          1952,
          1957,
          1962,
          1967,
          1972,
          1977,
          1982,
          1987,
          1992,
          1997,
          2002,
          2007
         ],
         "xaxis": "x",
         "y": [
          11367.16112,
          12489.95006,
          13462.48555,
          16076.58803,
          18970.57086,
          22090.88306,
          22898.79214,
          26626.51503,
          26342.88426,
          28954.92589,
          33328.96507,
          36319.23501
         ],
         "yaxis": "y"
        }
       ],
       "layout": {
        "legend": {
         "tracegroupgap": 0
        },
        "template": {
         "data": {
          "bar": [
           {
            "error_x": {
             "color": "#2a3f5f"
            },
            "error_y": {
             "color": "#2a3f5f"
            },
            "marker": {
             "line": {
              "color": "#E5ECF6",
              "width": 0.5
             },
             "pattern": {
              "fillmode": "overlay",
              "size": 10,
              "solidity": 0.2
             }
            },
            "type": "bar"
           }
          ],
          "barpolar": [
           {
            "marker": {
             "line": {
              "color": "#E5ECF6",
              "width": 0.5
             },
             "pattern": {
              "fillmode": "overlay",
              "size": 10,
              "solidity": 0.2
             }
            },
            "type": "barpolar"
           }
          ],
          "carpet": [
           {
            "aaxis": {
             "endlinecolor": "#2a3f5f",
             "gridcolor": "white",
             "linecolor": "white",
             "minorgridcolor": "white",
             "startlinecolor": "#2a3f5f"
            },
            "baxis": {
             "endlinecolor": "#2a3f5f",
             "gridcolor": "white",
             "linecolor": "white",
             "minorgridcolor": "white",
             "startlinecolor": "#2a3f5f"
            },
            "type": "carpet"
           }
          ],
          "choropleth": [
           {
            "colorbar": {
             "outlinewidth": 0,
             "ticks": ""
            },
            "type": "choropleth"
           }
          ],
          "contour": [
           {
            "colorbar": {
             "outlinewidth": 0,
             "ticks": ""
            },
            "colorscale": [
             [
              0,
              "#0d0887"
             ],
             [
              0.1111111111111111,
              "#46039f"
             ],
             [
              0.2222222222222222,
              "#7201a8"
             ],
             [
              0.3333333333333333,
              "#9c179e"
             ],
             [
              0.4444444444444444,
              "#bd3786"
             ],
             [
              0.5555555555555556,
              "#d8576b"
             ],
             [
              0.6666666666666666,
              "#ed7953"
             ],
             [
              0.7777777777777778,
              "#fb9f3a"
             ],
             [
              0.8888888888888888,
              "#fdca26"
             ],
             [
              1,
              "#f0f921"
             ]
            ],
            "type": "contour"
           }
          ],
          "contourcarpet": [
           {
            "colorbar": {
             "outlinewidth": 0,
             "ticks": ""
            },
            "type": "contourcarpet"
           }
          ],
          "heatmap": [
           {
            "colorbar": {
             "outlinewidth": 0,
             "ticks": ""
            },
            "colorscale": [
             [
              0,
              "#0d0887"
             ],
             [
              0.1111111111111111,
              "#46039f"
             ],
             [
              0.2222222222222222,
              "#7201a8"
             ],
             [
              0.3333333333333333,
              "#9c179e"
             ],
             [
              0.4444444444444444,
              "#bd3786"
             ],
             [
              0.5555555555555556,
              "#d8576b"
             ],
             [
              0.6666666666666666,
              "#ed7953"
             ],
             [
              0.7777777777777778,
              "#fb9f3a"
             ],
             [
              0.8888888888888888,
              "#fdca26"
             ],
             [
              1,
              "#f0f921"
             ]
            ],
            "type": "heatmap"
           }
          ],
          "heatmapgl": [
           {
            "colorbar": {
             "outlinewidth": 0,
             "ticks": ""
            },
            "colorscale": [
             [
              0,
              "#0d0887"
             ],
             [
              0.1111111111111111,
              "#46039f"
             ],
             [
              0.2222222222222222,
              "#7201a8"
             ],
             [
              0.3333333333333333,
              "#9c179e"
             ],
             [
              0.4444444444444444,
              "#bd3786"
             ],
             [
              0.5555555555555556,
              "#d8576b"
             ],
             [
              0.6666666666666666,
              "#ed7953"
             ],
             [
              0.7777777777777778,
              "#fb9f3a"
             ],
             [
              0.8888888888888888,
              "#fdca26"
             ],
             [
              1,
              "#f0f921"
             ]
            ],
            "type": "heatmapgl"
           }
          ],
          "histogram": [
           {
            "marker": {
             "pattern": {
              "fillmode": "overlay",
              "size": 10,
              "solidity": 0.2
             }
            },
            "type": "histogram"
           }
          ],
          "histogram2d": [
           {
            "colorbar": {
             "outlinewidth": 0,
             "ticks": ""
            },
            "colorscale": [
             [
              0,
              "#0d0887"
             ],
             [
              0.1111111111111111,
              "#46039f"
             ],
             [
              0.2222222222222222,
              "#7201a8"
             ],
             [
              0.3333333333333333,
              "#9c179e"
             ],
             [
              0.4444444444444444,
              "#bd3786"
             ],
             [
              0.5555555555555556,
              "#d8576b"
             ],
             [
              0.6666666666666666,
              "#ed7953"
             ],
             [
              0.7777777777777778,
              "#fb9f3a"
             ],
             [
              0.8888888888888888,
              "#fdca26"
             ],
             [
              1,
              "#f0f921"
             ]
            ],
            "type": "histogram2d"
           }
          ],
          "histogram2dcontour": [
           {
            "colorbar": {
             "outlinewidth": 0,
             "ticks": ""
            },
            "colorscale": [
             [
              0,
              "#0d0887"
             ],
             [
              0.1111111111111111,
              "#46039f"
             ],
             [
              0.2222222222222222,
              "#7201a8"
             ],
             [
              0.3333333333333333,
              "#9c179e"
             ],
             [
              0.4444444444444444,
              "#bd3786"
             ],
             [
              0.5555555555555556,
              "#d8576b"
             ],
             [
              0.6666666666666666,
              "#ed7953"
             ],
             [
              0.7777777777777778,
              "#fb9f3a"
             ],
             [
              0.8888888888888888,
              "#fdca26"
             ],
             [
              1,
              "#f0f921"
             ]
            ],
            "type": "histogram2dcontour"
           }
          ],
          "mesh3d": [
           {
            "colorbar": {
             "outlinewidth": 0,
             "ticks": ""
            },
            "type": "mesh3d"
           }
          ],
          "parcoords": [
           {
            "line": {
             "colorbar": {
              "outlinewidth": 0,
              "ticks": ""
             }
            },
            "type": "parcoords"
           }
          ],
          "pie": [
           {
            "automargin": true,
            "type": "pie"
           }
          ],
          "scatter": [
           {
            "fillpattern": {
             "fillmode": "overlay",
             "size": 10,
             "solidity": 0.2
            },
            "type": "scatter"
           }
          ],
          "scatter3d": [
           {
            "line": {
             "colorbar": {
              "outlinewidth": 0,
              "ticks": ""
             }
            },
            "marker": {
             "colorbar": {
              "outlinewidth": 0,
              "ticks": ""
             }
            },
            "type": "scatter3d"
           }
          ],
          "scattercarpet": [
           {
            "marker": {
             "colorbar": {
              "outlinewidth": 0,
              "ticks": ""
             }
            },
            "type": "scattercarpet"
           }
          ],
          "scattergeo": [
           {
            "marker": {
             "colorbar": {
              "outlinewidth": 0,
              "ticks": ""
             }
            },
            "type": "scattergeo"
           }
          ],
          "scattergl": [
           {
            "marker": {
             "colorbar": {
              "outlinewidth": 0,
              "ticks": ""
             }
            },
            "type": "scattergl"
           }
          ],
          "scattermapbox": [
           {
            "marker": {
             "colorbar": {
              "outlinewidth": 0,
              "ticks": ""
             }
            },
            "type": "scattermapbox"
           }
          ],
          "scatterpolar": [
           {
            "marker": {
             "colorbar": {
              "outlinewidth": 0,
              "ticks": ""
             }
            },
            "type": "scatterpolar"
           }
          ],
          "scatterpolargl": [
           {
            "marker": {
             "colorbar": {
              "outlinewidth": 0,
              "ticks": ""
             }
            },
            "type": "scatterpolargl"
           }
          ],
          "scatterternary": [
           {
            "marker": {
             "colorbar": {
              "outlinewidth": 0,
              "ticks": ""
             }
            },
            "type": "scatterternary"
           }
          ],
          "surface": [
           {
            "colorbar": {
             "outlinewidth": 0,
             "ticks": ""
            },
            "colorscale": [
             [
              0,
              "#0d0887"
             ],
             [
              0.1111111111111111,
              "#46039f"
             ],
             [
              0.2222222222222222,
              "#7201a8"
             ],
             [
              0.3333333333333333,
              "#9c179e"
             ],
             [
              0.4444444444444444,
              "#bd3786"
             ],
             [
              0.5555555555555556,
              "#d8576b"
             ],
             [
              0.6666666666666666,
              "#ed7953"
             ],
             [
              0.7777777777777778,
              "#fb9f3a"
             ],
             [
              0.8888888888888888,
              "#fdca26"
             ],
             [
              1,
              "#f0f921"
             ]
            ],
            "type": "surface"
           }
          ],
          "table": [
           {
            "cells": {
             "fill": {
              "color": "#EBF0F8"
             },
             "line": {
              "color": "white"
             }
            },
            "header": {
             "fill": {
              "color": "#C8D4E3"
             },
             "line": {
              "color": "white"
             }
            },
            "type": "table"
           }
          ]
         },
         "layout": {
          "annotationdefaults": {
           "arrowcolor": "#2a3f5f",
           "arrowhead": 0,
           "arrowwidth": 1
          },
          "autotypenumbers": "strict",
          "coloraxis": {
           "colorbar": {
            "outlinewidth": 0,
            "ticks": ""
           }
          },
          "colorscale": {
           "diverging": [
            [
             0,
             "#8e0152"
            ],
            [
             0.1,
             "#c51b7d"
            ],
            [
             0.2,
             "#de77ae"
            ],
            [
             0.3,
             "#f1b6da"
            ],
            [
             0.4,
             "#fde0ef"
            ],
            [
             0.5,
             "#f7f7f7"
            ],
            [
             0.6,
             "#e6f5d0"
            ],
            [
             0.7,
             "#b8e186"
            ],
            [
             0.8,
             "#7fbc41"
            ],
            [
             0.9,
             "#4d9221"
            ],
            [
             1,
             "#276419"
            ]
           ],
           "sequential": [
            [
             0,
             "#0d0887"
            ],
            [
             0.1111111111111111,
             "#46039f"
            ],
            [
             0.2222222222222222,
             "#7201a8"
            ],
            [
             0.3333333333333333,
             "#9c179e"
            ],
            [
             0.4444444444444444,
             "#bd3786"
            ],
            [
             0.5555555555555556,
             "#d8576b"
            ],
            [
             0.6666666666666666,
             "#ed7953"
            ],
            [
             0.7777777777777778,
             "#fb9f3a"
            ],
            [
             0.8888888888888888,
             "#fdca26"
            ],
            [
             1,
             "#f0f921"
            ]
           ],
           "sequentialminus": [
            [
             0,
             "#0d0887"
            ],
            [
             0.1111111111111111,
             "#46039f"
            ],
            [
             0.2222222222222222,
             "#7201a8"
            ],
            [
             0.3333333333333333,
             "#9c179e"
            ],
            [
             0.4444444444444444,
             "#bd3786"
            ],
            [
             0.5555555555555556,
             "#d8576b"
            ],
            [
             0.6666666666666666,
             "#ed7953"
            ],
            [
             0.7777777777777778,
             "#fb9f3a"
            ],
            [
             0.8888888888888888,
             "#fdca26"
            ],
            [
             1,
             "#f0f921"
            ]
           ]
          },
          "colorway": [
           "#636efa",
           "#EF553B",
           "#00cc96",
           "#ab63fa",
           "#FFA15A",
           "#19d3f3",
           "#FF6692",
           "#B6E880",
           "#FF97FF",
           "#FECB52"
          ],
          "font": {
           "color": "#2a3f5f"
          },
          "geo": {
           "bgcolor": "white",
           "lakecolor": "white",
           "landcolor": "#E5ECF6",
           "showlakes": true,
           "showland": true,
           "subunitcolor": "white"
          },
          "hoverlabel": {
           "align": "left"
          },
          "hovermode": "closest",
          "mapbox": {
           "style": "light"
          },
          "paper_bgcolor": "white",
          "plot_bgcolor": "#E5ECF6",
          "polar": {
           "angularaxis": {
            "gridcolor": "white",
            "linecolor": "white",
            "ticks": ""
           },
           "bgcolor": "#E5ECF6",
           "radialaxis": {
            "gridcolor": "white",
            "linecolor": "white",
            "ticks": ""
           }
          },
          "scene": {
           "xaxis": {
            "backgroundcolor": "#E5ECF6",
            "gridcolor": "white",
            "gridwidth": 2,
            "linecolor": "white",
            "showbackground": true,
            "ticks": "",
            "zerolinecolor": "white"
           },
           "yaxis": {
            "backgroundcolor": "#E5ECF6",
            "gridcolor": "white",
            "gridwidth": 2,
            "linecolor": "white",
            "showbackground": true,
            "ticks": "",
            "zerolinecolor": "white"
           },
           "zaxis": {
            "backgroundcolor": "#E5ECF6",
            "gridcolor": "white",
            "gridwidth": 2,
            "linecolor": "white",
            "showbackground": true,
            "ticks": "",
            "zerolinecolor": "white"
           }
          },
          "shapedefaults": {
           "line": {
            "color": "#2a3f5f"
           }
          },
          "ternary": {
           "aaxis": {
            "gridcolor": "white",
            "linecolor": "white",
            "ticks": ""
           },
           "baxis": {
            "gridcolor": "white",
            "linecolor": "white",
            "ticks": ""
           },
           "bgcolor": "#E5ECF6",
           "caxis": {
            "gridcolor": "white",
            "linecolor": "white",
            "ticks": ""
           }
          },
          "title": {
           "x": 0.05
          },
          "xaxis": {
           "automargin": true,
           "gridcolor": "white",
           "linecolor": "white",
           "ticks": "",
           "title": {
            "standoff": 15
           },
           "zerolinecolor": "white",
           "zerolinewidth": 2
          },
          "yaxis": {
           "automargin": true,
           "gridcolor": "white",
           "linecolor": "white",
           "ticks": "",
           "title": {
            "standoff": 15
           },
           "zerolinecolor": "white",
           "zerolinewidth": 2
          }
         }
        },
        "title": {
         "text": "GDP per Capita in Canada"
        },
        "xaxis": {
         "anchor": "y",
         "domain": [
          0,
          1
         ],
         "title": {
          "text": "year"
         }
        },
        "yaxis": {
         "anchor": "x",
         "domain": [
          0,
          1
         ],
         "title": {
          "text": "gdpPercap"
         }
        }
       }
      }
     },
     "metadata": {},
     "output_type": "display_data"
    }
   ],
   "source": [
    "import plotly.express as px\n",
    "\n",
    "# Przykładowe dane\n",
    "df = px.data.gapminder().query(\"country=='Canada'\")\n",
    "\n",
    "# Tworzenie interaktywnego wykresu liniowego\n",
    "fig = px.line(df, x='year', y='gdpPercap', title='GDP per Capita in Canada')\n",
    "\n",
    "# Wyświetlanie wykresu\n",
    "fig.show()"
   ]
  },
  {
   "cell_type": "markdown",
   "metadata": {},
   "source": [
    "W tym przykładzie użyto wbudowanego zbioru danych gapminder i utworzono interaktywny wykres liniowy przedstawiający wzrost PKB na mieszkańca w Kanadzie na przestrzeni lat. Wykres można eksplorować, np. przybliżając wybrane fragmenty lub klikając na punkty danych.\n",
    "\n"
   ]
  },
  {
   "cell_type": "markdown",
   "metadata": {},
   "source": [
    "### Przykład 2: Tworzenie wykresu 3D"
   ]
  },
  {
   "cell_type": "code",
   "execution_count": 23,
   "metadata": {},
   "outputs": [
    {
     "data": {
      "application/vnd.plotly.v1+json": {
       "config": {
        "plotlyServerURL": "https://plot.ly"
       },
       "data": [
        {
         "hovertemplate": "species=setosa<br>sepal_length=%{x}<br>sepal_width=%{y}<br>petal_length=%{z}<extra></extra>",
         "legendgroup": "setosa",
         "marker": {
          "color": "#636efa",
          "symbol": "circle"
         },
         "mode": "markers",
         "name": "setosa",
         "scene": "scene",
         "showlegend": true,
         "type": "scatter3d",
         "x": [
          5.1,
          4.9,
          4.7,
          4.6,
          5,
          5.4,
          4.6,
          5,
          4.4,
          4.9,
          5.4,
          4.8,
          4.8,
          4.3,
          5.8,
          5.7,
          5.4,
          5.1,
          5.7,
          5.1,
          5.4,
          5.1,
          4.6,
          5.1,
          4.8,
          5,
          5,
          5.2,
          5.2,
          4.7,
          4.8,
          5.4,
          5.2,
          5.5,
          4.9,
          5,
          5.5,
          4.9,
          4.4,
          5.1,
          5,
          4.5,
          4.4,
          5,
          5.1,
          4.8,
          5.1,
          4.6,
          5.3,
          5
         ],
         "y": [
          3.5,
          3,
          3.2,
          3.1,
          3.6,
          3.9,
          3.4,
          3.4,
          2.9,
          3.1,
          3.7,
          3.4,
          3,
          3,
          4,
          4.4,
          3.9,
          3.5,
          3.8,
          3.8,
          3.4,
          3.7,
          3.6,
          3.3,
          3.4,
          3,
          3.4,
          3.5,
          3.4,
          3.2,
          3.1,
          3.4,
          4.1,
          4.2,
          3.1,
          3.2,
          3.5,
          3.1,
          3,
          3.4,
          3.5,
          2.3,
          3.2,
          3.5,
          3.8,
          3,
          3.8,
          3.2,
          3.7,
          3.3
         ],
         "z": [
          1.4,
          1.4,
          1.3,
          1.5,
          1.4,
          1.7,
          1.4,
          1.5,
          1.4,
          1.5,
          1.5,
          1.6,
          1.4,
          1.1,
          1.2,
          1.5,
          1.3,
          1.4,
          1.7,
          1.5,
          1.7,
          1.5,
          1,
          1.7,
          1.9,
          1.6,
          1.6,
          1.5,
          1.4,
          1.6,
          1.6,
          1.5,
          1.5,
          1.4,
          1.5,
          1.2,
          1.3,
          1.5,
          1.3,
          1.5,
          1.3,
          1.3,
          1.3,
          1.6,
          1.9,
          1.4,
          1.6,
          1.4,
          1.5,
          1.4
         ]
        },
        {
         "hovertemplate": "species=versicolor<br>sepal_length=%{x}<br>sepal_width=%{y}<br>petal_length=%{z}<extra></extra>",
         "legendgroup": "versicolor",
         "marker": {
          "color": "#EF553B",
          "symbol": "circle"
         },
         "mode": "markers",
         "name": "versicolor",
         "scene": "scene",
         "showlegend": true,
         "type": "scatter3d",
         "x": [
          7,
          6.4,
          6.9,
          5.5,
          6.5,
          5.7,
          6.3,
          4.9,
          6.6,
          5.2,
          5,
          5.9,
          6,
          6.1,
          5.6,
          6.7,
          5.6,
          5.8,
          6.2,
          5.6,
          5.9,
          6.1,
          6.3,
          6.1,
          6.4,
          6.6,
          6.8,
          6.7,
          6,
          5.7,
          5.5,
          5.5,
          5.8,
          6,
          5.4,
          6,
          6.7,
          6.3,
          5.6,
          5.5,
          5.5,
          6.1,
          5.8,
          5,
          5.6,
          5.7,
          5.7,
          6.2,
          5.1,
          5.7
         ],
         "y": [
          3.2,
          3.2,
          3.1,
          2.3,
          2.8,
          2.8,
          3.3,
          2.4,
          2.9,
          2.7,
          2,
          3,
          2.2,
          2.9,
          2.9,
          3.1,
          3,
          2.7,
          2.2,
          2.5,
          3.2,
          2.8,
          2.5,
          2.8,
          2.9,
          3,
          2.8,
          3,
          2.9,
          2.6,
          2.4,
          2.4,
          2.7,
          2.7,
          3,
          3.4,
          3.1,
          2.3,
          3,
          2.5,
          2.6,
          3,
          2.6,
          2.3,
          2.7,
          3,
          2.9,
          2.9,
          2.5,
          2.8
         ],
         "z": [
          4.7,
          4.5,
          4.9,
          4,
          4.6,
          4.5,
          4.7,
          3.3,
          4.6,
          3.9,
          3.5,
          4.2,
          4,
          4.7,
          3.6,
          4.4,
          4.5,
          4.1,
          4.5,
          3.9,
          4.8,
          4,
          4.9,
          4.7,
          4.3,
          4.4,
          4.8,
          5,
          4.5,
          3.5,
          3.8,
          3.7,
          3.9,
          5.1,
          4.5,
          4.5,
          4.7,
          4.4,
          4.1,
          4,
          4.4,
          4.6,
          4,
          3.3,
          4.2,
          4.2,
          4.2,
          4.3,
          3,
          4.1
         ]
        },
        {
         "hovertemplate": "species=virginica<br>sepal_length=%{x}<br>sepal_width=%{y}<br>petal_length=%{z}<extra></extra>",
         "legendgroup": "virginica",
         "marker": {
          "color": "#00cc96",
          "symbol": "circle"
         },
         "mode": "markers",
         "name": "virginica",
         "scene": "scene",
         "showlegend": true,
         "type": "scatter3d",
         "x": [
          6.3,
          5.8,
          7.1,
          6.3,
          6.5,
          7.6,
          4.9,
          7.3,
          6.7,
          7.2,
          6.5,
          6.4,
          6.8,
          5.7,
          5.8,
          6.4,
          6.5,
          7.7,
          7.7,
          6,
          6.9,
          5.6,
          7.7,
          6.3,
          6.7,
          7.2,
          6.2,
          6.1,
          6.4,
          7.2,
          7.4,
          7.9,
          6.4,
          6.3,
          6.1,
          7.7,
          6.3,
          6.4,
          6,
          6.9,
          6.7,
          6.9,
          5.8,
          6.8,
          6.7,
          6.7,
          6.3,
          6.5,
          6.2,
          5.9
         ],
         "y": [
          3.3,
          2.7,
          3,
          2.9,
          3,
          3,
          2.5,
          2.9,
          2.5,
          3.6,
          3.2,
          2.7,
          3,
          2.5,
          2.8,
          3.2,
          3,
          3.8,
          2.6,
          2.2,
          3.2,
          2.8,
          2.8,
          2.7,
          3.3,
          3.2,
          2.8,
          3,
          2.8,
          3,
          2.8,
          3.8,
          2.8,
          2.8,
          2.6,
          3,
          3.4,
          3.1,
          3,
          3.1,
          3.1,
          3.1,
          2.7,
          3.2,
          3.3,
          3,
          2.5,
          3,
          3.4,
          3
         ],
         "z": [
          6,
          5.1,
          5.9,
          5.6,
          5.8,
          6.6,
          4.5,
          6.3,
          5.8,
          6.1,
          5.1,
          5.3,
          5.5,
          5,
          5.1,
          5.3,
          5.5,
          6.7,
          6.9,
          5,
          5.7,
          4.9,
          6.7,
          4.9,
          5.7,
          6,
          4.8,
          4.9,
          5.6,
          5.8,
          6.1,
          6.4,
          5.6,
          5.1,
          5.6,
          6.1,
          5.6,
          5.5,
          4.8,
          5.4,
          5.6,
          5.1,
          5.1,
          5.9,
          5.7,
          5.2,
          5,
          5.2,
          5.4,
          5.1
         ]
        }
       ],
       "layout": {
        "legend": {
         "title": {
          "text": "species"
         },
         "tracegroupgap": 0
        },
        "scene": {
         "domain": {
          "x": [
           0,
           1
          ],
          "y": [
           0,
           1
          ]
         },
         "xaxis": {
          "title": {
           "text": "sepal_length"
          }
         },
         "yaxis": {
          "title": {
           "text": "sepal_width"
          }
         },
         "zaxis": {
          "title": {
           "text": "petal_length"
          }
         }
        },
        "template": {
         "data": {
          "bar": [
           {
            "error_x": {
             "color": "#2a3f5f"
            },
            "error_y": {
             "color": "#2a3f5f"
            },
            "marker": {
             "line": {
              "color": "#E5ECF6",
              "width": 0.5
             },
             "pattern": {
              "fillmode": "overlay",
              "size": 10,
              "solidity": 0.2
             }
            },
            "type": "bar"
           }
          ],
          "barpolar": [
           {
            "marker": {
             "line": {
              "color": "#E5ECF6",
              "width": 0.5
             },
             "pattern": {
              "fillmode": "overlay",
              "size": 10,
              "solidity": 0.2
             }
            },
            "type": "barpolar"
           }
          ],
          "carpet": [
           {
            "aaxis": {
             "endlinecolor": "#2a3f5f",
             "gridcolor": "white",
             "linecolor": "white",
             "minorgridcolor": "white",
             "startlinecolor": "#2a3f5f"
            },
            "baxis": {
             "endlinecolor": "#2a3f5f",
             "gridcolor": "white",
             "linecolor": "white",
             "minorgridcolor": "white",
             "startlinecolor": "#2a3f5f"
            },
            "type": "carpet"
           }
          ],
          "choropleth": [
           {
            "colorbar": {
             "outlinewidth": 0,
             "ticks": ""
            },
            "type": "choropleth"
           }
          ],
          "contour": [
           {
            "colorbar": {
             "outlinewidth": 0,
             "ticks": ""
            },
            "colorscale": [
             [
              0,
              "#0d0887"
             ],
             [
              0.1111111111111111,
              "#46039f"
             ],
             [
              0.2222222222222222,
              "#7201a8"
             ],
             [
              0.3333333333333333,
              "#9c179e"
             ],
             [
              0.4444444444444444,
              "#bd3786"
             ],
             [
              0.5555555555555556,
              "#d8576b"
             ],
             [
              0.6666666666666666,
              "#ed7953"
             ],
             [
              0.7777777777777778,
              "#fb9f3a"
             ],
             [
              0.8888888888888888,
              "#fdca26"
             ],
             [
              1,
              "#f0f921"
             ]
            ],
            "type": "contour"
           }
          ],
          "contourcarpet": [
           {
            "colorbar": {
             "outlinewidth": 0,
             "ticks": ""
            },
            "type": "contourcarpet"
           }
          ],
          "heatmap": [
           {
            "colorbar": {
             "outlinewidth": 0,
             "ticks": ""
            },
            "colorscale": [
             [
              0,
              "#0d0887"
             ],
             [
              0.1111111111111111,
              "#46039f"
             ],
             [
              0.2222222222222222,
              "#7201a8"
             ],
             [
              0.3333333333333333,
              "#9c179e"
             ],
             [
              0.4444444444444444,
              "#bd3786"
             ],
             [
              0.5555555555555556,
              "#d8576b"
             ],
             [
              0.6666666666666666,
              "#ed7953"
             ],
             [
              0.7777777777777778,
              "#fb9f3a"
             ],
             [
              0.8888888888888888,
              "#fdca26"
             ],
             [
              1,
              "#f0f921"
             ]
            ],
            "type": "heatmap"
           }
          ],
          "heatmapgl": [
           {
            "colorbar": {
             "outlinewidth": 0,
             "ticks": ""
            },
            "colorscale": [
             [
              0,
              "#0d0887"
             ],
             [
              0.1111111111111111,
              "#46039f"
             ],
             [
              0.2222222222222222,
              "#7201a8"
             ],
             [
              0.3333333333333333,
              "#9c179e"
             ],
             [
              0.4444444444444444,
              "#bd3786"
             ],
             [
              0.5555555555555556,
              "#d8576b"
             ],
             [
              0.6666666666666666,
              "#ed7953"
             ],
             [
              0.7777777777777778,
              "#fb9f3a"
             ],
             [
              0.8888888888888888,
              "#fdca26"
             ],
             [
              1,
              "#f0f921"
             ]
            ],
            "type": "heatmapgl"
           }
          ],
          "histogram": [
           {
            "marker": {
             "pattern": {
              "fillmode": "overlay",
              "size": 10,
              "solidity": 0.2
             }
            },
            "type": "histogram"
           }
          ],
          "histogram2d": [
           {
            "colorbar": {
             "outlinewidth": 0,
             "ticks": ""
            },
            "colorscale": [
             [
              0,
              "#0d0887"
             ],
             [
              0.1111111111111111,
              "#46039f"
             ],
             [
              0.2222222222222222,
              "#7201a8"
             ],
             [
              0.3333333333333333,
              "#9c179e"
             ],
             [
              0.4444444444444444,
              "#bd3786"
             ],
             [
              0.5555555555555556,
              "#d8576b"
             ],
             [
              0.6666666666666666,
              "#ed7953"
             ],
             [
              0.7777777777777778,
              "#fb9f3a"
             ],
             [
              0.8888888888888888,
              "#fdca26"
             ],
             [
              1,
              "#f0f921"
             ]
            ],
            "type": "histogram2d"
           }
          ],
          "histogram2dcontour": [
           {
            "colorbar": {
             "outlinewidth": 0,
             "ticks": ""
            },
            "colorscale": [
             [
              0,
              "#0d0887"
             ],
             [
              0.1111111111111111,
              "#46039f"
             ],
             [
              0.2222222222222222,
              "#7201a8"
             ],
             [
              0.3333333333333333,
              "#9c179e"
             ],
             [
              0.4444444444444444,
              "#bd3786"
             ],
             [
              0.5555555555555556,
              "#d8576b"
             ],
             [
              0.6666666666666666,
              "#ed7953"
             ],
             [
              0.7777777777777778,
              "#fb9f3a"
             ],
             [
              0.8888888888888888,
              "#fdca26"
             ],
             [
              1,
              "#f0f921"
             ]
            ],
            "type": "histogram2dcontour"
           }
          ],
          "mesh3d": [
           {
            "colorbar": {
             "outlinewidth": 0,
             "ticks": ""
            },
            "type": "mesh3d"
           }
          ],
          "parcoords": [
           {
            "line": {
             "colorbar": {
              "outlinewidth": 0,
              "ticks": ""
             }
            },
            "type": "parcoords"
           }
          ],
          "pie": [
           {
            "automargin": true,
            "type": "pie"
           }
          ],
          "scatter": [
           {
            "fillpattern": {
             "fillmode": "overlay",
             "size": 10,
             "solidity": 0.2
            },
            "type": "scatter"
           }
          ],
          "scatter3d": [
           {
            "line": {
             "colorbar": {
              "outlinewidth": 0,
              "ticks": ""
             }
            },
            "marker": {
             "colorbar": {
              "outlinewidth": 0,
              "ticks": ""
             }
            },
            "type": "scatter3d"
           }
          ],
          "scattercarpet": [
           {
            "marker": {
             "colorbar": {
              "outlinewidth": 0,
              "ticks": ""
             }
            },
            "type": "scattercarpet"
           }
          ],
          "scattergeo": [
           {
            "marker": {
             "colorbar": {
              "outlinewidth": 0,
              "ticks": ""
             }
            },
            "type": "scattergeo"
           }
          ],
          "scattergl": [
           {
            "marker": {
             "colorbar": {
              "outlinewidth": 0,
              "ticks": ""
             }
            },
            "type": "scattergl"
           }
          ],
          "scattermapbox": [
           {
            "marker": {
             "colorbar": {
              "outlinewidth": 0,
              "ticks": ""
             }
            },
            "type": "scattermapbox"
           }
          ],
          "scatterpolar": [
           {
            "marker": {
             "colorbar": {
              "outlinewidth": 0,
              "ticks": ""
             }
            },
            "type": "scatterpolar"
           }
          ],
          "scatterpolargl": [
           {
            "marker": {
             "colorbar": {
              "outlinewidth": 0,
              "ticks": ""
             }
            },
            "type": "scatterpolargl"
           }
          ],
          "scatterternary": [
           {
            "marker": {
             "colorbar": {
              "outlinewidth": 0,
              "ticks": ""
             }
            },
            "type": "scatterternary"
           }
          ],
          "surface": [
           {
            "colorbar": {
             "outlinewidth": 0,
             "ticks": ""
            },
            "colorscale": [
             [
              0,
              "#0d0887"
             ],
             [
              0.1111111111111111,
              "#46039f"
             ],
             [
              0.2222222222222222,
              "#7201a8"
             ],
             [
              0.3333333333333333,
              "#9c179e"
             ],
             [
              0.4444444444444444,
              "#bd3786"
             ],
             [
              0.5555555555555556,
              "#d8576b"
             ],
             [
              0.6666666666666666,
              "#ed7953"
             ],
             [
              0.7777777777777778,
              "#fb9f3a"
             ],
             [
              0.8888888888888888,
              "#fdca26"
             ],
             [
              1,
              "#f0f921"
             ]
            ],
            "type": "surface"
           }
          ],
          "table": [
           {
            "cells": {
             "fill": {
              "color": "#EBF0F8"
             },
             "line": {
              "color": "white"
             }
            },
            "header": {
             "fill": {
              "color": "#C8D4E3"
             },
             "line": {
              "color": "white"
             }
            },
            "type": "table"
           }
          ]
         },
         "layout": {
          "annotationdefaults": {
           "arrowcolor": "#2a3f5f",
           "arrowhead": 0,
           "arrowwidth": 1
          },
          "autotypenumbers": "strict",
          "coloraxis": {
           "colorbar": {
            "outlinewidth": 0,
            "ticks": ""
           }
          },
          "colorscale": {
           "diverging": [
            [
             0,
             "#8e0152"
            ],
            [
             0.1,
             "#c51b7d"
            ],
            [
             0.2,
             "#de77ae"
            ],
            [
             0.3,
             "#f1b6da"
            ],
            [
             0.4,
             "#fde0ef"
            ],
            [
             0.5,
             "#f7f7f7"
            ],
            [
             0.6,
             "#e6f5d0"
            ],
            [
             0.7,
             "#b8e186"
            ],
            [
             0.8,
             "#7fbc41"
            ],
            [
             0.9,
             "#4d9221"
            ],
            [
             1,
             "#276419"
            ]
           ],
           "sequential": [
            [
             0,
             "#0d0887"
            ],
            [
             0.1111111111111111,
             "#46039f"
            ],
            [
             0.2222222222222222,
             "#7201a8"
            ],
            [
             0.3333333333333333,
             "#9c179e"
            ],
            [
             0.4444444444444444,
             "#bd3786"
            ],
            [
             0.5555555555555556,
             "#d8576b"
            ],
            [
             0.6666666666666666,
             "#ed7953"
            ],
            [
             0.7777777777777778,
             "#fb9f3a"
            ],
            [
             0.8888888888888888,
             "#fdca26"
            ],
            [
             1,
             "#f0f921"
            ]
           ],
           "sequentialminus": [
            [
             0,
             "#0d0887"
            ],
            [
             0.1111111111111111,
             "#46039f"
            ],
            [
             0.2222222222222222,
             "#7201a8"
            ],
            [
             0.3333333333333333,
             "#9c179e"
            ],
            [
             0.4444444444444444,
             "#bd3786"
            ],
            [
             0.5555555555555556,
             "#d8576b"
            ],
            [
             0.6666666666666666,
             "#ed7953"
            ],
            [
             0.7777777777777778,
             "#fb9f3a"
            ],
            [
             0.8888888888888888,
             "#fdca26"
            ],
            [
             1,
             "#f0f921"
            ]
           ]
          },
          "colorway": [
           "#636efa",
           "#EF553B",
           "#00cc96",
           "#ab63fa",
           "#FFA15A",
           "#19d3f3",
           "#FF6692",
           "#B6E880",
           "#FF97FF",
           "#FECB52"
          ],
          "font": {
           "color": "#2a3f5f"
          },
          "geo": {
           "bgcolor": "white",
           "lakecolor": "white",
           "landcolor": "#E5ECF6",
           "showlakes": true,
           "showland": true,
           "subunitcolor": "white"
          },
          "hoverlabel": {
           "align": "left"
          },
          "hovermode": "closest",
          "mapbox": {
           "style": "light"
          },
          "paper_bgcolor": "white",
          "plot_bgcolor": "#E5ECF6",
          "polar": {
           "angularaxis": {
            "gridcolor": "white",
            "linecolor": "white",
            "ticks": ""
           },
           "bgcolor": "#E5ECF6",
           "radialaxis": {
            "gridcolor": "white",
            "linecolor": "white",
            "ticks": ""
           }
          },
          "scene": {
           "xaxis": {
            "backgroundcolor": "#E5ECF6",
            "gridcolor": "white",
            "gridwidth": 2,
            "linecolor": "white",
            "showbackground": true,
            "ticks": "",
            "zerolinecolor": "white"
           },
           "yaxis": {
            "backgroundcolor": "#E5ECF6",
            "gridcolor": "white",
            "gridwidth": 2,
            "linecolor": "white",
            "showbackground": true,
            "ticks": "",
            "zerolinecolor": "white"
           },
           "zaxis": {
            "backgroundcolor": "#E5ECF6",
            "gridcolor": "white",
            "gridwidth": 2,
            "linecolor": "white",
            "showbackground": true,
            "ticks": "",
            "zerolinecolor": "white"
           }
          },
          "shapedefaults": {
           "line": {
            "color": "#2a3f5f"
           }
          },
          "ternary": {
           "aaxis": {
            "gridcolor": "white",
            "linecolor": "white",
            "ticks": ""
           },
           "baxis": {
            "gridcolor": "white",
            "linecolor": "white",
            "ticks": ""
           },
           "bgcolor": "#E5ECF6",
           "caxis": {
            "gridcolor": "white",
            "linecolor": "white",
            "ticks": ""
           }
          },
          "title": {
           "x": 0.05
          },
          "xaxis": {
           "automargin": true,
           "gridcolor": "white",
           "linecolor": "white",
           "ticks": "",
           "title": {
            "standoff": 15
           },
           "zerolinecolor": "white",
           "zerolinewidth": 2
          },
          "yaxis": {
           "automargin": true,
           "gridcolor": "white",
           "linecolor": "white",
           "ticks": "",
           "title": {
            "standoff": 15
           },
           "zerolinecolor": "white",
           "zerolinewidth": 2
          }
         }
        },
        "title": {
         "text": "3D Scatter Plot - Iris Dataset"
        }
       }
      }
     },
     "metadata": {},
     "output_type": "display_data"
    }
   ],
   "source": [
    "# Przykładowe dane\n",
    "df = px.data.iris()\n",
    "\n",
    "# Tworzenie wykresu 3D\n",
    "fig = px.scatter_3d(df, x='sepal_length', y='sepal_width', z='petal_length',\n",
    "                    color='species', title='3D Scatter Plot - Iris Dataset')\n",
    "\n",
    "# Wyświetlanie wykresu\n",
    "fig.show()\n"
   ]
  },
  {
   "cell_type": "markdown",
   "metadata": {},
   "source": [
    "W tym przykładzie stworzono trójwymiarowy wykres rozrzutu dla zbioru danych iris, który jest często używany do testowania algorytmów uczenia maszynowego. Kolory na wykresie reprezentują różne gatunki irysów, a wykres jest interaktywny, co umożliwia obracanie i przybliżanie przestrzeni 3D.\n",
    "\n"
   ]
  },
  {
   "cell_type": "markdown",
   "metadata": {},
   "source": [
    "# Biblioteki uczenia maszynowego\n",
    "\n",
    "W poniższej sekcji omówimy wyłącznie **najważniejsze** biblioteki przeznaczone do uczenia maszynowego. Warto zaznaczyć, że w tej dziedzinie istnieje wiele innych narzędzi, które są używane w zależności od konkretnego problemu, takich jak np. `XGBoost`, `LightGBM`, `CatBoost` do modeli gradient boosting, czy `TensorFlow`, `PyTorch`, `Keras` do sieci neuronowych. Nie sposób tutaj wymienić i przedstawić ich wszystkich.\n",
    "\n",
    "Co więcej - nawet w obrębie omówionych tutaj bibliotek jak `scikit-learn` znajduja się setki (jeśli nie tysiące) różnych algorytmów, które można wykorzystać do rozwiązania konkretnego problemu. Warto zatem zapoznać się z oficjalną dokumentacją, aby dowiedzieć się, jakie funkcjonalności są dostępne.\n",
    "\n",
    "W tym opracowaniu chcemy przedstawić tylko przykłady zastosowania, oraz podstawowe funkcjonalności, które są dostępne w wybranych bibliotekach, wskazując punkt startowy do dalszej eksploracji narzędzi."
   ]
  },
  {
   "cell_type": "markdown",
   "metadata": {},
   "source": [
    "## Scikit-learn\n",
    "\n",
    "Scikit-learn to jedna z najbardziej wszechstronnych i najczęściej używanych bibliotek do uczenia maszynowego w Pythonie. Oferuje narzędzia do przetwarzania danych, uczenia nadzorowanego i nienadzorowanego, a także do oceny i wyboru modeli. Scikit-learn jest idealny do szybkiego prototypowania modeli oraz do realizacji klasycznych zadań ML, takich jak klasyfikacja, regresja, klasteryzacja czy redukcja wymiarów.\n",
    "\n",
    "Ważne jest, że Scikit-learn udosstępnia **spójne API**, czyli interfejs programistyczny, który jest taki sam dla wszystkich algorytmów. Dzięki temu, nauka i stosowanie różnych modeli jest znacznie ułatwione!\n",
    "\n",
    "```{admonition} Zastosowania Scikit-learn\n",
    ":class: tip\n",
    "Scikit-learn jest używany do:\n",
    "1. Wszelkich zadań z zakresu klasycznego uczenia maszynowego, (ang. *classic ML*), czyli klasyfikacji, regresji, klasteryzacji, redukcji wymiarów.\n",
    "2. Walidacji krzyżowej i projektowania eksperymentów.\n",
    "3. Wyliczania metryk i sprawdzania jakości modeli.\n",
    "```\n",
    "\n",
    "### Dodatkowe materiały\n",
    "\n",
    "```{admonition} Przydatne linki - Scikit-learn\n",
    ":class: tip\n",
    "[Oficjalny przewodnik i podręcznik Scikit-learn](https://scikit-learn.org/stable/user_guide.html) - to jest **nieocenione źródło wiedzy**, podzielone na rozdziały i sekcje. Można je traktować jak pełnoprawny podręcznik do uczenia maszynowego.\n",
    "```\n"
   ]
  },
  {
   "cell_type": "markdown",
   "metadata": {},
   "source": [
    "### Przykład 1: Klasyfikacja za pomocą SVM i przegląd typowego API"
   ]
  },
  {
   "cell_type": "code",
   "execution_count": 24,
   "metadata": {},
   "outputs": [
    {
     "name": "stdout",
     "output_type": "stream",
     "text": [
      "Dokładność modelu SVM: 1.00\n"
     ]
    }
   ],
   "source": [
    "from sklearn import datasets\n",
    "from sklearn.model_selection import train_test_split\n",
    "from sklearn.svm import SVC\n",
    "from sklearn.metrics import accuracy_score\n",
    "\n",
    "# Wczytywanie wbudowanego zbioru danych (Iris)\n",
    "iris = datasets.load_iris()\n",
    "X = iris.data\n",
    "y = iris.target\n",
    "\n",
    "# Podział na zbiór treningowy i testowy\n",
    "X_train, X_test, y_train, y_test = train_test_split(X, y, test_size=0.3, random_state=42)\n",
    "\n",
    "# Tworzenie modelu SVM i trenowanie\n",
    "model = SVC(kernel='linear')\n",
    "model.fit(X_train, y_train)\n",
    "\n",
    "# Przewidywanie na zbiorze testowym\n",
    "y_pred = model.predict(X_test)\n",
    "\n",
    "# Ocena modelu\n",
    "accuracy = accuracy_score(y_test, y_pred)\n",
    "print(f\"Dokładność modelu SVM: {accuracy:.2f}\")\n"
   ]
  },
  {
   "cell_type": "markdown",
   "metadata": {},
   "source": [
    "W powyższym przykładzie użyto Scikit-learn do klasyfikacji gatunków irysów za pomocą maszyny wektorów nośnych (SVM) z liniowym kernelem. Model został przetrenowany na zbiorze treningowym, a następnie oceniony na zbiorze testowym, osiągając określoną dokładność.\n",
    "\n",
    "**Charakterystyczna jest obecność następujących elementów API**:\n",
    "1. `fit` - trenowanie modelu na danych treningowych.\n",
    "2. `predict` - predykcja na danych testowych.\n",
    "3. Zastosowanie metryki, w tym przypadku `accuracy_score`, poprzez jej wywołanie z sygnaturą: `METRYKA(y_true, y_pred)`.\n",
    "\n",
    "Taki sposób działania będzie wspólny dla niemal wszystkich modeli w Scikit-learn."
   ]
  },
  {
   "cell_type": "markdown",
   "metadata": {},
   "source": [
    "### Przykład 2: Klasteryzacja z pomocą algorytmu K-średnich"
   ]
  },
  {
   "cell_type": "code",
   "execution_count": 25,
   "metadata": {},
   "outputs": [
    {
     "data": {
      "image/png": "[encoded data removed]",
      "text/plain": [
       "<Figure size 640x480 with 1 Axes>"
      ]
     },
     "metadata": {},
     "output_type": "display_data"
    }
   ],
   "source": [
    "from sklearn.cluster import KMeans\n",
    "import matplotlib.pyplot as plt\n",
    "\n",
    "# Wygenerowanie losowych danych 2D\n",
    "X, _ = datasets.make_blobs(n_samples=300, centers=4, random_state=42)\n",
    "\n",
    "# Klasteryzacja przy użyciu k-means\n",
    "kmeans = KMeans(n_clusters=4)\n",
    "kmeans.fit(X)\n",
    "y_kmeans = kmeans.predict(X)\n",
    "\n",
    "# Wizualizacja wyników\n",
    "plt.scatter(X[:, 0], X[:, 1], c=y_kmeans, s=50, cmap='viridis')\n",
    "plt.scatter(kmeans.cluster_centers_[:, 0], kmeans.cluster_centers_[:, 1], s=200, c='red', marker='X')\n",
    "plt.title('Klasteryzacja k-means')\n",
    "plt.show()\n"
   ]
  },
  {
   "cell_type": "markdown",
   "metadata": {},
   "source": [
    "Powyższy kod pokazuje, jak użyć k-means do klasteryzacji danych 2D. Po wygenerowaniu losowych danych, zastosowano algorytm k-means, który podzielił dane na cztery klastry. Wynik został zwizualizowany na wykresie z zaznaczonymi centroidami klastrów.\n",
    "\n"
   ]
  },
  {
   "cell_type": "markdown",
   "metadata": {},
   "source": [
    "## PyTorch + Pytorch Lightning\n",
    "\n",
    "PyTorch to jedna z najpopularniejszych bibliotek do uczenia głębokiego (ang. *deep learning*) oraz innych zadań związanych z ML. PyTorch został opracowany przez MEta AI Research i jest znany ze swojej elastyczności i łatwości użycia, szczególnie w badaniach naukowych. Umożliwia definiowanie, trenowanie i testowanie sieci neuronowych, wspiera również dynamiczne przetwarzanie grafów obliczeniowych, co jest jego dużą zaletą w porównaniu do innych frameworków.\n",
    "\n",
    "`PyTorch Lightning` to wysokopoziomowy framework zbudowany na bazie PyTorch, który ma na celu uproszczenie procesu trenowania sieci neuronowych. PyTorch jest bardzo elastyczny, ale ta elastyczność może prowadzić do skomplikowanego kodu, szczególnie gdy projekt staje się bardziej złożony. PyTorch Lightning pomaga w rozdzieleniu kodu związanego z logiką modelu od kodu związanego z infrastrukturą, taką jak trenowanie, walidacja, logowanie i zarządzanie eksperymentami. Dzięki temu kod staje się bardziej czytelny, łatwiejszy do debugowania i skalowania.\n",
    "\n",
    "```{admonition} Zastosowania PyTorch\n",
    ":class: tip\n",
    "PyTorch jest używany do:\n",
    "1. Tworzenia i trenowania sieci neuronowych.\n",
    "2. Badań naukowych i tworzenia innowacyjnych modeli sieci neuronowych.\n",
    "\n",
    "**W czym pomaga PyTorch Lightning:**\n",
    "\n",
    "1. **Struktura kodu**: Uporządkowanie kodu poprzez oddzielenie logiki modelu od logiki trenowania.\n",
    "2. **Skalowanie**: Umożliwia łatwe przejście od trenowania na pojedynczym GPU do trenowania na klastrach wielo-GPU czy TPU bez konieczności zmiany kodu.\n",
    "3. **Zarządzanie eksperymentami**: Automatyczne logowanie, punkty zapisu (ang. *checkpointing*), oraz wsparcie dla integracji z narzędziami do monitorowania eksperymentów (np. TensorBoard).\n",
    "3. **Uproszczona walidacja i testowanie**: PyTorch Lightning ułatwia implementację pętli walidacyjnych i testowych, co jest szczególnie przydatne w większych projektach.\n",
    "```\n"
   ]
  },
  {
   "cell_type": "markdown",
   "metadata": {},
   "source": [
    "### Dodatkowe materiały\n",
    "\n",
    "```{admonition} Przydatne linki - PyTorch\n",
    ":class: tip\n",
    "1. [Oficjalna dokumentacja PyTorch](https://pytorch.org/tutorials/beginner/basics/intro.html)\n",
    "2. [Deep Learning Fundamendtals - kurs](https://lightning.ai/courses/deep-learning-fundamentals/) - **fantastyczny** (i darmowy) kurs poświęcony bibliotece Pytorch oraz Pytorch Lightning, prowadzony przez dr Sebastiana Raschkę, autora wielu narzędzi i publikacji z zakresu ML. Fantastyczne źródło wiedzy.    \n",
    "```"
   ]
  },
  {
   "cell_type": "markdown",
   "metadata": {},
   "source": [
    "### Przykład 1: Prosta sieć neuronowa do klasyfikacji danych tabelaryczncyh"
   ]
  },
  {
   "cell_type": "code",
   "execution_count": 26,
   "metadata": {},
   "outputs": [
    {
     "name": "stdout",
     "output_type": "stream",
     "text": [
      "Epoch 1, Loss: 1.0892\n",
      "Epoch 2, Loss: 1.0654\n",
      "Epoch 3, Loss: 1.0424\n",
      "Epoch 4, Loss: 1.0159\n",
      "Epoch 5, Loss: 0.9890\n",
      "Epoch 6, Loss: 0.9614\n",
      "Epoch 7, Loss: 0.9311\n",
      "Epoch 8, Loss: 0.8964\n",
      "Epoch 9, Loss: 0.8612\n",
      "Epoch 10, Loss: 0.8256\n",
      "Epoch 11, Loss: 0.7891\n",
      "Epoch 12, Loss: 0.7513\n",
      "Epoch 13, Loss: 0.7106\n",
      "Epoch 14, Loss: 0.6666\n",
      "Epoch 15, Loss: 0.6277\n",
      "Epoch 16, Loss: 0.5841\n",
      "Epoch 17, Loss: 0.5435\n",
      "Epoch 18, Loss: 0.5027\n",
      "Epoch 19, Loss: 0.4608\n",
      "Epoch 20, Loss: 0.4207\n",
      "Dokładność na zbiorze testowym: 92.59%\n"
     ]
    }
   ],
   "source": [
    "import torch\n",
    "import torch.nn as nn\n",
    "import torch.optim as optim\n",
    "from sklearn.datasets import load_wine\n",
    "from sklearn.model_selection import train_test_split\n",
    "from sklearn.preprocessing import StandardScaler\n",
    "from torch.utils.data import DataLoader, TensorDataset\n",
    "from typing import Tuple\n",
    "\n",
    "# Wczytywanie i przygotowanie danych\n",
    "data = load_wine()\n",
    "X_train, X_test, y_train, y_test = train_test_split(data.data, data.target, test_size=0.3, random_state=42)\n",
    "\n",
    "# Normalizacja danych\n",
    "scaler = StandardScaler()\n",
    "X_train = scaler.fit_transform(X_train)\n",
    "X_test = scaler.transform(X_test)\n",
    "\n",
    "# Konwersja do tensora\n",
    "X_train = torch.tensor(X_train, dtype=torch.float32)\n",
    "y_train = torch.tensor(y_train, dtype=torch.long)\n",
    "X_test = torch.tensor(X_test, dtype=torch.float32)\n",
    "y_test = torch.tensor(y_test, dtype=torch.long)\n",
    "\n",
    "# Tworzenie DataLoaderów\n",
    "train_dataset = TensorDataset(X_train, y_train)\n",
    "test_dataset = TensorDataset(X_test, y_test)\n",
    "train_loader = DataLoader(train_dataset, batch_size=32, shuffle=True)\n",
    "test_loader = DataLoader(test_dataset, batch_size=32, shuffle=False)\n",
    "\n",
    "# Definiowanie modelu MLP\n",
    "class MLP(nn.Module):\n",
    "    def __init__(self, dims: Tuple[int, ...]):\n",
    "        super().__init__()\n",
    "        layers = []\n",
    "        for dim_in, dim_out in zip(dims, dims[1:]):\n",
    "            layer = nn.Linear(dim_in, dim_out)\n",
    "            layers.append(layer)\n",
    "            layers.append(nn.ReLU())\n",
    "        self.net = nn.Sequential(*layers[:-1])\n",
    "\n",
    "    def forward(self, x):\n",
    "        out = self.net(x)\n",
    "        return out\n",
    "\n",
    "# Inicjalizacja modelu, funkcji kosztu i optymalizatora\n",
    "torch.manual_seed(42)\n",
    "model = MLP([X_train.shape[1], 32, 16, len(data.target_names)])\n",
    "criterion = nn.CrossEntropyLoss()\n",
    "optimizer = optim.Adam(model.parameters(), lr=0.001)\n",
    "\n",
    "# Trenowanie modelu\n",
    "for epoch in range(20):\n",
    "    running_loss = 0.0\n",
    "    for inputs, labels in train_loader:\n",
    "        optimizer.zero_grad()\n",
    "        outputs = model(inputs)\n",
    "        loss = criterion(outputs, labels)\n",
    "        loss.backward()\n",
    "        optimizer.step()\n",
    "        running_loss += loss.item()\n",
    "\n",
    "    print(f\"Epoch {epoch+1}, Loss: {running_loss/len(train_loader):.4f}\")\n",
    "\n",
    "# Ocena modelu\n",
    "correct = 0\n",
    "total = 0\n",
    "with torch.no_grad():\n",
    "    for inputs, labels in test_loader:\n",
    "        outputs = model(inputs)\n",
    "        _, predicted = torch.max(outputs.data, 1)\n",
    "        total += labels.size(0)\n",
    "        correct += (predicted == labels).sum().item()\n",
    "\n",
    "print(f\"Dokładność na zbiorze testowym: {100 * correct / total:.2f}%\")\n"
   ]
  },
  {
   "cell_type": "markdown",
   "metadata": {},
   "source": [
    "W powyższym przykładzie zdefiniowano model MLP, który składa się z dwóch ukrytych warstw (z 32 i 16 neuronami). Dane wejściowe zostały przeskalowane przy użyciu standardowej normalizacji. Model został przetrenowany przez 20 epok, a następnie oceniony na zbiorze testowym."
   ]
  },
  {
   "cell_type": "markdown",
   "metadata": {},
   "source": [
    "### Przykład 2: MLP do regresji na danych tabelarycznych"
   ]
  },
  {
   "cell_type": "code",
   "execution_count": 27,
   "metadata": {},
   "outputs": [
    {
     "name": "stdout",
     "output_type": "stream",
     "text": [
      "Epoch 1, Loss: 1.4307\n",
      "Epoch 2, Loss: 0.4944\n",
      "Epoch 3, Loss: 0.4216\n",
      "Epoch 4, Loss: 0.3952\n",
      "Epoch 5, Loss: 0.3777\n",
      "Epoch 6, Loss: 0.3673\n",
      "Epoch 7, Loss: 0.3571\n",
      "Epoch 8, Loss: 0.3505\n",
      "Epoch 9, Loss: 0.3416\n",
      "Epoch 10, Loss: 0.3340\n",
      "Epoch 11, Loss: 0.3266\n",
      "Epoch 12, Loss: 0.3242\n",
      "Epoch 13, Loss: 0.3173\n",
      "Epoch 14, Loss: 0.3122\n",
      "Epoch 15, Loss: 0.3087\n",
      "Epoch 16, Loss: 0.3120\n",
      "Epoch 17, Loss: 0.3042\n",
      "Epoch 18, Loss: 0.3020\n",
      "Epoch 19, Loss: 0.2986\n",
      "Epoch 20, Loss: 0.2961\n",
      "Epoch 21, Loss: 0.2983\n",
      "Epoch 22, Loss: 0.2934\n",
      "Epoch 23, Loss: 0.2921\n",
      "Epoch 24, Loss: 0.2904\n",
      "Epoch 25, Loss: 0.2893\n",
      "MSE na zbiorze testowym: 0.2992\n"
     ]
    }
   ],
   "source": [
    "import torch\n",
    "import torch.nn as nn\n",
    "import torch.optim as optim\n",
    "from sklearn.datasets import fetch_california_housing\n",
    "from sklearn.model_selection import train_test_split\n",
    "from sklearn.preprocessing import StandardScaler\n",
    "from torch.utils.data import DataLoader, TensorDataset\n",
    "from typing import Tuple\n",
    "\n",
    "# Wczytywanie i przygotowanie danych\n",
    "data = fetch_california_housing()\n",
    "X_train, X_test, y_train, y_test = train_test_split(data.data, data.target, test_size=0.3, random_state=42)\n",
    "\n",
    "# Normalizacja danych\n",
    "scaler = StandardScaler()\n",
    "X_train = scaler.fit_transform(X_train)\n",
    "X_test = scaler.transform(X_test)\n",
    "\n",
    "# Konwersja do tensora\n",
    "X_train = torch.tensor(X_train, dtype=torch.float32)\n",
    "y_train = torch.tensor(y_train, dtype=torch.float32).view(-1, 1)\n",
    "X_test = torch.tensor(X_test, dtype=torch.float32)\n",
    "y_test = torch.tensor(y_test, dtype=torch.float32).view(-1, 1)\n",
    "\n",
    "# Tworzenie DataLoaderów\n",
    "train_dataset = TensorDataset(X_train, y_train)\n",
    "test_dataset = TensorDataset(X_test, y_test)\n",
    "train_loader = DataLoader(train_dataset, batch_size=32, shuffle=True)\n",
    "test_loader = DataLoader(test_dataset, batch_size=32, shuffle=False)\n",
    "\n",
    "# Definiowanie modelu MLP do regresji\n",
    "class MLPRegressor(nn.Module):\n",
    "    def __init__(self, dims: Tuple[int, ...]):\n",
    "        super().__init__()\n",
    "        layers = []\n",
    "        for dim_in, dim_out in zip(dims, dims[1:]):\n",
    "            layer = nn.Linear(dim_in, dim_out)\n",
    "            layers.append(layer)\n",
    "            layers.append(nn.ReLU())\n",
    "        self.net = nn.Sequential(*layers[:-1])\n",
    "\n",
    "    def forward(self, x):\n",
    "        out = self.net(x)\n",
    "        return out\n",
    "\n",
    "# Inicjalizacja modelu, funkcji kosztu i optymalizatora\n",
    "torch.manual_seed(42)\n",
    "model = MLPRegressor([X_train.shape[1], 32, 16, 1])\n",
    "criterion = nn.MSELoss()\n",
    "optimizer = optim.Adam(model.parameters(), lr=0.001)\n",
    "\n",
    "# Trenowanie modelu\n",
    "for epoch in range(25):\n",
    "    running_loss = 0.0\n",
    "    for inputs, labels in train_loader:\n",
    "        optimizer.zero_grad()\n",
    "        outputs = model(inputs)\n",
    "        loss = criterion(outputs, labels)\n",
    "        loss.backward()\n",
    "        optimizer.step()\n",
    "        running_loss += loss.item()\n",
    "\n",
    "    print(f\"Epoch {epoch+1}, Loss: {running_loss/len(train_loader):.4f}\")\n",
    "\n",
    "# Ocena modelu\n",
    "model.eval()\n",
    "with torch.no_grad():\n",
    "    test_predictions = model(X_test)\n",
    "    mse = criterion(test_predictions, y_test)\n",
    "    print(f\"MSE na zbiorze testowym: {mse.item():.4f}\")\n"
   ]
  },
  {
   "cell_type": "markdown",
   "metadata": {},
   "source": [
    "W tym przykładzie zdefiniowano model MLP do zadania regresji. Model składa się z dwóch ukrytych warstw (32 i 16 neuronów) i jednej warstwy wyjściowej z jednym neuronem (do regresji). Model został przetrenowany przez 25 epok, a następnie oceniony na zbiorze testowym za pomocą miary błędu średniokwadratowego (MSE).\n"
   ]
  },
  {
   "cell_type": "markdown",
   "metadata": {},
   "source": [
    "### Przykład 3: Implementacja prostej sieci neuronowej w Pytorch Lightning"
   ]
  },
  {
   "cell_type": "code",
   "execution_count": 28,
   "metadata": {},
   "outputs": [
    {
     "name": "stderr",
     "output_type": "stream",
     "text": [
      "GPU available: False, used: False\n",
      "TPU available: False, using: 0 TPU cores\n",
      "HPU available: False, using: 0 HPUs\n",
      "/home/filip/miniconda3/envs/dsbook/lib/python3.11/site-packages/pytorch_lightning/trainer/connectors/logger_connector/logger_connector.py:75: Starting from v1.9.0, `tensorboardX` has been removed as a dependency of the `pytorch_lightning` package, due to potential conflicts with other packages in the ML ecosystem. For this reason, `logger=True` will use `CSVLogger` as the default logger, unless the `tensorboard` or `tensorboardX` packages are found. Please `pip install lightning[extra]` or one of them to enable TensorBoard support by default\n",
      "\n",
      "  | Name    | Type       | Params | Mode \n",
      "-----------------------------------------------\n",
      "0 | network | Sequential | 739    | train\n",
      "-----------------------------------------------\n",
      "739       Trainable params\n",
      "0         Non-trainable params\n",
      "739       Total params\n",
      "0.003     Total estimated model params size (MB)\n",
      "6         Modules in train mode\n",
      "0         Modules in eval mode\n"
     ]
    },
    {
     "data": {
      "application/vnd.jupyter.widget-view+json": {
       "model_id": "5df50a104dae4708957b7d1eab6ccfc2",
       "version_major": 2,
       "version_minor": 0
      },
      "text/plain": [
       "Sanity Checking: |          | 0/? [00:00<?, ?it/s]"
      ]
     },
     "metadata": {},
     "output_type": "display_data"
    },
    {
     "name": "stderr",
     "output_type": "stream",
     "text": [
      "/home/filip/miniconda3/envs/dsbook/lib/python3.11/site-packages/pytorch_lightning/trainer/connectors/data_connector.py:424: The 'val_dataloader' does not have many workers which may be a bottleneck. Consider increasing the value of the `num_workers` argument` to `num_workers=15` in the `DataLoader` to improve performance.\n",
      "/home/filip/miniconda3/envs/dsbook/lib/python3.11/site-packages/pytorch_lightning/trainer/connectors/data_connector.py:424: The 'train_dataloader' does not have many workers which may be a bottleneck. Consider increasing the value of the `num_workers` argument` to `num_workers=15` in the `DataLoader` to improve performance.\n",
      "/home/filip/miniconda3/envs/dsbook/lib/python3.11/site-packages/pytorch_lightning/loops/fit_loop.py:298: The number of training batches (7) is smaller than the logging interval Trainer(log_every_n_steps=50). Set a lower value for log_every_n_steps if you want to see logs for the training epoch.\n"
     ]
    },
    {
     "data": {
      "application/vnd.jupyter.widget-view+json": {
       "model_id": "a9729d740a60499798f4ac035c9caba2",
       "version_major": 2,
       "version_minor": 0
      },
      "text/plain": [
       "Training: |          | 0/? [00:00<?, ?it/s]"
      ]
     },
     "metadata": {},
     "output_type": "display_data"
    },
    {
     "data": {
      "application/vnd.jupyter.widget-view+json": {
       "model_id": "7f663848762f43a8a04f3d3e17f4b020",
       "version_major": 2,
       "version_minor": 0
      },
      "text/plain": [
       "Validation: |          | 0/? [00:00<?, ?it/s]"
      ]
     },
     "metadata": {},
     "output_type": "display_data"
    },
    {
     "data": {
      "application/vnd.jupyter.widget-view+json": {
       "model_id": "6810e18bbee1450fb9a14d031414a987",
       "version_major": 2,
       "version_minor": 0
      },
      "text/plain": [
       "Validation: |          | 0/? [00:00<?, ?it/s]"
      ]
     },
     "metadata": {},
     "output_type": "display_data"
    },
    {
     "data": {
      "application/vnd.jupyter.widget-view+json": {
       "model_id": "1b1bc83fd37e4b66ad710bf1e70ba7d9",
       "version_major": 2,
       "version_minor": 0
      },
      "text/plain": [
       "Validation: |          | 0/? [00:00<?, ?it/s]"
      ]
     },
     "metadata": {},
     "output_type": "display_data"
    },
    {
     "data": {
      "application/vnd.jupyter.widget-view+json": {
       "model_id": "ea50551be1164982acbabba61e2ee3f8",
       "version_major": 2,
       "version_minor": 0
      },
      "text/plain": [
       "Validation: |          | 0/? [00:00<?, ?it/s]"
      ]
     },
     "metadata": {},
     "output_type": "display_data"
    },
    {
     "data": {
      "application/vnd.jupyter.widget-view+json": {
       "model_id": "180eeae075954e519cf1fdbede459ff0",
       "version_major": 2,
       "version_minor": 0
      },
      "text/plain": [
       "Validation: |          | 0/? [00:00<?, ?it/s]"
      ]
     },
     "metadata": {},
     "output_type": "display_data"
    },
    {
     "data": {
      "application/vnd.jupyter.widget-view+json": {
       "model_id": "099ab373c633438699aba16ca9990156",
       "version_major": 2,
       "version_minor": 0
      },
      "text/plain": [
       "Validation: |          | 0/? [00:00<?, ?it/s]"
      ]
     },
     "metadata": {},
     "output_type": "display_data"
    },
    {
     "data": {
      "application/vnd.jupyter.widget-view+json": {
       "model_id": "04ac9598f1f041528ee1f7eea3232281",
       "version_major": 2,
       "version_minor": 0
      },
      "text/plain": [
       "Validation: |          | 0/? [00:00<?, ?it/s]"
      ]
     },
     "metadata": {},
     "output_type": "display_data"
    },
    {
     "data": {
      "application/vnd.jupyter.widget-view+json": {
       "model_id": "889cf37db4bf40c1936058219253517b",
       "version_major": 2,
       "version_minor": 0
      },
      "text/plain": [
       "Validation: |          | 0/? [00:00<?, ?it/s]"
      ]
     },
     "metadata": {},
     "output_type": "display_data"
    },
    {
     "data": {
      "application/vnd.jupyter.widget-view+json": {
       "model_id": "4d4f90a4d56f48c895c79322c1bb058a",
       "version_major": 2,
       "version_minor": 0
      },
      "text/plain": [
       "Validation: |          | 0/? [00:00<?, ?it/s]"
      ]
     },
     "metadata": {},
     "output_type": "display_data"
    },
    {
     "data": {
      "application/vnd.jupyter.widget-view+json": {
       "model_id": "18aa1367c2374709871e0008b111e005",
       "version_major": 2,
       "version_minor": 0
      },
      "text/plain": [
       "Validation: |          | 0/? [00:00<?, ?it/s]"
      ]
     },
     "metadata": {},
     "output_type": "display_data"
    },
    {
     "data": {
      "application/vnd.jupyter.widget-view+json": {
       "model_id": "82c0af0ddbec483c80de3f0336260e63",
       "version_major": 2,
       "version_minor": 0
      },
      "text/plain": [
       "Validation: |          | 0/? [00:00<?, ?it/s]"
      ]
     },
     "metadata": {},
     "output_type": "display_data"
    },
    {
     "data": {
      "application/vnd.jupyter.widget-view+json": {
       "model_id": "175e24e964f84a4cacb0b967a15f33a9",
       "version_major": 2,
       "version_minor": 0
      },
      "text/plain": [
       "Validation: |          | 0/? [00:00<?, ?it/s]"
      ]
     },
     "metadata": {},
     "output_type": "display_data"
    },
    {
     "data": {
      "application/vnd.jupyter.widget-view+json": {
       "model_id": "2a9b7970461f45d3a29b3cc6e6f8030b",
       "version_major": 2,
       "version_minor": 0
      },
      "text/plain": [
       "Validation: |          | 0/? [00:00<?, ?it/s]"
      ]
     },
     "metadata": {},
     "output_type": "display_data"
    },
    {
     "data": {
      "application/vnd.jupyter.widget-view+json": {
       "model_id": "ad98d89d55c143b3aa6d283133090213",
       "version_major": 2,
       "version_minor": 0
      },
      "text/plain": [
       "Validation: |          | 0/? [00:00<?, ?it/s]"
      ]
     },
     "metadata": {},
     "output_type": "display_data"
    },
    {
     "data": {
      "application/vnd.jupyter.widget-view+json": {
       "model_id": "7ddc427d61c942639dc4e1584d49b3b6",
       "version_major": 2,
       "version_minor": 0
      },
      "text/plain": [
       "Validation: |          | 0/? [00:00<?, ?it/s]"
      ]
     },
     "metadata": {},
     "output_type": "display_data"
    },
    {
     "data": {
      "application/vnd.jupyter.widget-view+json": {
       "model_id": "994c2de5d11c40a0b2b1ce7086db0a29",
       "version_major": 2,
       "version_minor": 0
      },
      "text/plain": [
       "Validation: |          | 0/? [00:00<?, ?it/s]"
      ]
     },
     "metadata": {},
     "output_type": "display_data"
    },
    {
     "data": {
      "application/vnd.jupyter.widget-view+json": {
       "model_id": "364e70cc26e64e5aa43e370d8d347ada",
       "version_major": 2,
       "version_minor": 0
      },
      "text/plain": [
       "Validation: |          | 0/? [00:00<?, ?it/s]"
      ]
     },
     "metadata": {},
     "output_type": "display_data"
    },
    {
     "data": {
      "application/vnd.jupyter.widget-view+json": {
       "model_id": "3b105c4e0462479787387522d29d78a4",
       "version_major": 2,
       "version_minor": 0
      },
      "text/plain": [
       "Validation: |          | 0/? [00:00<?, ?it/s]"
      ]
     },
     "metadata": {},
     "output_type": "display_data"
    },
    {
     "data": {
      "application/vnd.jupyter.widget-view+json": {
       "model_id": "8a763f433e9b47ee91ad46665bac32f1",
       "version_major": 2,
       "version_minor": 0
      },
      "text/plain": [
       "Validation: |          | 0/? [00:00<?, ?it/s]"
      ]
     },
     "metadata": {},
     "output_type": "display_data"
    },
    {
     "data": {
      "application/vnd.jupyter.widget-view+json": {
       "model_id": "d0d073c8700e41d2b7a93b13c380ef03",
       "version_major": 2,
       "version_minor": 0
      },
      "text/plain": [
       "Validation: |          | 0/? [00:00<?, ?it/s]"
      ]
     },
     "metadata": {},
     "output_type": "display_data"
    },
    {
     "name": "stderr",
     "output_type": "stream",
     "text": [
      "`Trainer.fit` stopped: `max_epochs=20` reached.\n"
     ]
    }
   ],
   "source": [
    "import torch\n",
    "import torch.nn.functional as F\n",
    "from torch.utils.data import DataLoader, TensorDataset, random_split\n",
    "from sklearn.datasets import load_iris\n",
    "from sklearn.model_selection import train_test_split\n",
    "from sklearn.preprocessing import StandardScaler\n",
    "from typing import Tuple\n",
    "import pytorch_lightning as pl\n",
    "\n",
    "# Wczytywanie i przygotowanie danych\n",
    "data = load_iris()\n",
    "X_train, X_test, y_train, y_test = train_test_split(data.data, data.target, test_size=0.3, random_state=42)\n",
    "\n",
    "# Normalizacja danych\n",
    "scaler = StandardScaler()\n",
    "X_train = scaler.fit_transform(X_train)\n",
    "X_test = scaler.transform(X_test)\n",
    "\n",
    "# Konwersja do tensora\n",
    "X_train = torch.tensor(X_train, dtype=torch.float32)\n",
    "y_train = torch.tensor(y_train, dtype=torch.long)\n",
    "X_test = torch.tensor(X_test, dtype=torch.float32)\n",
    "y_test = torch.tensor(y_test, dtype=torch.long)\n",
    "\n",
    "# Tworzenie DataLoaderów\n",
    "train_dataset = TensorDataset(X_train, y_train)\n",
    "test_dataset = TensorDataset(X_test, y_test)\n",
    "train_loader = DataLoader(train_dataset, batch_size=16, shuffle=True)\n",
    "test_loader = DataLoader(test_dataset, batch_size=16, shuffle=False)\n",
    "\n",
    "# Definiowanie modelu MLP za pomocą PyTorch Lightning\n",
    "class IrisMLP(pl.LightningModule):\n",
    "    def __init__(self, dims: Tuple[int, ...]):\n",
    "        super().__init__()\n",
    "        layers = []\n",
    "        for dim_in, dim_out in zip(dims, dims[1:]):\n",
    "            layer = torch.nn.Linear(dim_in, dim_out)\n",
    "            layers.append(layer)\n",
    "            layers.append(torch.nn.ReLU())\n",
    "        self.network = torch.nn.Sequential(*layers[:-1])\n",
    "\n",
    "    def forward(self, x):\n",
    "        out = self.network(x)\n",
    "        return out\n",
    "\n",
    "    def training_step(self, batch, batch_idx):\n",
    "        x, y = batch\n",
    "        y_hat = self.forward(x)\n",
    "        loss = F.cross_entropy(y_hat, y)\n",
    "        self.log('train_loss', loss)\n",
    "        return loss\n",
    "\n",
    "    def validation_step(self, batch, batch_idx):\n",
    "        x, y = batch\n",
    "        y_hat = self.forward(x)\n",
    "        val_loss = F.cross_entropy(y_hat, y)\n",
    "        self.log('val_loss', val_loss)\n",
    "        return val_loss\n",
    "\n",
    "    def configure_optimizers(self):\n",
    "        return torch.optim.Adam(self.parameters(), lr=0.001)\n",
    "\n",
    "# Trenowanie modelu za pomocą PyTorch Lightning\n",
    "model = IrisMLP([X_train.shape[1], 32, 16, len(data.target_names)])\n",
    "trainer = pl.Trainer(max_epochs=20)\n",
    "trainer.fit(model, train_loader, test_loader)\n"
   ]
  },
  {
   "cell_type": "markdown",
   "metadata": {},
   "source": [
    "W powyższym przykładzie:\n",
    "\n",
    "1. Model: Zdefiniowano model MLP będący modułem Pytorch Lighting obsługującym predefiniowane funkcje takie, jak `forward`, `training_step`, `validation_step`, `configure_optimizers`.\n",
    "2. Dane: Dane z zestawu Iris zostały przeskalowane, a następnie skonwertowane na tensory PyTorch.\n",
    "3. Trening: Model został przetrenowany przez 20 epok. PyTorch Lightning automatycznie zarządza procesem trenowania, w tym logowaniem strat/kosztów (train_loss, val_loss) i optymalizacją modelu.\n"
   ]
  },
  {
   "cell_type": "markdown",
   "metadata": {},
   "source": [
    "##  MLXtend\n",
    "\n",
    "Mlxtend (Machine Learning Extensions) to biblioteka, która rozszerza możliwości Scikit-learn, oferując dodatkowe narzędzia, takie jak metody wyboru cech, łączenie klasyfikatorów, różnorodne algorytmy do klasyfikacji i regresji, a także funkcje do wizualizacji wyników. Mlxtend jest idealny dla osób, które chcą szybko przetestować różne techniki ML, które nie są wbudowane w Scikit-learn.\n",
    "\n",
    "MLXtend pomaga też przy analizowaniu możliwości poszczególnych klas model, oraz ich własności. W tym podręczniku w rozdziale poświęconym obciążeniom indukcyjnym modeli ML, użyliśmy właśnie `MLXtend`.\n",
    "\n",
    "```{admonition} Zastosowania MLXtend\n",
    ":class: tip\n",
    "Mlxtend jest używany do:\n",
    "1. Wyboru cech i redukcji wymiarów.\n",
    "2. Łączenia klasyfikatorów i regresorów.\n",
    "3. Wizualizacji wyników i analizy modeli.\n",
    "```\n",
    "\n",
    "### Dodatkowe materiały\n",
    "\n",
    "```{admonition} Przydatne linki - MLXtend\n",
    ":class: tip\n",
    "[Oficjalna dokumentacja MLXtend](http://rasbt.github.io/mlxtend/) - dokumentacja jest też dodatkowo bardzo dobrym podręcznikiem.\n",
    "```"
   ]
  },
  {
   "cell_type": "markdown",
   "metadata": {},
   "source": [
    "### Przykład 1: Łączenie modeli klasyfikacji"
   ]
  },
  {
   "cell_type": "code",
   "execution_count": 29,
   "metadata": {},
   "outputs": [
    {
     "data": {
      "image/png": "[encoded data removed]",
      "text/plain": [
       "<Figure size 640x480 with 1 Axes>"
      ]
     },
     "metadata": {},
     "output_type": "display_data"
    }
   ],
   "source": [
    "from sklearn.ensemble import RandomForestClassifier, GradientBoostingClassifier\n",
    "from sklearn.model_selection import train_test_split\n",
    "from sklearn.datasets import load_iris\n",
    "from mlxtend.classifier import EnsembleVoteClassifier\n",
    "from mlxtend.plotting import plot_decision_regions\n",
    "import matplotlib.pyplot as plt\n",
    "\n",
    "# Wczytywanie danych\n",
    "X, y = load_iris(return_X_y=True)\n",
    "X_train, X_test, y_train, y_test = train_test_split(X[:, :2], y, test_size=0.3, random_state=42)\n",
    "\n",
    "# Definiowanie modeli bazowych\n",
    "clf1 = RandomForestClassifier(random_state=1)\n",
    "clf2 = GradientBoostingClassifier(random_state=1)\n",
    "\n",
    "# Łączenie modeli\n",
    "eclf = EnsembleVoteClassifier(clfs=[clf1, clf2], voting='soft')\n",
    "\n",
    "# Trenowanie i wizualizacja wyników\n",
    "\n",
    "eclf.fit(X_train, y_train)\n",
    "plot_decision_regions(X_train, y_train, clf=eclf),\n",
    "plt.title('Łączenie modeli za pomocą Mlxtend')\n",
    "plt.show()\n"
   ]
  },
  {
   "cell_type": "markdown",
   "metadata": {},
   "source": [
    "W powyższym przykładzie wykorzystano Mlxtend do połączenia dwóch : lasu losowego i gradient boosting. Modele zostały połączone w celu stworzenia bardziej stabilnego i dokładnego modelu końcowego, a wynik został zwizualizowany za pomocą funkcji `plot_decision_regions`, ukazującą regiony działania/podejmowania decyzji przez modele."
   ]
  },
  {
   "cell_type": "markdown",
   "metadata": {},
   "source": [
    "## Przykład 2: Wizualizacja macierzy pomyłek"
   ]
  },
  {
   "cell_type": "code",
   "execution_count": 30,
   "metadata": {},
   "outputs": [
    {
     "data": {
      "image/png": "[encoded data removed]",
      "text/plain": [
       "<Figure size 600x600 with 1 Axes>"
      ]
     },
     "metadata": {},
     "output_type": "display_data"
    }
   ],
   "source": [
    "from mlxtend.plotting import plot_confusion_matrix\n",
    "from sklearn.metrics import confusion_matrix\n",
    "\n",
    "# Przewidywanie na zbiorze testowym\n",
    "y_pred = eclf.predict(X_test)\n",
    "\n",
    "# Tworzenie macierzy pomyłek\n",
    "cm = confusion_matrix(y_test, y_pred)\n",
    "\n",
    "# Wizualizacja macierzy pomyłek\n",
    "fig, ax = plot_confusion_matrix(conf_mat=cm, figsize=(6, 6))\n",
    "plt.title('Macierz pomyłek')\n",
    "plt.show()\n"
   ]
  },
  {
   "cell_type": "markdown",
   "metadata": {},
   "source": [
    "Kod ten pokazuje, jak za pomocą Mlxtend można łatwo wizualizować macierz pomyłek. Macierz ta przedstawia liczbę poprawnych i błędnych klasyfikacji dokonanych przez model, co jest kluczowym narzędziem do oceny jego wydajności.\n"
   ]
  },
  {
   "cell_type": "markdown",
   "metadata": {},
   "source": [
    "## Optuna\n",
    "\n",
    "Optuna to biblioteka do automatycznej optymalizacji hiperparametrów, która pomaga w znalezieniu najlepszych ustawień parametrów modeli ML poprzez próbkowanie ich z różnych rozkładów. Optuna jest bardzo elastyczna i oferuje zaawansowane techniki optymalizacji, takie jak próbkowanie TPE (ang. *Tree-structured Parzen Estimator*) i optymalizacja oparta na modelu bayesowskim. Jest to szczególnie przydatne w automatyzacji procesu strojenia modeli, co jest jednym z bardziej czasochłonnych aspektów pracy nad ML.\n",
    "\n",
    "```{admonition} Zastosowania Optuny\n",
    ":class: tip\n",
    "Optuna jest używana do:\n",
    "1. Automatycznego strojenia hiperparametrów modeli ML.\n",
    "2. Optymalizacji modeli ML w celu uzyskania najlepszych wyników.\n",
    "```\n",
    "\n",
    "### Dodatkowe materiały\n",
    "\n",
    "```{admonition} Przydatne linki - Optuna\n",
    ":class: tip\n",
    "[Oficjalny przewodnik Optuny](https://optuna.readthedocs.io/en/stable/tutorial/)\n",
    "```\n"
   ]
  },
  {
   "cell_type": "markdown",
   "metadata": {},
   "source": [
    "### Przykład: Optymalizacja parmetrów klasyfikatora"
   ]
  },
  {
   "cell_type": "code",
   "execution_count": 31,
   "metadata": {},
   "outputs": [
    {
     "name": "stdout",
     "output_type": "stream",
     "text": [
      "Najlepsze parametry: {'C': 1.8644364651730072, 'gamma': 2.8992188584738696}\n",
      "Najlepsza dokładność: 1.0\n"
     ]
    }
   ],
   "source": [
    "import optuna\n",
    "from sklearn.datasets import load_iris\n",
    "from sklearn.model_selection import train_test_split\n",
    "from sklearn.svm import SVC\n",
    "from sklearn.metrics import accuracy_score\n",
    "\n",
    "optuna.logging.set_verbosity(optuna.logging.WARNING)\n",
    "\n",
    "# Wczytywanie danych\n",
    "X, y = load_iris(return_X_y=True)\n",
    "X_train, X_test, y_train, y_test = train_test_split(X, y, test_size=0.3, random_state=42)\n",
    "\n",
    "# Funkcja celu\n",
    "def objective(trial):\n",
    "    C = trial.suggest_float('C', 1e-4, 1e2, log=True)\n",
    "    gamma = trial.suggest_float('gamma', 1e-4, 1e1, log=True)\n",
    "    model = SVC(C=C, gamma=gamma)\n",
    "    model.fit(X_train, y_train)\n",
    "    y_pred = model.predict(X_test)\n",
    "    return accuracy_score(y_test, y_pred)\n",
    "\n",
    "# Tworzenie study i optymalizacja\n",
    "study = optuna.create_study(direction='maximize')\n",
    "study.optimize(objective, n_trials=50)\n",
    "\n",
    "print(\"Najlepsze parametry:\", study.best_params)\n",
    "print(\"Najlepsza dokładność:\", study.best_value)\n"
   ]
  },
  {
   "cell_type": "markdown",
   "metadata": {},
   "source": [
    "# Biblioteki do pracy z szeregami czasowymi\n",
    "\n",
    "Analiza szeregów czasowych jest jedna z kluczowych dziedzin w Data Science, szczególnie w kontekście prognozowania danych finansowych, czy ekonomicznych. Python oferuje różnorodne narzędzia do pracy z szeregami czasowymi. W tej sekcji omówimy dwie biblioteki: `statsmodels` oraz `statsforecast` z Nixtlaverse.\n",
    "\n",
    "Zwłaszcza ta ostatnia rodzina/grupa bibliotek zgrupowana pod wspólną nazwą jest bardzo interesująca - oferuje m. in. moduły prognozowania opartego o uczenie maszynowe (`mlforecast`), oraz sieci neuronowe (`neuralforecast`) w tym samym ekosystemie.\n"
   ]
  },
  {
   "cell_type": "markdown",
   "metadata": {},
   "source": [
    "## Statsmodels\n",
    "\n",
    "Statsmodels to wszechstronna biblioteka Pythona, która oferuje zaawansowane narzędzia do modelowania statystycznego. Biblioteka ta jest szczególnie użyteczna w analizie szeregów czasowych, oferując modele takie jak ARIMA, SARIMAX, modele stacjonarne oraz narzędzia do diagnostyki i oceny modeli.\n",
    "\n",
    "```{admonition} Statsmodels - kłopoty z czytelnością\n",
    ":class: warning\n",
    "Wiele osób zauważa, że dokumentacja tego narzędzia pozostawia wiele do życzenia, podobnie jak czytelność i przejrzystość kodu. Jest to co prawda kwestia gustu, ale rzeczywiście, z punktu widzenia inżynierii oprogramowania, dobrych praktyk i przejrzystości kodu - `statsmodels` ma wiele do poprawy.\n",
    "\n",
    "Ciężko jest znaleźć interesujące nas tematy w dokumentacji, a także zrozumieć, jakie są dostępne funkcjonalności. Warto zatem korzystać z dodatkowych materiałów, takich jak kursy online, czy przewodniki, które pomogą w zrozumieniu tej biblioteki. Niestety - nierzadko dokumentacja nijak się ma do tego, co aktualnie jest zaimplementowane w określonej wersji :/\n",
    "```\n",
    "\n",
    "```{admonition} Zastosowania Statsmodels\n",
    ":class: tip\n",
    "Statsmodels jest używany do:\n",
    "1. Modelowania szeregów czasowych, w tym ARIMA, SARIMAX.\n",
    "2. Diagnostyki modeli szeregów czasowych.\n",
    "3. Analizy statystycznej i modelowania danych.\n",
    "```\n",
    "\n",
    "### Dodatkowe materiały\n",
    "\n",
    "```{admonition} Przydatne linki - Statsmodels\n",
    ":class: tip\n",
    "[Oficjalny przewodnik po funkcjach Statsmodels](https://www.statsmodels.org/stable/user-guide.html)\n",
    "```\n"
   ]
  },
  {
   "cell_type": "markdown",
   "metadata": {},
   "source": [
    "### Przykład 1: Modelowanie ARIMA dla danych szeregów czasowych"
   ]
  },
  {
   "cell_type": "code",
   "execution_count": 32,
   "metadata": {},
   "outputs": [
    {
     "name": "stdout",
     "output_type": "stream",
     "text": [
      "                               SARIMAX Results                                \n",
      "==============================================================================\n",
      "Dep. Variable:                      y   No. Observations:                  100\n",
      "Model:                 ARIMA(1, 1, 1)   Log Likelihood                -131.425\n",
      "Date:                Fri, 23 Aug 2024   AIC                            268.850\n",
      "Time:                        14:02:49   BIC                            276.635\n",
      "Sample:                    01-01-2023   HQIC                           272.000\n",
      "                         - 04-10-2023                                         \n",
      "Covariance Type:                  opg                                         \n",
      "==============================================================================\n",
      "                 coef    std err          z      P>|z|      [0.025      0.975]\n",
      "------------------------------------------------------------------------------\n",
      "ar.L1          0.3998      5.647      0.071      0.944     -10.667      11.467\n",
      "ma.L1         -0.4158      5.589     -0.074      0.941     -11.370      10.538\n",
      "sigma2         0.8329      0.123      6.780      0.000       0.592       1.074\n",
      "===================================================================================\n",
      "Ljung-Box (L1) (Q):                   0.00   Jarque-Bera (JB):                 0.53\n",
      "Prob(Q):                              0.95   Prob(JB):                         0.77\n",
      "Heteroskedasticity (H):               0.92   Skew:                            -0.16\n",
      "Prob(H) (two-sided):                  0.81   Kurtosis:                         2.82\n",
      "===================================================================================\n",
      "\n",
      "Warnings:\n",
      "[1] Covariance matrix calculated using the outer product of gradients (complex-step).\n",
      "Prognoza na 10 dni: 2023-04-11    39.618834\n",
      "2023-04-12    39.620228\n",
      "2023-04-13    39.620785\n",
      "2023-04-14    39.621007\n",
      "2023-04-15    39.621096\n",
      "2023-04-16    39.621132\n",
      "2023-04-17    39.621146\n",
      "2023-04-18    39.621152\n",
      "2023-04-19    39.621154\n",
      "2023-04-20    39.621155\n",
      "Freq: D, Name: predicted_mean, dtype: float64\n"
     ]
    },
    {
     "data": {
      "image/png": "[encoded data removed]",
      "text/plain": [
       "<Figure size 640x480 with 1 Axes>"
      ]
     },
     "metadata": {},
     "output_type": "display_data"
    }
   ],
   "source": [
    "import pandas as pd\n",
    "import numpy as np\n",
    "import statsmodels.api as sm\n",
    "from matplotlib import pyplot as plt\n",
    "\n",
    "# Przykładowe dane: symulacja szeregu czasowego\n",
    "np.random.seed(42)\n",
    "data = np.cumsum(np.random.randn(100)) + 50\n",
    "dates = pd.date_range('2023-01-01', periods=100, freq='D')\n",
    "series = pd.Series(data, index=dates)\n",
    "\n",
    "# Tworzenie i dopasowanie modelu ARIMA\n",
    "model = sm.tsa.ARIMA(series, order=(1, 1, 1))\n",
    "results = model.fit()\n",
    "\n",
    "# Podsumowanie wyników modelu\n",
    "print(results.summary())\n",
    "\n",
    "# Prognozowanie przyszłych wartości\n",
    "forecast = results.forecast(steps=10)\n",
    "print(\"Prognoza na 10 dni:\", forecast)\n",
    "\n",
    "# Wizualizacja\n",
    "series.plot(label='Dane historyczne')\n",
    "plt.plot(forecast, label='Prognoza', linestyle='--')\n",
    "plt.legend()\n",
    "plt.show()\n"
   ]
  },
  {
   "cell_type": "markdown",
   "metadata": {},
   "source": [
    "W tym przykładzie użyto Statsmodels do modelowania symulowanego szeregu czasowego za pomocą modelu ARIMA (ang. *autoregressive integrated moving average*). Model został dopasowany do danych, a następnie wykorzystany do prognozowania przyszłych wartości. Wyniki prognozy zostały zwizualizowane na wykresie, pokazując przewidywane wartości w stosunku do danych historycznych.\n"
   ]
  },
  {
   "cell_type": "markdown",
   "metadata": {},
   "source": [
    "### Przykład 2: Diagnostyka i wizualizacja reszt modelu ARIMA"
   ]
  },
  {
   "cell_type": "code",
   "execution_count": 33,
   "metadata": {},
   "outputs": [
    {
     "data": {
      "image/png": "[encoded data removed]",
      "text/plain": [
       "<Figure size 640x480 with 1 Axes>"
      ]
     },
     "metadata": {},
     "output_type": "display_data"
    },
    {
     "data": {
      "image/png": "[encoded data removed]",
      "text/plain": [
       "<Figure size 640x480 with 1 Axes>"
      ]
     },
     "metadata": {},
     "output_type": "display_data"
    }
   ],
   "source": [
    "# Diagnostyka reszt modelu\n",
    "residuals = results.resid\n",
    "\n",
    "# Autokorelacja reszt\n",
    "sm.graphics.tsa.plot_acf(residuals)\n",
    "plt.show()\n",
    "\n",
    "# Histogram reszt\n",
    "residuals.plot(kind='hist', bins=30)\n",
    "plt.title('Histogram reszt modelu')\n",
    "plt.show()\n"
   ]
  },
  {
   "cell_type": "markdown",
   "metadata": {},
   "source": [
    "Powyższy kod pokazuje, jak przeprowadzić diagnostykę reszt modelu ARIMA. Analiza autokorelacji reszt pomaga ocenić, czy model dobrze dopasowuje się do danych, podczas gdy histogram reszt pozwala sprawdzić ich rozkład, co jest istotne dla oceny jakości modelu.\n",
    "\n"
   ]
  },
  {
   "cell_type": "markdown",
   "metadata": {},
   "source": [
    "## Statsforecast (Nixtlaverse)\n",
    "\n",
    "Statsforecast to nowoczesna biblioteka zaprojektowana do szybkiego i skalowalnego prognozowania szeregów czasowych. Należy do ekosystemu Nixtlaverse, który skupia narzędzia optymalizujące prognozowanie za pomocą różnych technik - od klasycznej analizy szeregów czasowych po metody ML. Statsforecast oferuje implementacje popularnych modeli, takich jak ETS, ARIMA, i inne, zoptymalizowane pod kątem szybkości i wydajności. Dzięki wykorzystaniu wielowątkowości i innych technik optymalizacji, Statsforecast pozwala na szybkie prognozowanie setek tysięcy szeregów czasowych jednocześnie.\n",
    "\n",
    "Co więcej - w porównaniu do Statsforecast - dokumentacja i przewodniki Nixlaverse są znakomicie i przejrzyście napisane!!! Razem z pokrewnymi bibliotekami `mlforecast` i `neural` tworzą spójny ekosystem.\n",
    "\n",
    "```{admonition} Zastosowania Statsforecast\n",
    ":class: tip\n",
    "Statsforecast jest używany do:\n",
    "1. Prognozowania szeregów czasowych za pomocą modeli ARIMA, ETS, i innych.\n",
    "2. Szybkiego i skalowalnego prognozowania wielu szeregów czasowych.\n",
    "```\n",
    "\n",
    "### Dodatkowe materiały\n",
    "\n",
    "```{admonition} Przydatne linki - Statsforecast\n",
    ":class: tip\n",
    "[Oficjalny przewodnik po funkcjach Statsforecast](https://nixtlaverse.nixtla.io/statsforecast/index.html)\n",
    "```\n",
    "\n"
   ]
  },
  {
   "cell_type": "markdown",
   "metadata": {},
   "source": [
    "### Przykład 1: Szybkie prognozowanie szeregu czasowego za pomocą metody Holta-Wintersa"
   ]
  },
  {
   "cell_type": "code",
   "execution_count": 34,
   "metadata": {},
   "outputs": [
    {
     "name": "stderr",
     "output_type": "stream",
     "text": [
      "/home/filip/miniconda3/envs/dsbook/lib/python3.11/site-packages/statsforecast/core.py:492: FutureWarning:\n",
      "\n",
      "In a future version the predictions will have the id as a column. You can set the `NIXTLA_ID_AS_COL` environment variable to adopt the new behavior and to suppress this warning.\n",
      "\n",
      "/home/filip/miniconda3/envs/dsbook/lib/python3.11/site-packages/statsforecast/core.py:1447: FutureWarning:\n",
      "\n",
      "Passing the ids as the index is deprecated. Please provide them as a column instead.\n",
      "\n"
     ]
    },
    {
     "name": "stdout",
     "output_type": "stream",
     "text": [
      "                      ds  HoltWinters  HoltWinters-lo-90  HoltWinters-hi-90\n",
      "unique_id                                                                  \n",
      "AirPassengers 1960-12-02   453.088745         428.115234         478.062256\n",
      "AirPassengers 1960-12-03   427.476532         402.366119         452.586975\n",
      "AirPassengers 1960-12-04   460.631775         435.381927         485.881622\n",
      "AirPassengers 1960-12-05   497.036804         471.645081         522.428528\n",
      "AirPassengers 1960-12-06   507.507538         481.971436         533.043640\n",
      "AirPassengers 1960-12-07   567.922485         542.239502         593.605408\n",
      "AirPassengers 1960-12-08   650.842590         625.010376         676.674866\n",
      "AirPassengers 1960-12-09   635.878601         609.894531         661.862610\n",
      "AirPassengers 1960-12-10   537.471191         511.332947         563.609497\n",
      "AirPassengers 1960-12-11   488.687286         462.392334         514.982239\n"
     ]
    },
    {
     "data": {
      "image/png": "[encoded data removed]",
      "text/plain": [
       "<Figure size 1600x350 with 1 Axes>"
      ]
     },
     "execution_count": 34,
     "metadata": {},
     "output_type": "execute_result"
    }
   ],
   "source": [
    "from statsforecast import StatsForecast\n",
    "from statsforecast.models import HoltWinters\n",
    "import pandas as pd\n",
    "\n",
    "# Przykładowe dane: air passengers\n",
    "df = pd.read_csv('https://datasets-nixtla.s3.amazonaws.com/air-passengers.csv', parse_dates=['ds'])\n",
    "\n",
    "# Tworzenie modelu Holta-Wintersa i prognozowanie\n",
    "sf = StatsForecast(models=[HoltWinters(season_length=12)], freq='D')\n",
    "\n",
    "# Uczenie modelu na podstawie historycznych danych\n",
    "sf.fit(df=df)\n",
    "\n",
    "# Prognozowanie przyszłych wartości\n",
    "forecast_df = sf.predict(h=10, level=[90])\n",
    "\n",
    "# Wyświetlanie prognozy\n",
    "print(forecast_df)\n",
    "\n",
    "# Wizualizacja prognozy\n",
    "sf.plot(df.tail(5), forecast_df, level=[90])"
   ]
  },
  {
   "cell_type": "markdown",
   "metadata": {},
   "source": [
    "W powyższym przykładzie użyto Statsforecast do prognozowania szeregów czasowych przy użyciu modelu Holta-Wintersa. Wyniki prognozy zostały wyświetlone i zwizualizowane, pokazując prognozowane wartości na kolejne 10 dni.\n",
    "\n"
   ]
  },
  {
   "cell_type": "markdown",
   "metadata": {},
   "source": [
    "### Przykład 2: Szkolenie wielu modeli jednocześnie"
   ]
  },
  {
   "cell_type": "code",
   "execution_count": 35,
   "metadata": {},
   "outputs": [
    {
     "name": "stderr",
     "output_type": "stream",
     "text": [
      "/home/filip/miniconda3/envs/dsbook/lib/python3.11/site-packages/statsforecast/core.py:492: FutureWarning:\n",
      "\n",
      "In a future version the predictions will have the id as a column. You can set the `NIXTLA_ID_AS_COL` environment variable to adopt the new behavior and to suppress this warning.\n",
      "\n",
      "/home/filip/miniconda3/envs/dsbook/lib/python3.11/site-packages/statsforecast/core.py:1447: FutureWarning:\n",
      "\n",
      "Passing the ids as the index is deprecated. Please provide them as a column instead.\n",
      "\n"
     ]
    },
    {
     "name": "stdout",
     "output_type": "stream",
     "text": [
      "                      ds  HoltWinters  HoltWinters-lo-90  HoltWinters-hi-90  \\\n",
      "unique_id                                                                     \n",
      "AirPassengers 1960-12-02   453.088745         428.115234         478.062256   \n",
      "AirPassengers 1960-12-03   427.476532         402.366119         452.586975   \n",
      "AirPassengers 1960-12-04   460.631775         435.381927         485.881622   \n",
      "AirPassengers 1960-12-05   497.036804         471.645081         522.428528   \n",
      "AirPassengers 1960-12-06   507.507538         481.971436         533.043640   \n",
      "AirPassengers 1960-12-07   567.922485         542.239502         593.605408   \n",
      "AirPassengers 1960-12-08   650.842590         625.010376         676.674866   \n",
      "AirPassengers 1960-12-09   635.878601         609.894531         661.862610   \n",
      "AirPassengers 1960-12-10   537.471191         511.332947         563.609497   \n",
      "AirPassengers 1960-12-11   488.687286         462.392334         514.982239   \n",
      "AirPassengers 1960-12-12   420.511292         394.057220         446.965363   \n",
      "AirPassengers 1960-12-13   463.407196         436.791565         490.022827   \n",
      "\n",
      "                AutoARIMA  AutoARIMA-lo-90  AutoARIMA-hi-90     AutoETS  \\\n",
      "unique_id                                                                 \n",
      "AirPassengers  444.300049       424.971436       463.628693  436.156677   \n",
      "AirPassengers  418.210022       394.616974       441.803070  440.317139   \n",
      "AirPassengers  446.237030       418.134003       474.340057  444.477600   \n",
      "AirPassengers  488.228943       456.491608       519.966248  448.638092   \n",
      "AirPassengers  499.231354       464.168854       534.293884  452.798553   \n",
      "AirPassengers  562.230652       524.150452       600.310852  456.959015   \n",
      "AirPassengers  649.230835       608.349976       690.111694  461.119476   \n",
      "AirPassengers  633.230774       589.730652       676.730896  465.279938   \n",
      "AirPassengers  535.230774       489.260010       581.201599  469.440399   \n",
      "AirPassengers  488.230804       439.915619       536.545959  473.600891   \n",
      "AirPassengers  417.230804       366.679810       467.781799  477.761353   \n",
      "AirPassengers  459.230804       406.538788       511.922821  481.921814   \n",
      "\n",
      "               AutoETS-lo-90  AutoETS-hi-90  \n",
      "unique_id                                    \n",
      "AirPassengers     359.774292     512.539062  \n",
      "AirPassengers     331.475494     549.158813  \n",
      "AirPassengers     310.160889     578.794312  \n",
      "AirPassengers     292.366394     604.909790  \n",
      "AirPassengers     276.760742     628.836365  \n",
      "AirPassengers     262.666473     651.251587  \n",
      "AirPassengers     249.683929     672.555054  \n",
      "AirPassengers     237.554657     693.005249  \n",
      "AirPassengers     226.100342     712.780457  \n",
      "AirPassengers     215.192047     732.009705  \n",
      "AirPassengers     204.733047     750.789612  \n",
      "AirPassengers     194.648727     769.194885  \n"
     ]
    },
    {
     "data": {
      "image/png": "[encoded data removed]",
      "text/plain": [
       "<Figure size 1600x350 with 1 Axes>"
      ]
     },
     "execution_count": 35,
     "metadata": {},
     "output_type": "execute_result"
    }
   ],
   "source": [
    "from statsforecast import StatsForecast\n",
    "from statsforecast.models import HoltWinters, AutoARIMA, AutoETS\n",
    "import pandas as pd\n",
    "\n",
    "# Przykładowe dane: air passengers\n",
    "df = pd.read_csv('https://datasets-nixtla.s3.amazonaws.com/air-passengers.csv', parse_dates=['ds'])\n",
    "\n",
    "# Szkolenie kilku modeli jednocześnie\n",
    "sf = StatsForecast(models=[\n",
    "    HoltWinters(season_length=12),\n",
    "    AutoARIMA(season_length=12),\n",
    "    AutoETS()], freq='D')\n",
    "\n",
    "# Uczenie modelu na podstawie historycznych danych\n",
    "sf.fit(df=df)\n",
    "\n",
    "# Prognozowanie przyszłych wartości\n",
    "forecast_df = sf.predict(h=12, level=[90])\n",
    "\n",
    "# Wyświetlanie prognozy\n",
    "print(forecast_df)\n",
    "\n",
    "# Wizualizacja prognozy\n",
    "sf.plot(df.tail(10), forecast_df, level=[90])"
   ]
  }
 ],
 "metadata": {
  "kernelspec": {
   "display_name": "experiments",
   "language": "python",
   "name": "python3"
  },
  "language_info": {
   "codemirror_mode": {
    "name": "ipython",
    "version": 3
   },
   "file_extension": ".py",
   "mimetype": "text/x-python",
   "name": "python",
   "nbconvert_exporter": "python",
   "pygments_lexer": "ipython3",
   "version": "3.11.9"
  }
 },
 "nbformat": 4,
 "nbformat_minor": 2
}
