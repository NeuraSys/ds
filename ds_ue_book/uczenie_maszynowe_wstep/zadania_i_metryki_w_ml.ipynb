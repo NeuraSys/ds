{
 "cells": [
  {
   "cell_type": "code",
   "execution_count": 14,
   "metadata": {
    "tags": [
     "remove-cell"
    ]
   },
   "outputs": [],
   "source": [
    "import pandas as pd\n",
    "import numpy as np\n",
    "\n",
    "from IPython.display import display"
   ]
  },
  {
   "cell_type": "markdown",
   "metadata": {},
   "source": [
    "# Wprowadzenie do zadań i metryk w uczeniu maszynowym [^autor]\n",
    "\n",
    "[^autor]: Autor sekcji: {ref}`authors:filip-wojcik`.\n",
    "\n",
    "w poprzednich rozdziałach omówiliśmy sobie podstawowe zagadnienia związane z teorią uczenia się - błędami generalizacji i dopasowania. Brakuje nam w tej układance jednego elementu - odpowiedzi na pytanie: **jak oceniać jakość modeli uczenia maszynowego?**. Względem jakich kryteriów?\n",
    "Metryki oceny są uzależnione od **zadania, jakie dany model ma realizować**.\n",
    "\n",
    "W niniejszym rozdziale przedstawione zostaną podstawowe pojęcia związane z funkcjami kosztu i straty, omówiony zostanie podział zadań w uczeniu maszynowym oraz zaprezentowane zostaną najważniejsze metryki oceny modeli.\n",
    "Omówimy sobie:\n",
    "1. Funkcje kosztu i straty - Funkcje kosztu i straty stanowią fundament w ocenie jakości modeli uczenia maszynowego. Są to funkcje matematyczne, które kwantyfikują różnicę pomiędzy przewidywaniami modelu a rzeczywistymi wartościami. Celem nauki modelu jest minimalizacja tej różnicy, co prowadzi do poprawy jego dokładności.\n",
    "2. Podział zadań w uczeniu maszynowym\n",
    "    Zadania w uczeniu maszynowym można podzielić na kilka głównych kategorii, z których najważniejsze to:\n",
    "   - **Klasyfikacja**: Przypisywanie elementów do określonych klas.\n",
    "   - **Klasyfikacja probabilistyczna**: Szczególny przypadek klasyfikacji, różniący się nieco metrykami oceny.\n",
    "   - **Regresja**: Przewidywanie wartości ciągłych.\n",
    "   - **Grupowanie (klasteryzacja)**: Grupowanie podobnych elementów w zbiory.\n",
    "   - **Ranking**: Ustalanie kolejności elementów, szczególnie w systemach rekomendacyjnych.\n",
    "3. Klasyfikację i jej metryki.\n",
    "4. Regresję i jej metryki.\n",
    "5. Grupowanie i jego metryki.\n",
    "6. Ranking i jego metryki.\n",
    "\n",
    "```{admonition} Inne zadania, inne metryki\n",
    ":class: tip\n",
    "Warto zauważyć, że niektóre specyficzne dziedziny uczenia maszynowego, takie jak analiza grafów czy analiza obrazów, mają swoje unikalne metryki oceny. Ten rozdział jednak skupia się na klasycznych, ogólnych metrykach stosowanych w różnych zadaniach uczenia maszynowego, zapewniając solidne podstawy do \n",
    "dalszego zgłębiania bardziej zaawansowanych zagadnień.\n",
    "```"
   ]
  },
  {
   "cell_type": "markdown",
   "metadata": {},
   "source": [
    "# Funkcje kosztu i straty\n",
    "\n",
    "W uczeniu maszynowym funkcje kosztu i straty odgrywają kluczową rolę w ocenie i optymalizacji modeli. Stanowią one formalne narzędzie do kwantyfikacji różnic między przewidywaniami modelu a rzeczywistymi wartościami, co pozwala na iteracyjne doskonalenie modeli poprzez minimalizację tych różnic.\n",
    "\n",
    "```{admonition} Brak jednej definicji\n",
    ":class: tip\n",
    "\n",
    "Nie ma konsensusu odnośnie definicji tych terminów wśród autorów i praktyków uczenia maszynowego. W praktyce często używa się ich zamiennie, choć niektórzy wyróżniają między nimi różnice. W niniejszym rozdziale przedstawimy obie definicje oraz ich wspólne rozumienie, jako alternatywny punkt widzenia.\n",
    "```\n",
    "\n"
   ]
  },
  {
   "cell_type": "markdown",
   "metadata": {},
   "source": [
    "```{glossary}\n",
    "Funkcja straty\n",
    "    (ang. *loss function*) - oznaczana abstrakcyjnie jako $\\mathcal{L}(\\hat{y}, y)$ mierzy różnice między predykcja modelu $\\hat{y} = h(\\mathbf{x}_i; \\theta)$ (gdzie $h$ jest modelem/hipotezą uczenia maszynowego przewidującą wynik dla przykładu uczącego $\\mathbf{x}$) a rzeczywistą wartością oczekiwaną dla danego przykładu uczącego.\n",
    "\n",
    "Funkcja kosztu\n",
    "    (ang. *cost function*) - oznaczana abstrakcyjnie jako $\\mathcal{J}(\\theta)$ mierzy różnice między predykcjami modelu a rzeczywistymi wartościami dla **całego zbioru danych uczących**. Jest to agregacja funkcji straty dla wszystkich przykładów uczących. Agregację można przeprowadzić za pomocą średniej, mediany lub podobnych miar. Funkcja kosztu nierzadko zawiera również komponent regularyzujący złożoność modelu (np. złożoność wag) uzyskując postać: \n",
    "    $J(\\theta) = \\text{AGG}\\left\\{ \\mathcal{L}(\\hat{y}_i, y_i), \\forall i \\in \\mathcal{D} \\right\\} + \\Omega(\\theta)$\n",
    "```\n",
    "\n",
    "Definicje zamieszczone poniżej odnajdziemy w zbliżonej postaci m. in. w {cite:ps}`Ma2007CS229LN`, {cite:ps}`hastie2009elements`, {cite:ps}`goodfellow2016deep`. Co ciekawe, prof. Andrew Ng używa rozróżnia ang. *cost* i *loss function* w swoich kursach prowadzonych na platformie Coursera, **ale** w publikowanych materiałach Stanfordu do kursu CS229 posługuje się **czasami określeniem **cost** a czasem **cost/loss** function* dodając słowne określenie, czy mówi o funkcji dotyczącej wszystkich przykładów, czy całego zbioru danych.\n",
    "\n",
    "Przykładowo:\n",
    "\n",
    "1. W rozdziale 8 {cite:ps}`Ma2007CS229LN`, \"Generalization\" czytamy:\n",
    "> (...) we typically learn a model $h(\\theta)$ by minimizing a loss/cost function $J(\\theta)$, which encourages $h(\\theta)$ to fit the data. E.g., E.g., when the loss function is the least square loss (aka mean squared error), we have $J(\\theta) = \\frac{1}{n} \\sum_{i=1}^{n} (y^{(i)} - h_\\theta(x^{(i)}))^2$. This loss function for training purposes is oftentimes referred to as the training loss/error/cost.\n",
    "2. W rozdziale 7.1. {cite:ps}`Ma2007CS229LN` \"Deep learning\" czytamy:\n",
    ">  For simplicity, we start with the case where the output is a real number, that is, $y^{(i)} \\in \\mathbb{R}$ and thus the model $h(\\theta)$ also outputs a real number (...). We define the least square cost function for the i-th example $(x^{(i)}, y^{(i)})$ as: $ J^{(i)}(\\theta) = \\frac{1}{2} (h_\\theta(x^{(i)}) - y^{(i)})^2$, and define the mean-square cost function for the dataset as: $J(\\theta) = \\frac{1}{n} \\sum_{i=1}^{n} J^{(i)}(\\theta)$.\n",
    "\n",
    "\n",
    "Z kolei Ian Goodfellow, uznany praktyk i naukowiec (do niedawna zaangażowany w DeepMind) w swojej książce \"Deep Learning Book\" {cite:ps}`goodfellow2016deep` w ogóle nie rozróżnia pojęć *loss / cost function* wprost, stosując je zamiennie i dodając, w definicji, czy opisuje funkcję dla pojedynczego przykładu czy dla całego zbioru danych.\n",
    "\n",
    "```{admonition} Funkcje kosztu i straty w praktyce\n",
    ":class: important\n",
    "Nie chodzi nam tutaj o teoretyczne spory i rozważania. Ważna lekcja do zapamiętania ogranicza się do tych kilku punktów:\n",
    "1. Możemy odróżniać funkcje opisujące błędy dla **pojedynczego przykładu**;\n",
    "2. Wiele takich funkcji można **zagregować** (np. za pomocą średniej) i uzyskać funkcję kosztu dla całego zbioru danych, dodając np. karę za złożoność całego modelu;\n",
    "3. Jeśli ktoś próbuje nam zarzucić, że źle używamy tych pojęć, to warto zwrócić uwagę, że nie ma zgody co do ich rozdziału wśród ekspertów.\n",
    "```"
   ]
  },
  {
   "cell_type": "markdown",
   "metadata": {},
   "source": [
    "# Klasyfikacja\n",
    "\n",
    "\n",
    "```{glossary}\n",
    "Klasyfikacja\n",
    "    Klasyfikacja jest jednym z kluczowych zadań w uczeniu maszynowym, polegającym na przypisaniu obiektów do określonych kategorii (klas) na podstawie ich cech.\n",
    "    Formalnie, klasyfikator jest funkcją $h: \\mathcal{X} \\rightarrow \\mathcal{C}, \\text{ gdzie } \\mathcal{C} = \\left\\{c_1, c_2, \\dots, c_k \\right\\}$, która przypisuje obiektom $x \\in \\mathcal{X}$ etykiety z zadanego, skończonego zbioru.\n",
    "    Możemy wyróżnić dwa podstawowe typy klasyfikacji: klasyfikację binarną, gdzie mamy do czynienia z dwiema klasami, oraz klasyfikację wieloklasową, gdzie obiekt może należeć do jednej z wielu klas. W języku polskim określa się czasem zadnie klasyfikacji, mianem `taksonomii`.\n",
    "    {cite:ps}`flach2012machine`, {cite:ps}`hastie2009elements`, {cite:ps}`Ma2007CS229LN`\n",
    "```"
   ]
  },
  {
   "cell_type": "markdown",
   "metadata": {},
   "source": [
    "Przyjrzyjmy się poniższym przykładom klasyfikacji binarnej i wieloklasowej."
   ]
  },
  {
   "cell_type": "markdown",
   "metadata": {},
   "source": [
    "## Przykłady klasyfikacji"
   ]
  },
  {
   "cell_type": "markdown",
   "metadata": {},
   "source": [
    "### Klasyfikacja binarna\n",
    "\n",
    "Jednym z klasycznych zbiorów danych, dla których pokazuje się przykłady klasyfikacji binarnej jest zbiór \"Titanic\", który zawiera informacje o pasażerach słynnego okrętu, w tym informacje o tym, **czy dany pasażer przeżył katastrofę czy nie**. Wolumen danych zawiera informacje demograficzne (płać, wielkość rodziny oraz jej obecność na statku), oraz związane z zajmowaną kabiną, opłatami, etc."
   ]
  },
  {
   "cell_type": "code",
   "execution_count": 15,
   "metadata": {},
   "outputs": [
    {
     "data": {
      "text/html": [
       "<div>\n",
       "<style scoped>\n",
       "    .dataframe tbody tr th:only-of-type {\n",
       "        vertical-align: middle;\n",
       "    }\n",
       "\n",
       "    .dataframe tbody tr th {\n",
       "        vertical-align: top;\n",
       "    }\n",
       "\n",
       "    .dataframe thead th {\n",
       "        text-align: right;\n",
       "    }\n",
       "</style>\n",
       "<table border=\"1\" class=\"dataframe\">\n",
       "  <thead>\n",
       "    <tr style=\"text-align: right;\">\n",
       "      <th></th>\n",
       "      <th>survived</th>\n",
       "      <th>pclass</th>\n",
       "      <th>sex</th>\n",
       "      <th>age</th>\n",
       "      <th>sibsp</th>\n",
       "      <th>parch</th>\n",
       "      <th>fare</th>\n",
       "      <th>embarked</th>\n",
       "      <th>class</th>\n",
       "      <th>who</th>\n",
       "      <th>adult_male</th>\n",
       "      <th>deck</th>\n",
       "      <th>embark_town</th>\n",
       "      <th>alive</th>\n",
       "      <th>alone</th>\n",
       "    </tr>\n",
       "  </thead>\n",
       "  <tbody>\n",
       "    <tr>\n",
       "      <th>0</th>\n",
       "      <td>0</td>\n",
       "      <td>3</td>\n",
       "      <td>male</td>\n",
       "      <td>22.0</td>\n",
       "      <td>1</td>\n",
       "      <td>0</td>\n",
       "      <td>7.2500</td>\n",
       "      <td>S</td>\n",
       "      <td>Third</td>\n",
       "      <td>man</td>\n",
       "      <td>True</td>\n",
       "      <td>NaN</td>\n",
       "      <td>Southampton</td>\n",
       "      <td>no</td>\n",
       "      <td>False</td>\n",
       "    </tr>\n",
       "    <tr>\n",
       "      <th>1</th>\n",
       "      <td>1</td>\n",
       "      <td>1</td>\n",
       "      <td>female</td>\n",
       "      <td>38.0</td>\n",
       "      <td>1</td>\n",
       "      <td>0</td>\n",
       "      <td>71.2833</td>\n",
       "      <td>C</td>\n",
       "      <td>First</td>\n",
       "      <td>woman</td>\n",
       "      <td>False</td>\n",
       "      <td>C</td>\n",
       "      <td>Cherbourg</td>\n",
       "      <td>yes</td>\n",
       "      <td>False</td>\n",
       "    </tr>\n",
       "    <tr>\n",
       "      <th>2</th>\n",
       "      <td>1</td>\n",
       "      <td>3</td>\n",
       "      <td>female</td>\n",
       "      <td>26.0</td>\n",
       "      <td>0</td>\n",
       "      <td>0</td>\n",
       "      <td>7.9250</td>\n",
       "      <td>S</td>\n",
       "      <td>Third</td>\n",
       "      <td>woman</td>\n",
       "      <td>False</td>\n",
       "      <td>NaN</td>\n",
       "      <td>Southampton</td>\n",
       "      <td>yes</td>\n",
       "      <td>True</td>\n",
       "    </tr>\n",
       "    <tr>\n",
       "      <th>3</th>\n",
       "      <td>1</td>\n",
       "      <td>1</td>\n",
       "      <td>female</td>\n",
       "      <td>35.0</td>\n",
       "      <td>1</td>\n",
       "      <td>0</td>\n",
       "      <td>53.1000</td>\n",
       "      <td>S</td>\n",
       "      <td>First</td>\n",
       "      <td>woman</td>\n",
       "      <td>False</td>\n",
       "      <td>C</td>\n",
       "      <td>Southampton</td>\n",
       "      <td>yes</td>\n",
       "      <td>False</td>\n",
       "    </tr>\n",
       "    <tr>\n",
       "      <th>4</th>\n",
       "      <td>0</td>\n",
       "      <td>3</td>\n",
       "      <td>male</td>\n",
       "      <td>35.0</td>\n",
       "      <td>0</td>\n",
       "      <td>0</td>\n",
       "      <td>8.0500</td>\n",
       "      <td>S</td>\n",
       "      <td>Third</td>\n",
       "      <td>man</td>\n",
       "      <td>True</td>\n",
       "      <td>NaN</td>\n",
       "      <td>Southampton</td>\n",
       "      <td>no</td>\n",
       "      <td>True</td>\n",
       "    </tr>\n",
       "  </tbody>\n",
       "</table>\n",
       "</div>"
      ],
      "text/plain": [
       "   survived  pclass     sex   age  sibsp  parch     fare embarked  class  \\\n",
       "0         0       3    male  22.0      1      0   7.2500        S  Third   \n",
       "1         1       1  female  38.0      1      0  71.2833        C  First   \n",
       "2         1       3  female  26.0      0      0   7.9250        S  Third   \n",
       "3         1       1  female  35.0      1      0  53.1000        S  First   \n",
       "4         0       3    male  35.0      0      0   8.0500        S  Third   \n",
       "\n",
       "     who  adult_male deck  embark_town alive  alone  \n",
       "0    man        True  NaN  Southampton    no  False  \n",
       "1  woman       False    C    Cherbourg   yes  False  \n",
       "2  woman       False  NaN  Southampton   yes   True  \n",
       "3  woman       False    C  Southampton   yes  False  \n",
       "4    man        True  NaN  Southampton    no   True  "
      ]
     },
     "execution_count": 15,
     "metadata": {},
     "output_type": "execute_result"
    }
   ],
   "source": [
    "# Wczytywanie danych z pliku CSV\n",
    "url = \"https://raw.githubusercontent.com/mwaskom/seaborn-data/master/titanic.csv\"\n",
    "titanic_data = pd.read_csv(url)\n",
    "\n",
    "# Przegląd pierwszych kilku wierszy\n",
    "titanic_data.head()"
   ]
  },
  {
   "cell_type": "code",
   "execution_count": 16,
   "metadata": {},
   "outputs": [
    {
     "data": {
      "text/plain": [
       "survived\n",
       "0    0.616\n",
       "1    0.384\n",
       "Name: proportion, dtype: float64"
      ]
     },
     "execution_count": 16,
     "metadata": {},
     "output_type": "execute_result"
    }
   ],
   "source": [
    "titanic_data.survived.value_counts(normalize=True).round(3)"
   ]
  },
  {
   "cell_type": "markdown",
   "metadata": {},
   "source": [
    "Widzimy, że proporcja klas wynosi około 2:1 (przeżył vs. nie przeżył), a zatem mamy do czynienia z problemem **niezbalansowanym**. Przekładając to na język formalny, możemy powiedzieć, że w przypadku zbioru danych `Titanic`:\n",
    "\n",
    "$$\\mathcal{C}_{\\text{Ttianic}} = \\left\\{ \\text{0}, \\text{1} \\right\\}$$\n",
    "\n",
    "gdzie 0 oznacza, że pasażer nie przeżył katastrofy, a 1, że przeżył."
   ]
  },
  {
   "cell_type": "markdown",
   "metadata": {},
   "source": [
    "### Klasyfikacja wieloklasowa\n",
    "\n",
    "Przykładem klasyfikacji wieloklasowej, jest zbiór danych 'Iris', który zawiera informacje o trzech gatunkach irysów: `Iris-setosa`, `Iris-versicolor`, `Iris-virginica`. W tym przypadku mamy do czynienia z problemem **zbalansowanym**, ponieważ każda z klas ma tyle samo przykładów. Jest to chyba najczęściej wykorzystywany, w celach edukacyjnych, zbiór danych w uczeniu maszynowym."
   ]
  },
  {
   "cell_type": "code",
   "execution_count": 17,
   "metadata": {},
   "outputs": [
    {
     "data": {
      "text/html": [
       "<div>\n",
       "<style scoped>\n",
       "    .dataframe tbody tr th:only-of-type {\n",
       "        vertical-align: middle;\n",
       "    }\n",
       "\n",
       "    .dataframe tbody tr th {\n",
       "        vertical-align: top;\n",
       "    }\n",
       "\n",
       "    .dataframe thead th {\n",
       "        text-align: right;\n",
       "    }\n",
       "</style>\n",
       "<table border=\"1\" class=\"dataframe\">\n",
       "  <thead>\n",
       "    <tr style=\"text-align: right;\">\n",
       "      <th></th>\n",
       "      <th>sepal length (cm)</th>\n",
       "      <th>sepal width (cm)</th>\n",
       "      <th>petal length (cm)</th>\n",
       "      <th>petal width (cm)</th>\n",
       "      <th>species</th>\n",
       "    </tr>\n",
       "  </thead>\n",
       "  <tbody>\n",
       "    <tr>\n",
       "      <th>0</th>\n",
       "      <td>5.1</td>\n",
       "      <td>3.5</td>\n",
       "      <td>1.4</td>\n",
       "      <td>0.2</td>\n",
       "      <td>setosa</td>\n",
       "    </tr>\n",
       "    <tr>\n",
       "      <th>1</th>\n",
       "      <td>4.9</td>\n",
       "      <td>3.0</td>\n",
       "      <td>1.4</td>\n",
       "      <td>0.2</td>\n",
       "      <td>setosa</td>\n",
       "    </tr>\n",
       "    <tr>\n",
       "      <th>2</th>\n",
       "      <td>4.7</td>\n",
       "      <td>3.2</td>\n",
       "      <td>1.3</td>\n",
       "      <td>0.2</td>\n",
       "      <td>setosa</td>\n",
       "    </tr>\n",
       "  </tbody>\n",
       "</table>\n",
       "</div>"
      ],
      "text/plain": [
       "   sepal length (cm)  sepal width (cm)  petal length (cm)  petal width (cm)  \\\n",
       "0                5.1               3.5                1.4               0.2   \n",
       "1                4.9               3.0                1.4               0.2   \n",
       "2                4.7               3.2                1.3               0.2   \n",
       "\n",
       "  species  \n",
       "0  setosa  \n",
       "1  setosa  \n",
       "2  setosa  "
      ]
     },
     "execution_count": 17,
     "metadata": {},
     "output_type": "execute_result"
    }
   ],
   "source": [
    "from sklearn.datasets import load_iris\n",
    "\n",
    "iris = load_iris()\n",
    "iris_data = pd.DataFrame(data=iris.data, columns=iris.feature_names)\n",
    "iris_data[\"species\"] = [iris.target_names[i] for i in iris.target]\n",
    "iris_data.head(3)"
   ]
  },
  {
   "cell_type": "code",
   "execution_count": 18,
   "metadata": {},
   "outputs": [
    {
     "data": {
      "text/plain": [
       "species\n",
       "setosa        0.333333\n",
       "versicolor    0.333333\n",
       "virginica     0.333333\n",
       "Name: proportion, dtype: float64"
      ]
     },
     "execution_count": 18,
     "metadata": {},
     "output_type": "execute_result"
    }
   ],
   "source": [
    "iris_data.species.value_counts(normalize=True)"
   ]
  },
  {
   "cell_type": "markdown",
   "metadata": {},
   "source": [
    "Przekładając to na język formalny, możemy powiedzieć, że w przypadku zbioru danych `Iris`:\n",
    "\n",
    "$$\\mathcal{C}_{\\text{Iris}} = \\left\\{ \\text{Iris-setosa}, \\text{Iris-versicolor}, \\text{Iris-virginica} \\right\\}$$"
   ]
  },
  {
   "cell_type": "markdown",
   "metadata": {},
   "source": [
    "## Kodowanie kategorii\n",
    "\n",
    "Istotne jest zwrócenie uwagi na fakt, że (wbrew temu, jak zaimplementowane są niektóre algorytmy w poszczególnych bibliotekach), modele uczenia maszynowego **nie mogą przetwarzać etykiet klas w postaci tekstowej**. W rzeczywistości, muszą one być zakodowane w postaci numerycznej, np. za pomocą kodowania `one-hot`.\n",
    "\n",
    "Istnieje wiele sposobów do osiągnięcia tego celu. Poniżej przedstawimy tylko podstawowe sposoby. Bardziej zaawansowane metody, jak np. `embedding` zostaną omówione w dalszej części książki, razem z modelami sieci neuronowych.\n",
    "\n",
    "\n",
    "### One-hot encoding.\n",
    "\n",
    "```{glossary}\n",
    "Kodowanie typu one-hot\n",
    "    (ang. *one-hot encoding*) - technika kodowania zmiennych kategorycznych w postaci wektorów binarnych, w których tylko jedna zmienna jest równa 1, a pozostałe 0. W przypadku klasyfikacji wieloklasowej, każda klasa jest kodowana jako wektor binarny, w którym jedna zmienna jest równa 1, a pozostałe 0.\n",
    "    Jest to jedna z najprostszych metod kodowania numerycznego dla zmiennych kategorycznych. {cite:ps}`galli2022python`\n",
    "```\n",
    "\n",
    "Definicja tej metody jest bardziej skomplikowana, niż jej działanie w praktyce. \"Przepis\" na `one-hot encoding` jest bardzo prosty:\n",
    "```{admonition} Kodowanie one-hot\n",
    ":class: tip\n",
    "1. Dla każdego obiektu w zbiorze danych, przygotuj wektor o długości równej ilości klas.\n",
    "2. Nadaj klasom poszczególne indeksy (np. A - 0, B - 1, C - 2, etc.).\n",
    "3. Dla każdego obiektu - wstaw \"1\" na pozycji wektora, odpowiadającej indeksowi klasy.\n",
    "```\n",
    "\n",
    "W praktyce, wiele bibliotek wykona tą pracę za nas.\n",
    "\n",
    "W celach edukacyjnych, przyjrzyjmy się przykładowej, własnej implementacji."
   ]
  },
  {
   "cell_type": "markdown",
   "metadata": {},
   "source": [
    "#### One-hot encoding - własna implemetacja"
   ]
  },
  {
   "cell_type": "code",
   "execution_count": 19,
   "metadata": {},
   "outputs": [
    {
     "data": {
      "text/html": [
       "<div>\n",
       "<style scoped>\n",
       "    .dataframe tbody tr th:only-of-type {\n",
       "        vertical-align: middle;\n",
       "    }\n",
       "\n",
       "    .dataframe tbody tr th {\n",
       "        vertical-align: top;\n",
       "    }\n",
       "\n",
       "    .dataframe thead th {\n",
       "        text-align: right;\n",
       "    }\n",
       "</style>\n",
       "<table border=\"1\" class=\"dataframe\">\n",
       "  <thead>\n",
       "    <tr style=\"text-align: right;\">\n",
       "      <th></th>\n",
       "      <th>setosa</th>\n",
       "      <th>versicolor</th>\n",
       "      <th>virginica</th>\n",
       "    </tr>\n",
       "  </thead>\n",
       "  <tbody>\n",
       "    <tr>\n",
       "      <th>0</th>\n",
       "      <td>1.0</td>\n",
       "      <td>0.0</td>\n",
       "      <td>0.0</td>\n",
       "    </tr>\n",
       "    <tr>\n",
       "      <th>1</th>\n",
       "      <td>1.0</td>\n",
       "      <td>0.0</td>\n",
       "      <td>0.0</td>\n",
       "    </tr>\n",
       "    <tr>\n",
       "      <th>2</th>\n",
       "      <td>1.0</td>\n",
       "      <td>0.0</td>\n",
       "      <td>0.0</td>\n",
       "    </tr>\n",
       "  </tbody>\n",
       "</table>\n",
       "</div>"
      ],
      "text/plain": [
       "   setosa  versicolor  virginica\n",
       "0     1.0         0.0        0.0\n",
       "1     1.0         0.0        0.0\n",
       "2     1.0         0.0        0.0"
      ]
     },
     "metadata": {},
     "output_type": "display_data"
    },
    {
     "data": {
      "text/html": [
       "<div>\n",
       "<style scoped>\n",
       "    .dataframe tbody tr th:only-of-type {\n",
       "        vertical-align: middle;\n",
       "    }\n",
       "\n",
       "    .dataframe tbody tr th {\n",
       "        vertical-align: top;\n",
       "    }\n",
       "\n",
       "    .dataframe thead th {\n",
       "        text-align: right;\n",
       "    }\n",
       "</style>\n",
       "<table border=\"1\" class=\"dataframe\">\n",
       "  <thead>\n",
       "    <tr style=\"text-align: right;\">\n",
       "      <th></th>\n",
       "      <th>setosa</th>\n",
       "      <th>versicolor</th>\n",
       "      <th>virginica</th>\n",
       "    </tr>\n",
       "  </thead>\n",
       "  <tbody>\n",
       "    <tr>\n",
       "      <th>147</th>\n",
       "      <td>0.0</td>\n",
       "      <td>0.0</td>\n",
       "      <td>1.0</td>\n",
       "    </tr>\n",
       "    <tr>\n",
       "      <th>148</th>\n",
       "      <td>0.0</td>\n",
       "      <td>0.0</td>\n",
       "      <td>1.0</td>\n",
       "    </tr>\n",
       "    <tr>\n",
       "      <th>149</th>\n",
       "      <td>0.0</td>\n",
       "      <td>0.0</td>\n",
       "      <td>1.0</td>\n",
       "    </tr>\n",
       "  </tbody>\n",
       "</table>\n",
       "</div>"
      ],
      "text/plain": [
       "     setosa  versicolor  virginica\n",
       "147     0.0         0.0        1.0\n",
       "148     0.0         0.0        1.0\n",
       "149     0.0         0.0        1.0"
      ]
     },
     "metadata": {},
     "output_type": "display_data"
    }
   ],
   "source": [
    "def simple_ohe(df: pd.DataFrame, target_column: str) -> np.array:\n",
    "\n",
    "    # Pobranie unikalnych wartości z kolumny docelowej\n",
    "    unique_classes = list(df[target_column].unique())\n",
    "\n",
    "    # Przygotowanie macierzy o wymiarach liczba_wierszy x liczba_unikalnych_klas\n",
    "    ohe_vectors = np.zeros((len(df), len(unique_classes)))\n",
    "\n",
    "    # Dla każdego obiektu - ustawienie wartości 1 w odpowiednim miejscu\n",
    "    indices = df[target_column].apply(lambda v: unique_classes.index(v))\n",
    "\n",
    "    # Ustawienie wartości 1 w odpowiednich miejscach\n",
    "    ohe_vectors[np.arange(len(df)), indices] = 1\n",
    "\n",
    "    # Pomocniczo stworzymy sobie DataFrame z etykietami kategorii\n",
    "    ohe_df = pd.DataFrame(ohe_vectors, columns=unique_classes)\n",
    "\n",
    "    return ohe_df\n",
    "\n",
    "iris_simple_ohe = simple_ohe(iris_data, \"species\")\n",
    "\n",
    "display(iris_simple_ohe.head(3))\n",
    "\n",
    "display(iris_simple_ohe.tail(3))"
   ]
  },
  {
   "cell_type": "markdown",
   "metadata": {},
   "source": [
    "#### One-hot encoding - użycie biblioteki 'feature-engine'\n",
    "\n",
    "Biblioteka `feature-engine` jest jedną z wielu, które pozwalają na szybkie i łatwe kodowanie zmiennych kategorycznych. Poniżej przedstawimy przykład użycia tej biblioteki do osiągnięcia dokładnie tego samego efektu, co w przypadku własnej implementacji."
   ]
  },
  {
   "cell_type": "code",
   "execution_count": 20,
   "metadata": {},
   "outputs": [
    {
     "data": {
      "text/html": [
       "<div>\n",
       "<style scoped>\n",
       "    .dataframe tbody tr th:only-of-type {\n",
       "        vertical-align: middle;\n",
       "    }\n",
       "\n",
       "    .dataframe tbody tr th {\n",
       "        vertical-align: top;\n",
       "    }\n",
       "\n",
       "    .dataframe thead th {\n",
       "        text-align: right;\n",
       "    }\n",
       "</style>\n",
       "<table border=\"1\" class=\"dataframe\">\n",
       "  <thead>\n",
       "    <tr style=\"text-align: right;\">\n",
       "      <th></th>\n",
       "      <th>sepal length (cm)</th>\n",
       "      <th>sepal width (cm)</th>\n",
       "      <th>petal length (cm)</th>\n",
       "      <th>petal width (cm)</th>\n",
       "      <th>species_setosa</th>\n",
       "      <th>species_versicolor</th>\n",
       "      <th>species_virginica</th>\n",
       "    </tr>\n",
       "  </thead>\n",
       "  <tbody>\n",
       "    <tr>\n",
       "      <th>0</th>\n",
       "      <td>5.1</td>\n",
       "      <td>3.5</td>\n",
       "      <td>1.4</td>\n",
       "      <td>0.2</td>\n",
       "      <td>1</td>\n",
       "      <td>0</td>\n",
       "      <td>0</td>\n",
       "    </tr>\n",
       "    <tr>\n",
       "      <th>1</th>\n",
       "      <td>4.9</td>\n",
       "      <td>3.0</td>\n",
       "      <td>1.4</td>\n",
       "      <td>0.2</td>\n",
       "      <td>1</td>\n",
       "      <td>0</td>\n",
       "      <td>0</td>\n",
       "    </tr>\n",
       "    <tr>\n",
       "      <th>2</th>\n",
       "      <td>4.7</td>\n",
       "      <td>3.2</td>\n",
       "      <td>1.3</td>\n",
       "      <td>0.2</td>\n",
       "      <td>1</td>\n",
       "      <td>0</td>\n",
       "      <td>0</td>\n",
       "    </tr>\n",
       "  </tbody>\n",
       "</table>\n",
       "</div>"
      ],
      "text/plain": [
       "   sepal length (cm)  sepal width (cm)  petal length (cm)  petal width (cm)  \\\n",
       "0                5.1               3.5                1.4               0.2   \n",
       "1                4.9               3.0                1.4               0.2   \n",
       "2                4.7               3.2                1.3               0.2   \n",
       "\n",
       "   species_setosa  species_versicolor  species_virginica  \n",
       "0               1                   0                  0  \n",
       "1               1                   0                  0  \n",
       "2               1                   0                  0  "
      ]
     },
     "execution_count": 20,
     "metadata": {},
     "output_type": "execute_result"
    }
   ],
   "source": [
    "from feature_engine.encoding import OneHotEncoder\n",
    "\n",
    "ohe = OneHotEncoder(variables=[\"species\"], drop_last=False)\n",
    "ohe.fit_transform(iris_data).head(3)"
   ]
  },
  {
   "cell_type": "markdown",
   "metadata": {},
   "source": [
    "Uzyskany efekt jest ten sam.\n",
    "\n",
    "\n",
    "```{admonition} Kodowanie OHE dla danych treningowych i testowych\n",
    ":class: important\n",
    "\n",
    "Ważne jest, aby uczyć się kodować zmienne OHE na zbiorze **treningowym** i aplikować to samo kodowanie na zbiór **testowy**.\n",
    "\n",
    "Naturalne pytanie pojawiające się w takim układzie to:\n",
    "\n",
    "> Co, gdy w zbiorze testowym pojawi się nowa kategoria, której nie było w zbiorze treningowym?\n",
    "\n",
    "W zależności od naszych zamiarów, modelu, oraz używanej biblioteki, można w dodać jedną, dodatkową kategorię `nieznane` / ang. *other*, która będzie obsługiwała takie przypadki. Warto zwrócić uwagę, że w przypadku niektórych modeli, takie rozwiązanie może prowadzić do problemów z interpretacją wyników.\n",
    "```\n",
    "\n",
    "\n",
    "\n",
    "```{admonition} Słabości metody OHE\n",
    ":class: important\n",
    "\n",
    "Metoda OHE jest bardzo prosta i intuicyjna, ale ma swoje wady. Jedną z nich jest to, że w przypadku zmiennych kategorycznych o dużej liczbie kategorii, może prowadzić do alokacji dużej macierzy opisujacej klasy. Nic dziwnego, skoro na potrzeby tego sposobu, tworzymy macierz o wymiarach `N x K` (gdzie K - liczba klas). Można temu zapobiegać stosujac tzw. macierze rzadkie (ang. *sparse matrices*), które są bardziej efektywne pod względem pamięciowym.\n",
    "\n",
    "To jednak nie wszytko. Metoda OHE pomija zależności pomiedzy klasami, traktując jest wszytkie jednakowo. W przypadku, gdy zależności te są istotne, warto zastanowić się nad innymi metodami kodowania zmiennych kategorycznych, takimi jak `target encoding`, `weight of evidence`, czy `embedding`.\n",
    "```"
   ]
  },
  {
   "cell_type": "markdown",
   "metadata": {},
   "source": [
    "### Kodowanie numeryczne\n",
    "\n",
    "Kodowanie numeryczne jest, w zasadzie pierwszym krokiem metody OHE. W tym przypadku, zamiast alokować macierz `N x K`, (gdzie K - liczba klas), alokujemy jednowymiarowy wektor o długości `N`, gdzie każda klasa jest zakodowana jako liczba całkowita, najczęściej jej indeks. Warto zwrócić uwagę, że w przypadku niektórych modeli, takie kodowanie może prowadzić do błędów interpretacyjnych, ponieważ model może traktować klasy jako zmienne numeryczne, a nie kategoryczne.\n",
    "\n",
    "Bardzo często kodowanie numeryczne jest wykorzystywane przez biblioteki do optymalizacji pamięciowej metody OHE, w celu uniknięcia alokacji dużej macierzy."
   ]
  },
  {
   "cell_type": "markdown",
   "metadata": {},
   "source": [
    "## Metryki klasyfikacji binarnej\n",
    "\n",
    "Teraz, gdy już wiemy, jak przygotować dane do modelu klasyfikacji, warto zastanowić się nad tym, jak ocenić jakość modelu. W tym celu, wykorzystuje się metryki klasyfikacji, które pozwalają na porównanie modeli pod kątem ich skuteczności.\n",
    "\n",
    "Zaczniemy od omówienia metryk dla klasyfikacji binarnej."
   ]
  },
  {
   "cell_type": "markdown",
   "metadata": {},
   "source": [
    "### Macierz pomyłek\n",
    "\n",
    "Podstawowym narzędziem oceny klasyfikacji jest tzw. **macierz pomyłek** (ang. *confusion matrix*), z której można wywodzić cały szereg dodatkowych metryk oceny jakości.\n",
    "\n",
    "```{glossary}\n",
    "Macierz pomyłek\n",
    "    (ang. *confusion matrix*) - tabela, która pozwala na wizualizację wyników klasyfikacji binarnej. Zestawia ze sobą dwie składowe: liczność klas rzeczywistych (danych), oraz liczność predykcji modelu. W macierzy przedstawiane są cztery możliwe zależności, zachodzące między tymi składowymi:\n",
    "    - **TP** (True Positive) - liczba poprawnie sklasyfikowanych obserwacji pozytywnych,\n",
    "    - **TN** (True Negative) - liczba poprawnie sklasyfikowanych obserwacji negatywnych,\n",
    "    - **FP** (False Positive) - liczba błędnie sklasyfikowanych obserwacji pozytywnych,\n",
    "    - **FN** (False Negative) - liczba błędnie sklasyfikowanych obserwacji negatywnych.\n",
    "    {cite:ps}`flach2012machine`, {cite:ps}`hastie2009elements`\n",
    "```\n",
    "\n",
    "Jeden obraz (i przykład) mówi więcej niż tysiąc słow, spójrzmy więc na poniższy przykład, wykorzystujący model zbiór danych Titanic i predykcje prostego modelu."
   ]
  },
  {
   "cell_type": "code",
   "execution_count": 21,
   "metadata": {},
   "outputs": [
    {
     "name": "stdout",
     "output_type": "stream",
     "text": [
      "Wartości rzeczywiste:  [1 0 0 1 1 1 1 0 1 1]\n",
      "Wartości przewidziane:  [0 1 0 1 1 1 1 0 0 1]\n",
      "True Positives (TP):  54\n",
      "True Negatives (TN):  83\n",
      "False Positives (FP):  22\n",
      "False Negatives (FN):  20\n"
     ]
    },
    {
     "data": {
      "image/png": "[encoded data removed]",
      "text/plain": [
       "<Figure size 640x480 with 2 Axes>"
      ]
     },
     "metadata": {},
     "output_type": "display_data"
    }
   ],
   "source": [
    "from sklearn.tree import DecisionTreeClassifier\n",
    "from sklearn.model_selection import train_test_split\n",
    "from feature_engine.imputation import MeanMedianImputer, CategoricalImputer\n",
    "from feature_engine.pipeline import make_pipeline\n",
    "from sklearn.metrics import ConfusionMatrixDisplay, confusion_matrix\n",
    "\n",
    "titanic_cols_to_take = ['pclass', 'sex', 'age', 'sibsp', 'parch', 'fare', 'embarked', 'class', 'adult_male']\n",
    "\n",
    "# Wstępne przygotowanie danych - wypełnienie wart. brakujących i kodowanie OHE\n",
    "num_imputer = MeanMedianImputer(imputation_method='median')\n",
    "cat_imputer = CategoricalImputer(imputation_method='missing', fill_value='missing')\n",
    "titanic_ohe = OneHotEncoder(variables=['sex', 'embarked', 'class', 'adult_male'], ignore_format=True)\n",
    "transformation_pipe = make_pipeline(num_imputer, cat_imputer, titanic_ohe)\n",
    "\n",
    "X = titanic_data.drop(columns=[\"survived\"])[titanic_cols_to_take]\n",
    "y = titanic_data[\"survived\"]\n",
    "\n",
    "# Podział danych na treningowe i testowe\n",
    "X_train_titanic, X_test_titanic, y_train_titanic, y_test_titanic = train_test_split(X, y, test_size=0.2, random_state=42)\n",
    "X_train_titanic = transformation_pipe.fit_transform(X_train_titanic)\n",
    "X_test_titanic = transformation_pipe.transform(X_test_titanic)\n",
    "\n",
    "# Przygotowanie modelu\n",
    "model_titanic = DecisionTreeClassifier(random_state=42)\n",
    "model_titanic.fit(X_train_titanic, y_train_titanic)\n",
    "\n",
    "# Ocena modelu\n",
    "yhat_titanic = model_titanic.predict(X_test_titanic)\n",
    "\n",
    "print(\"Wartości rzeczywiste: \", y_test_titanic.values[:10])\n",
    "print(\"Wartości przewidziane: \", yhat_titanic[:10])\n",
    "\n",
    "confmat = confusion_matrix(y_true=y_test_titanic, y_pred=yhat_titanic)\n",
    "\n",
    "tn, fp, fn, tp = confmat.ravel()\n",
    "print(\"True Positives (TP): \", tp)\n",
    "print(\"True Negatives (TN): \", tn)\n",
    "print(\"False Positives (FP): \", fp)\n",
    "print(\"False Negatives (FN): \", fn)\n",
    "\n",
    "ConfusionMatrixDisplay.from_predictions(y_test_titanic, yhat_titanic);"
   ]
  },
  {
   "cell_type": "markdown",
   "metadata": {},
   "source": [
    "Obrazek powyżej pokazuje zestawienie predykcji i wartości oczekiwanych - wraz z ich pokrywaniem się. \n",
    "\n",
    "1. Suma każdego wiersza - to liczba obserwacji w danej klasie rzeczywistej.\n",
    "2. Suma każdej kolumny - to liczba obserwacji w danej klasie predykcji.\n"
   ]
  },
  {
   "cell_type": "markdown",
   "metadata": {},
   "source": [
    "### Podstawowe metryki\n",
    "\n",
    "Jak widać powyżej, prosta macierz pomyłek daje nam szereg wartości, na podstawie których możemy wyliczać wiele metryk. Do najważniejszych należą {cite:ps}`flach2012machine`:\n",
    "\n",
    "```{glossary}\n",
    "Dokładność\n",
    "    (ang. *accuracy*) - procent obserwacji, które zostały poprawnie sklasyfikowane przez model. Jest to jedna z najbardziej intuicyjnych metryk, ale może być myląca w przypadku niezbalansowanych zbiorów danych.\n",
    "\n",
    "    $$\\text{Accuracy} = \\frac{TP + TN}{TP + TN + FP + FN}$$\n",
    "\n",
    "Precyzja\n",
    "    (ang. *precision*) - procent obserwacji sklasyfikowanych jako pozytywne, które są rzeczywiście pozytywne. Jest to metryka, która pozwala na ocenę jakości modelu/testu. Odpowiada na pytanie: \"jak często model ma rację, gdy przewiduje pozytywny wynik?\".\n",
    "\n",
    "    $$\\text{Precision} = \\frac{TP}{TP + FP}$$\n",
    "\n",
    "Czułość\n",
    "    (ang. *recall* lub *sensitivity*) - procent obserwacji pozytywnych, które zostały poprawnie sklasyfikowane przez model. JOdpowiada na pytanie: \"ile prawdziwie pozytywnych przypadków udało się wykryć\".\n",
    "\n",
    "    $$\\text{Recall} = \\frac{TP}{TP + FN}$$\n",
    "\n",
    "Specyficzność\n",
    "    (ang. *specificity*) - procent obserwacji negatywnych, które zostały poprawnie sklasyfikowane przez model. Odpowiada na pytanie: \"ile prawdziwie negatywnych przypadków udało się wykryć\".\n",
    "    \n",
    "    $$\\text{Specificity} = \\frac{TN}{TN + FP}$$\n",
    "```"
   ]
  },
  {
   "cell_type": "markdown",
   "metadata": {},
   "source": [
    "```{admonition} Warto znać metryki\n",
    ":class: tip\n",
    "Wśród niewielu rzeczy, których warto się uczyć na pamięć i znać na wylot, są podstawowe metryki klasyfikacji wywiedzione z macierzy pomyłek. Naprawdę warto jest pamiętać - przydaje się to niemal w każdej dyskusji i analizie dowolnego modelu klasyfikacji.\n",
    "```"
   ]
  },
  {
   "cell_type": "markdown",
   "metadata": {},
   "source": [
    "Zobaczmy, jak wyglądają wartości opisanych metryk, w przypadku modelu klasyfikacji binarnej dla danych Titanic."
   ]
  },
  {
   "cell_type": "code",
   "execution_count": 22,
   "metadata": {},
   "outputs": [
    {
     "name": "stdout",
     "output_type": "stream",
     "text": [
      "Dokładność / Accuracy         : 0.765\n",
      "Precyzja / Precision          : 0.711\n",
      "Czułość / Recall              : 0.730\n",
      "Specyficzność / Specificity   : 0.790\n"
     ]
    }
   ],
   "source": [
    "from sklearn.metrics import accuracy_score, precision_score, recall_score\n",
    "\n",
    "accuracy = accuracy_score(y_test_titanic, yhat_titanic)\n",
    "precision = precision_score(y_test_titanic, yhat_titanic)\n",
    "recall = recall_score(y_test_titanic, yhat_titanic)\n",
    "\n",
    "specificity = tn / (tn + fp)\n",
    "\n",
    "print(f\"{'Dokładność / Accuracy':<30}: {accuracy:.3f}\")\n",
    "print(f\"{'Precyzja / Precision':<30}: {precision:.3f}\")\n",
    "print(f\"{'Czułość / Recall':<30}: {recall:.3f}\")\n",
    "print(f\"{'Specyficzność / Specificity':<30}: {specificity:.3f}\")"
   ]
  },
  {
   "cell_type": "markdown",
   "metadata": {},
   "source": [
    "Zachęcam, dla utrwalenia, do policzenia \"ręcznie\" tych wartości i upewnienia się, czy zgadzają się z wynikami poniżej :) "
   ]
  },
  {
   "cell_type": "markdown",
   "metadata": {},
   "source": [
    "### F1-score\n",
    "\n",
    "Jak podkreślaliśmy wcześniej, metryka dokładności / *accuracy* nie jest najlepszym wyborem w przypadku, gdy zbiór danych nie jest zbalansowany. W takich przypadkach, warto zwrócić uwagę na metrykę F1-score, która jest średnią harmoniczną precyzji i czułości.\n",
    "\n",
    "\n",
    "```{glossary}\n",
    "Miara F1 (ang. F1-score)\n",
    "    Miara F1 jest średnią harmoniczną precyzji i czułości. Jest to metryka jakości klasyfikacji binarnej, szczególnie przydatna w przypadku niezbalansowanych zbiorów danych. Przyjmuje wartości z zakresu [0, 1], gdzie 1 oznacza idealną klasyfikację, a 0 - całkowity brak trafności.\n",
    "    Ze względu na swoje właściwości, jej wartości oscylują pomiędzy precyzją i czułością, zbiegając ku wartości mniejszej z nich. Dzięki temu Miara F1 pozwala wychwycić sytuacje niedoszacowania/przeszacowania kluczowych metryk. \n",
    "    Formalnie miarę F1 wyliczamy następująco:\n",
    "\n",
    "    $$\\text{F1} = 2 \\cdot \\frac{\\text{Precision} \\cdot \\text{Recall}}{\\text{Precision} + \\text{Recall}}$$\n",
    "\n",
    "    {cite:ps}`flach2012machine`, {cite:ps}`sammut2017encyclopedia`\n",
    "```"
   ]
  },
  {
   "cell_type": "markdown",
   "metadata": {},
   "source": [
    "Rozpatrzmy następujący przykład, oparty na wydarzeniach, zwiazanych z pandemią COVID-19.\n",
    "\n",
    "```{admonition} Przykład skrajnej nierównowagi klas - różnice w metrykach\n",
    "Na początku pandemii COVID-19 trwał wyścig, mający na celu opracowanie jak najdokładniejszych testów, pozwalających na szybkie wykrycie zakażenia. Firmy farmaceutyczne i laboratoria badawcze zaczęły opracowywać testy, które miały jak najmniejsze ryzyko błędu. W przypadku testów na obecność wirusa, ważne jest, aby test był jak najbardziej czuły (wysoki, ang. *recall*), aby nie przegapić przypadków zakażenia. Zdarzały się również sytuacje, gdy testy nie wykrywały niczego, stając się bezużyteczne.\n",
    "\n",
    "* Wyobraźmy sobie, że do punktu kontrolnego dostarczono **bardzo słaby test** - test, tylko w połowie przypadków wykrył wirusa.\n",
    "* W kolejce do testowania czeka 100 pacjentów, z czego:\n",
    "    - 90 jest zdrowych,\n",
    "    - 10 jest chorych na nową odmianę wirusa.\n",
    "\n",
    "Fragment kodu poniżej pokazuje wartości poszczególnych metryk dla tego testu.\n",
    "```"
   ]
  },
  {
   "cell_type": "code",
   "execution_count": 23,
   "metadata": {},
   "outputs": [
    {
     "name": "stdout",
     "output_type": "stream",
     "text": [
      "Dokładność / Accuracy         : 0.950\n",
      "Precyzja / Precision          : 1.000\n",
      "Czułość / Recall              : 0.500\n",
      "F1                            : 0.667\n",
      "\n",
      "\n",
      "\n",
      "              precision    recall  f1-score   support\n",
      "\n",
      "           0       0.95      1.00      0.97        90\n",
      "           1       1.00      0.50      0.67        10\n",
      "\n",
      "    accuracy                           0.95       100\n",
      "   macro avg       0.97      0.75      0.82       100\n",
      "weighted avg       0.95      0.95      0.94       100\n",
      "\n"
     ]
    }
   ],
   "source": [
    "from sklearn.metrics import f1_score, classification_report\n",
    "\n",
    "# Kolejka 100 pacjentów: 90x\"0\" (zdrowy), 10 x \"1\" (chory)\n",
    "patients = np.array([0] * 90  + [1] * 10)\n",
    "\n",
    "# Wadliwy test, wykrył tylko połowę przypadków zakażenia\n",
    "test_result = np.array([0] * 95 + [1] * 5)\n",
    "\n",
    "# Wyliczenie metryk\n",
    "accuracy = accuracy_score(patients, test_result)\n",
    "precision = precision_score(patients, test_result)\n",
    "recall = recall_score(patients, test_result)\n",
    "f1 = f1_score(patients, test_result)\n",
    "\n",
    "print(f\"{'Dokładność / Accuracy':<30}: {accuracy:.3f}\")\n",
    "print(f\"{'Precyzja / Precision':<30}: {precision:.3f}\")\n",
    "print(f\"{'Czułość / Recall':<30}: {recall:.3f}\")\n",
    "print(f\"{'F1':<30}: {f1:.3f}\")\n",
    "\n",
    "# Podsumowanie wszystkich metryk jednocześnie - bardzo przydatna funkcja\n",
    "print(\"\\n\\n\")\n",
    "print(classification_report(patients, test_result))"
   ]
  },
  {
   "cell_type": "markdown",
   "metadata": {},
   "source": [
    "Te wyniki nie napawają optymizmem, co więcej, **osoby nieznające się na ich interpretacji** mogłyby mylnie uznać, że wyniki są dobre.\n",
    "\n",
    "1. **Dokładność** - 90% - wydaje się być bardzo wysoka, podobnie jak...\n",
    "2. **Precyzja** - 100% - wszystkie przypadki, które test uznał za pozytywne, były rzeczywiście pozytywne. Dobrze, prada? Ale...\n",
    "3. **Czułość** - 50% - tylko połowa przypadków pozytywnych została wykryta. To już nie wygląda tak dobrze.\n",
    "4. **Miara F1** - 66.67% - średnia harmoniczna precyzji i czułości. Wciąż nie jest to wynik, który można uznać za zadowalający.\n",
    "\n",
    "Dlatego tak ważne jest rozpatrywanie wielu metryk jednocześnie, a nie tylko kierowanie się pojedynczą wartością.\n",
    "\n",
    "```{admonition} Wybór pojedynczej metryki\n",
    ":class: tip\n",
    "Czasem zdarza się, że trzeba wybrać pojedynczą wartość. Dzieje się tak np. przy optymalizacji modelu metodami automatycznymi, gdy wskazujemy **funkcję celu** wzgledem której optymalizator ma poprawiać wyniki. W takiej sytuacji, zwykle można wybrać miarę F1, która jest kompromisem pomiędzy precyzją i czułością.\n",
    "```"
   ]
  },
  {
   "cell_type": "markdown",
   "metadata": {},
   "source": [
    "## Metryki klasfikacji wieloklasowej\n",
    "\n",
    "Klasyfikacja wieloklasowa to zadanie, w którym obiekty mogą być przypisane do jednej z wielu klas. W takim przypadku, metryki klasyfikacji binarnej nie są wystarczające, ponieważ nie uwzględniają wszystkich klas.Na całe szczęście, jak słusznie zwracają na to uwagę niektórzy autorzy {cite:ps}`flach2012machine`, {cite:ps}`mohri2012foundations`, każdy problem klasyfikacji wieloklasowej da się sprowadzić do serii problemów klasyfikacji binarnej.\n",
    "\n",
    "W poniższym omówieniu wykorzystamy zbiór danych `Iris`, przedstawiony już wcześniej, jako klasyczny przykład tego zadania."
   ]
  },
  {
   "cell_type": "code",
   "execution_count": 24,
   "metadata": {},
   "outputs": [
    {
     "data": {
      "text/html": [
       "<div>\n",
       "<style scoped>\n",
       "    .dataframe tbody tr th:only-of-type {\n",
       "        vertical-align: middle;\n",
       "    }\n",
       "\n",
       "    .dataframe tbody tr th {\n",
       "        vertical-align: top;\n",
       "    }\n",
       "\n",
       "    .dataframe thead th {\n",
       "        text-align: right;\n",
       "    }\n",
       "</style>\n",
       "<table border=\"1\" class=\"dataframe\">\n",
       "  <thead>\n",
       "    <tr style=\"text-align: right;\">\n",
       "      <th></th>\n",
       "      <th>sepal length (cm)</th>\n",
       "      <th>sepal width (cm)</th>\n",
       "      <th>petal length (cm)</th>\n",
       "      <th>petal width (cm)</th>\n",
       "      <th>species</th>\n",
       "    </tr>\n",
       "  </thead>\n",
       "  <tbody>\n",
       "    <tr>\n",
       "      <th>0</th>\n",
       "      <td>5.1</td>\n",
       "      <td>3.5</td>\n",
       "      <td>1.4</td>\n",
       "      <td>0.2</td>\n",
       "      <td>setosa</td>\n",
       "    </tr>\n",
       "    <tr>\n",
       "      <th>1</th>\n",
       "      <td>4.9</td>\n",
       "      <td>3.0</td>\n",
       "      <td>1.4</td>\n",
       "      <td>0.2</td>\n",
       "      <td>setosa</td>\n",
       "    </tr>\n",
       "    <tr>\n",
       "      <th>2</th>\n",
       "      <td>4.7</td>\n",
       "      <td>3.2</td>\n",
       "      <td>1.3</td>\n",
       "      <td>0.2</td>\n",
       "      <td>setosa</td>\n",
       "    </tr>\n",
       "    <tr>\n",
       "      <th>3</th>\n",
       "      <td>4.6</td>\n",
       "      <td>3.1</td>\n",
       "      <td>1.5</td>\n",
       "      <td>0.2</td>\n",
       "      <td>setosa</td>\n",
       "    </tr>\n",
       "    <tr>\n",
       "      <th>4</th>\n",
       "      <td>5.0</td>\n",
       "      <td>3.6</td>\n",
       "      <td>1.4</td>\n",
       "      <td>0.2</td>\n",
       "      <td>setosa</td>\n",
       "    </tr>\n",
       "    <tr>\n",
       "      <th>5</th>\n",
       "      <td>5.4</td>\n",
       "      <td>3.9</td>\n",
       "      <td>1.7</td>\n",
       "      <td>0.4</td>\n",
       "      <td>setosa</td>\n",
       "    </tr>\n",
       "    <tr>\n",
       "      <th>6</th>\n",
       "      <td>4.6</td>\n",
       "      <td>3.4</td>\n",
       "      <td>1.4</td>\n",
       "      <td>0.3</td>\n",
       "      <td>setosa</td>\n",
       "    </tr>\n",
       "    <tr>\n",
       "      <th>7</th>\n",
       "      <td>5.0</td>\n",
       "      <td>3.4</td>\n",
       "      <td>1.5</td>\n",
       "      <td>0.2</td>\n",
       "      <td>setosa</td>\n",
       "    </tr>\n",
       "    <tr>\n",
       "      <th>8</th>\n",
       "      <td>4.4</td>\n",
       "      <td>2.9</td>\n",
       "      <td>1.4</td>\n",
       "      <td>0.2</td>\n",
       "      <td>setosa</td>\n",
       "    </tr>\n",
       "    <tr>\n",
       "      <th>9</th>\n",
       "      <td>4.9</td>\n",
       "      <td>3.1</td>\n",
       "      <td>1.5</td>\n",
       "      <td>0.1</td>\n",
       "      <td>setosa</td>\n",
       "    </tr>\n",
       "  </tbody>\n",
       "</table>\n",
       "</div>"
      ],
      "text/plain": [
       "   sepal length (cm)  sepal width (cm)  petal length (cm)  petal width (cm)  \\\n",
       "0                5.1               3.5                1.4               0.2   \n",
       "1                4.9               3.0                1.4               0.2   \n",
       "2                4.7               3.2                1.3               0.2   \n",
       "3                4.6               3.1                1.5               0.2   \n",
       "4                5.0               3.6                1.4               0.2   \n",
       "5                5.4               3.9                1.7               0.4   \n",
       "6                4.6               3.4                1.4               0.3   \n",
       "7                5.0               3.4                1.5               0.2   \n",
       "8                4.4               2.9                1.4               0.2   \n",
       "9                4.9               3.1                1.5               0.1   \n",
       "\n",
       "  species  \n",
       "0  setosa  \n",
       "1  setosa  \n",
       "2  setosa  \n",
       "3  setosa  \n",
       "4  setosa  \n",
       "5  setosa  \n",
       "6  setosa  \n",
       "7  setosa  \n",
       "8  setosa  \n",
       "9  setosa  "
      ]
     },
     "execution_count": 24,
     "metadata": {},
     "output_type": "execute_result"
    }
   ],
   "source": [
    "iris_data.head(10)"
   ]
  },
  {
   "cell_type": "code",
   "execution_count": 25,
   "metadata": {},
   "outputs": [
    {
     "data": {
      "text/html": [
       "<div>\n",
       "<style scoped>\n",
       "    .dataframe tbody tr th:only-of-type {\n",
       "        vertical-align: middle;\n",
       "    }\n",
       "\n",
       "    .dataframe tbody tr th {\n",
       "        vertical-align: top;\n",
       "    }\n",
       "\n",
       "    .dataframe thead th {\n",
       "        text-align: right;\n",
       "    }\n",
       "</style>\n",
       "<table border=\"1\" class=\"dataframe\">\n",
       "  <thead>\n",
       "    <tr style=\"text-align: right;\">\n",
       "      <th></th>\n",
       "      <th>sepal length (cm)</th>\n",
       "      <th>sepal width (cm)</th>\n",
       "      <th>petal length (cm)</th>\n",
       "      <th>petal width (cm)</th>\n",
       "    </tr>\n",
       "  </thead>\n",
       "  <tbody>\n",
       "    <tr>\n",
       "      <th>22</th>\n",
       "      <td>4.6</td>\n",
       "      <td>3.6</td>\n",
       "      <td>1.0</td>\n",
       "      <td>0.2</td>\n",
       "    </tr>\n",
       "    <tr>\n",
       "      <th>15</th>\n",
       "      <td>5.7</td>\n",
       "      <td>4.4</td>\n",
       "      <td>1.5</td>\n",
       "      <td>0.4</td>\n",
       "    </tr>\n",
       "    <tr>\n",
       "      <th>65</th>\n",
       "      <td>6.7</td>\n",
       "      <td>3.1</td>\n",
       "      <td>4.4</td>\n",
       "      <td>1.4</td>\n",
       "    </tr>\n",
       "  </tbody>\n",
       "</table>\n",
       "</div>"
      ],
      "text/plain": [
       "    sepal length (cm)  sepal width (cm)  petal length (cm)  petal width (cm)\n",
       "22                4.6               3.6                1.0               0.2\n",
       "15                5.7               4.4                1.5               0.4\n",
       "65                6.7               3.1                4.4               1.4"
      ]
     },
     "execution_count": 25,
     "metadata": {},
     "output_type": "execute_result"
    }
   ],
   "source": [
    "from feature_engine.encoding import OrdinalEncoder\n",
    "\n",
    "# Kodowanie numeryczne klas - tym razem nie używamy OHE\n",
    "ordinal_encoder = OrdinalEncoder(encoding_method='arbitrary', variables=['species'])\n",
    "iris_encoded  = ordinal_encoder.fit_transform(iris_data)\n",
    "\n",
    "\n",
    "\n",
    "# Podział na dane treningowe i testowe\n",
    "X_train_iris, X_test_iris, y_train_iris, y_test_iris = train_test_split(iris_encoded.drop(columns=[\"species\"]),\n",
    "                                                    iris_encoded[\"species\"],\n",
    "                                                    test_size=0.2,\n",
    "                                                    random_state=42)\n",
    "\n",
    "\n",
    "X_train_iris.head(3)"
   ]
  },
  {
   "cell_type": "code",
   "execution_count": 26,
   "metadata": {},
   "outputs": [
    {
     "data": {
      "text/plain": [
       "{'species': {'setosa': 0, 'versicolor': 1, 'virginica': 2}}"
      ]
     },
     "execution_count": 26,
     "metadata": {},
     "output_type": "execute_result"
    }
   ],
   "source": [
    "# Jak zostały zakodowane nasze klasy?\n",
    "ordinal_encoder.encoder_dict_"
   ]
  },
  {
   "cell_type": "markdown",
   "metadata": {},
   "source": [
    "### Macierz pomyłek dla klasyfikacji wieloklasowej\n",
    "\n",
    "W przypadku klasyfikacji wieloklasowej macierz pomyłek jest rozszerzeniem macierzy pomyłek dla klasyfikacji binarnej. W przypadku klasyfikacji wieloklasowej, macierz pomyłek jest macierzą kwadratową, w której wiersze odpowiadają klasom rzeczywistym, a kolumny klasom predykcji, tak samo, jak wcześniej.\n",
    "\n",
    "Przykład poniżej:"
   ]
  },
  {
   "cell_type": "code",
   "execution_count": 27,
   "metadata": {},
   "outputs": [
    {
     "data": {
      "image/png": "[encoded data removed]",
      "text/plain": [
       "<Figure size 640x480 with 2 Axes>"
      ]
     },
     "metadata": {},
     "output_type": "display_data"
    }
   ],
   "source": [
    "decision_tree_iris = DecisionTreeClassifier(random_state=42)\n",
    "decision_tree_iris.fit(X_train_iris, y_train_iris)\n",
    "\n",
    "yhat_iris = decision_tree_iris.predict(X_test_iris)\n",
    "\n",
    "ConfusionMatrixDisplay.from_predictions(y_test_iris, yhat_iris);"
   ]
  },
  {
   "cell_type": "markdown",
   "metadata": {},
   "source": [
    "### Precyzja, czułość i miara F1 dla klasyfikacji wieloklasowej\n"
   ]
  },
  {
   "cell_type": "markdown",
   "metadata": {},
   "source": [
    "W klasyfikacji wieloklasowej, gdy model generuje predykcje dla wielu klas, potrzebujemy sposobu, by ocenić jego ogólną skuteczność na podstawie metryk takich jak precyzja, czułość, czy miara F1. Zazwyczaj używa się trzech głównych podejść do agregacji tych metryk: **micro-average**, **macro-average** oraz **weighted-average**. Każde z nich różni się sposobem obliczania średniej, co może prowadzić do różnych interpretacji wyników.\n",
    "\n",
    "#### 1. **Micro-average**\n",
    "\n",
    "**Micro-average** to metoda obliczania średnich metryk (np. precyzji, czułości, F1), która traktuje każdą obserwację równo, bez względu na przynależność do klasy. W podejściu *micro-average*, wszystkie prawdziwe pozytywne, fałszywe pozytywne i fałszywe negatywne są sumowane przez wszystkie klasy, a następnie na tej podstawie obliczana jest metryka.\n",
    "\n",
    "$$\n",
    "\\begin{align}\n",
    "\\text{Precision}_{micro} &= \\frac{\\sum_{i=1}^{K} TP_i}{\\sum_{i=1}^{K} (TP_i + FP_i)} \\\\[1em]\n",
    "\\text{Recall}_{micro} &= \\frac{\\sum_{i=1}^{K} TP_i}{\\sum_{i=1}^{K} (TP_i + FN_i)} \\\\[1em]\n",
    "\\text{F1-score}_{micro} &= \\frac{2 \\times \\text{Precision}_{micro} \\times \\text{Recall}_{micro}}{\\text{Precision}_{micro} + \\text{Recall}_{micro}}\n",
    "\\end{align}\n",
    "$$\n",
    "\n",
    "**Przykład:**\n",
    "\n",
    "Załóżmy, że mamy trzy klasy (A, B, C) i następujące dane:\n",
    "\n",
    "- TP (True Positives): A = 40, B = 30, C = 50\n",
    "- FP (False Positives): A = 10, B = 15, C = 5\n",
    "- FN (False Negatives): A = 20, B = 25, C = 10\n",
    "\n",
    "Wówczas:\n",
    "\n",
    "$$\n",
    "\\begin{align}\n",
    "\\text{Precision}_{micro} &= \\frac{40 + 30 + 50}{(40 + 30 + 50) + (10 + 15 + 5)} = \\frac{120}{150} = 0.80 \\\\[1em]\n",
    "\\text{Recall}_{micro} &= \\frac{40 + 30 + 50}{(40 + 30 + 50) + (20 + 25 + 10)} = \\frac{120}{175} = 0.686 \\\\[1em]\n",
    "\\text{F1-score}_{micro} &= \\frac{2 \\times 0.80 \\times 0.686}{0.80 + 0.686} = 0.737\n",
    "\\end{align}\n",
    "$$\n",
    "\n"
   ]
  },
  {
   "cell_type": "markdown",
   "metadata": {},
   "source": [
    "#### 2. **Macro-average**\n",
    "\n",
    "**Macro-average** oblicza metryki dla każdej klasy indywidualnie, a następnie średnia arytmetyczna tych metryk jest brana jako ostateczny wynik. W przeciwieństwie do micro-average, macro-average nie bierze pod uwagę rozkładu klas, co oznacza, że rzadkie klasy mają taki sam wpływ na końcową metrykę, jak klasy bardziej licznie reprezentowane.\n",
    "\n",
    "$$\n",
    "\\begin{align}\n",
    "\\text{Precision}_{macro} &= \\frac{1}{K} \\sum_{i=1}^{K} \\text{Precision}_i \\\\\n",
    "\\text{Recall}_{macro} &= \\frac{1}{K} \\sum_{i=1}^{K} \\text{Recall}_i \\\\\n",
    "\\text{F1-score}_{macro} &= \\frac{1}{K} \\sum_{i=1}^{K} \\text{F1-score}_i\n",
    "\\end{align}\n",
    "$$\n",
    "\n",
    "\n",
    "**Przykład:**\n",
    "\n",
    "Używając tych samych danych co wcześniej:\n",
    "\n",
    "$$\n",
    "\\begin{align}\n",
    "\\text{Precision}_A &= \\frac{40}{40 + 10} = 0.80 \\\\\n",
    "\\text{Precision}_B &= \\frac{30}{30 + 15} = 0.667 \\\\\n",
    "\\text{Precision}_C &= \\frac{50}{50 + 5} = 0.909 \\\\\n",
    "\\text{Precision}_{macro} &= \\frac{0.80 + 0.667 + 0.909}{3} = 0.792\n",
    "\\end{align}\n",
    "$$\n",
    "\n",
    "\n",
    "Podobnie obliczamy recall i F1-score dla każdej klasy, a następnie ich średnią.\n"
   ]
  },
  {
   "cell_type": "markdown",
   "metadata": {},
   "source": [
    "\n",
    "#### 3. **Weighted-average**\n",
    "\n",
    "**Weighted-average** (średnia ważona) to metoda, która podobnie jak macro-average, oblicza metryki dla każdej klasy indywidualnie, ale uwzględnia przy tym rozkład klas. Każda metryka dla danej klasy jest ważona liczbą przykładów w tej klasie.\n",
    "\n",
    "$$\n",
    "\\begin{align}\n",
    "\\text{Precision}_{weighted} &= \\frac{1}{N} \\sum_{i=1}^{K} n_i \\times \\text{Precision}_i \\\\\n",
    "\\text{Recall}_{weighted} &= \\frac{1}{N} \\sum_{i=1}^{K} n_i \\times \\text{Recall}_i \\\\\n",
    "\\text{F1-score}_{weighted} &= \\frac{1}{N} \\sum_{i=1}^{K} n_i \\times \\text{F1-score}_i\n",
    "\\end{align}\n",
    "$$\n",
    "\n",
    "gdzie $n_i$ to liczba próbek w klasie $i$, a $N$ to całkowita liczba próbek we wszystkich klasach.\n",
    "\n",
    "**Przykład:**\n",
    "\n",
    "Załóżmy, że liczby próbek w klasach są następujące:\n",
    "\n",
    "- Liczba próbek: A = 70, B = 70, C = 65\n",
    "\n",
    "Wówczas, weighted-average precision będzie obliczona jako:\n",
    "\n",
    "$$\n",
    "\\text{Precision}_{weighted} = \\frac{70 \\times 0.80 + 70 \\times 0.667 + 65 \\times 0.909}{70 + 70 + 65} = \\frac{161.775}{205} = 0.78\n",
    "$$\n",
    "\n",
    "### Podsumowanie\n",
    "\n",
    "Jak widać w przykładach powyżej - nawet dla tych smaych metryk (precyzji/czułośći/F1) - wyniki mogą się różnic, w zależności od uśrednienia. Ostateczny wybór zależy od konkretnej sytacji i tego, jak model ma być oceniany.\n",
    "\n",
    "```{admonition} Sugerowane metody wyboru uśrednienia\n",
    ":class: tip\n",
    "- **Micro-average** jest odpowiednie, gdy zależy nam na ocenie ogólnej skuteczności modelu niezależnie od rozkładu klas.\n",
    "- **Macro-average** jest przydatne, gdy interesuje nas równomierna ocena skuteczności modelu dla każdej klasy, bez względu na liczebność klas.\n",
    "- **Weighted-average** zapewnia bardziej zbalansowaną ocenę, uwzględniając zarówno skuteczność dla każdej klasy, jak i ich liczebność, co jest szczególnie użyteczne w przypadkach, gdy rozkład klas jest nierównomierny.\n",
    "```"
   ]
  },
  {
   "cell_type": "markdown",
   "metadata": {},
   "source": [
    "# Klasyfikacja probabilistyczna\n",
    "\n",
    "W poprzednich rozdziałach zagadnienie klasyfikacji zostało przedstawione w nieco uproszczony sposób, zakładając, że wynikiem działania modelu jest bezpośrednie przypisanie obserwacji do jednej z klas. W rzeczywistości większość modeli uczenia maszynowego zwraca prawdopodobieństwa przynależności do klas, a nie same przypisania. Domyślnie przyjmuje się poziom odcięcia (ang. *threshold*) równy 0.5, co oznacza, że jeżeli prawdopodobieństwo przynależności do danej klasy przekracza tę wartość, to model przypisuje obserwację do tej klasy. Jednak w praktyce próg ten może być dostosowywany w zależności od potrzeb konkretnej aplikacji.\n",
    "\n",
    "Formalnie zapisujemy:\n",
    "\n",
    "$$\n",
    "\\hat{y} = \\begin{cases}\n",
    "1 & \\text{jeżeli } p(y=1 | x) > \\text{threshold} \\\\\n",
    "0 & \\text{w przeciwnym przypadku}\n",
    "\\end{cases}\n",
    "$$\n",
    "\n",
    "dla klasyfikacji binarnej.\n",
    "\n",
    "```{admonition} Wyjście z modelu w klasyfikacji probabilistycznej\n",
    ":class: tip\n",
    "W przypadku klasyfikacji probabilistycznej - model zwraca prawdopodobieństwa przynależności do klas, a nie same przypisania. Tym samym wynik działania modelu jest macierzą o wymiarach `N x K`, gdzie K = liczba klas, a N = liczba obserwacji. Jest zatem podobny w swoim kształcie do wyniku działania kodowania OHE.\n",
    "```\n",
    "\n",
    "\n",
    "## Metryki dla klasyfikacji probabilistycznej\n",
    "\n",
    "Klasyfikacja probabilistyczna wprowadza dodatkowe możliwości oceny jakości modelu. Zamiast oceniać model na podstawie przypisanych klas, możemy skupić się na tym, jak dobrze model przewiduje prawdopodobieństwa przynależności do klas. Poniżej przedstawiamy kilka najważniejszych metryk oraz narzędzi używanych do oceny modeli probabilistycznych.\n",
    "\n",
    "### Log-Loss (funkcja logarytmiczna straty) i Cross-Entropy (entropia krzyżowa)\n",
    "\n",
    "*Log-loss* oraz *cross-entropy* to kluczowe metryki używane do oceny modeli probabilistycznych, zwłaszcza w przypadku klasyfikacji wieloklasowej. Metryki te mierzą, jak bardzo przewidywane prawdopodobieństwa odbiegają od rzeczywistych etykiet.\n",
    "\n",
    "```{glossary}\n",
    "Log-loss\n",
    "\n",
    "    Dla klasyfikacji binarnej *log-loss* jest definiowany jako {cite:ps}`hastie2009elements`:\n",
    "\n",
    "    $$\n",
    "    \\text{Log-loss} = -\\frac{1}{N} \\sum_{i=1}^{N} \\left[ \\textcolor{red}{y_i \\log(p_i)} + \\textcolor{blue}{ (1 - y_i) \\log(1 - p_i)} \\right]\n",
    "    $$\n",
    "\n",
    "    gdzie:\n",
    "    - $ y_i $ to rzeczywista etykieta (0 lub 1),\n",
    "    - $ p_i $ to przewidywane prawdopodobieństwo dla klasy 1,\n",
    "    - $ N $ to liczba próbek.\n",
    "```\n",
    "\n",
    "Ciekawą własnością tego równania jest fakt, że w zależności od klasy docelowej, \"aktywna\" jest tylko jedna jeggo część, a druga się zeruje.\n",
    "1. W przypadku, gdy $y=1$, wówczas zaznaczona na niebiesko część równania ulega wyzerowaniu, bo $y_i = 1$, a więc $1 - y_i = 0$. A zatem rozpatrujemy tylko część \"czerwoną\" - iloczyn przewidzianego prawdopodobieństwa i rzeczywistej etykiety.\n",
    "2. Analogicznie, gdy $y=0$, to zaznaczona na czerwono część równania ulega wyzerowaniu, bo $y_i = 0$, a więc $1 - y_i = 1$. A zatem rozpatrujemy tylko część \"niebieską\" - iloczyn przewidzianego prawdopodobieństwa i rzeczywistej etykiety.\n",
    "\n",
    "```{glossary}\n",
    "Entropia krzyżowa / ang. *cross entropy*\n",
    "    Dla klasyfikacji wieloklasowej, *cross-entropy* (która jest rozszerzeniem *log-loss*) jest definiowana jako {cite:ps}`hastie2009elements`:\n",
    "\n",
    "\n",
    "    $$\n",
    "    \\text{Cross-Entropy} = -\\frac{1}{N} \\sum_{i=1}^{N} \\sum_{c=1}^{C} y_{i,c} \\log(p_{i,c})\n",
    "    $$\n",
    "\n",
    "    gdzie:\n",
    "    - $ C $ to liczba klas,\n",
    "    - $ y_{i,c} $ to wskaźnik binarny czy próbka $ i $ należy do klasy $ c $ (1 lub 0),\n",
    "    - $ p_{i,c} $ to przewidywane prawdopodobieństwo, że próbka $ i $ należy do klasy $ c $.\n",
    "```\n",
    "\n",
    "Przykład kodu w Pythonie obliczającego *log-loss* oraz *cross-entropy*:"
   ]
  },
  {
   "cell_type": "code",
   "execution_count": 28,
   "metadata": {},
   "outputs": [
    {
     "name": "stderr",
     "output_type": "stream",
     "text": [
      "/home/filip/miniconda3/envs/dsbook/lib/python3.11/site-packages/sklearn/linear_model/_logistic.py:1247: FutureWarning: 'multi_class' was deprecated in version 1.5 and will be removed in 1.7. From then on, it will always use 'multinomial'. Leave it to its default value to avoid this warning.\n",
      "  warnings.warn(\n"
     ]
    },
    {
     "data": {
      "text/plain": [
       "array([[3.80467719e-03, 8.27741160e-01, 1.68454163e-01],\n",
       "       [9.46983711e-01, 5.30160908e-02, 1.98729666e-07],\n",
       "       [8.86544005e-09, 1.54858232e-03, 9.98451409e-01]])"
      ]
     },
     "metadata": {},
     "output_type": "display_data"
    },
    {
     "name": "stdout",
     "output_type": "stream",
     "text": [
      "Log-Loss / Cross-Entropy: 0.1111\n"
     ]
    }
   ],
   "source": [
    "from sklearn.metrics import log_loss\n",
    "from sklearn.datasets import load_iris\n",
    "from sklearn.model_selection import train_test_split\n",
    "from sklearn.linear_model import LogisticRegression\n",
    "import numpy as np\n",
    "\n",
    "# Trenowanie modelu logistycznej regresji\n",
    "logreg_iris = LogisticRegression(multi_class='multinomial', solver='lbfgs')\n",
    "logreg_iris.fit(X_train_iris, y_train_iris)\n",
    "\n",
    "# Przewidywanie prawdopodobieństw\n",
    "y_prob_iris = logreg_iris.predict_proba(X_test_iris)\n",
    "\n",
    "# Przykładowe prawdopodobieństwa dla pierwszych 3 obiektów\n",
    "# Macierz N x 3. Drugi wymiar (=3) odpowiada ilości klas.\n",
    "display(y_prob_iris[:3])\n",
    "\n",
    "# Obliczanie log-loss (cross-entropy) dla wieloklasowej klasyfikacji\n",
    "log_loss_value = log_loss(y_test_iris, y_prob_iris)\n",
    "print(f'Log-Loss / Cross-Entropy: {log_loss_value:.4f}')"
   ]
  },
  {
   "cell_type": "markdown",
   "metadata": {},
   "source": [
    "### **Krzywa ROC i AUC (Receiver Operating Characteristic i Pole pod Krzywą ROC)**\n",
    "\n",
    "```{glossary}\n",
    "Krzywa ROC \n",
    "    ang. **Receiver Operating Characteristic** jest wykresem, który pokazuje zależność pomiędzy czułością (ang. *True Positive Rate, TPR* lub *Recall*) a współczynnikiem fałszywie pozytywnych wyników (ang. *False Positive Rate, FPR*) przy różnych poziomach odcięcia (ang. *threshold*) prawdopodobieństwa. Pole pod krzywą ROC (ang. *Area Under the Curve, AUC*) jest miarą jakości modelu – im większe pole, tym lepszy model.\n",
    "\n",
    "    Innymi słowy, krzywa ROC i AUC pomaga sprawdzić, czy na pewno domyślny próg 0.5 jest najlepszym wyborem dla modelu klasyfikacji probabilistycznej.\n",
    "```\n",
    "\n",
    "Wzory na *True Positive Rate* oraz *False Positive Rate*:\n",
    "\n",
    "$$\n",
    "\\text{TPR} = \\frac{TP}{TP + FN}\n",
    "$$\n",
    "\n",
    "$$\n",
    "\\text{FPR} = \\frac{FP}{FP + TN}\n",
    "$$\n",
    "\n",
    "Przykład kodu w Pythonie generującego krzywą ROC i obliczającego AUC, dla binarnej klasyfikacji dla danych z Titanica.\n"
   ]
  },
  {
   "cell_type": "code",
   "execution_count": 29,
   "metadata": {},
   "outputs": [
    {
     "name": "stdout",
     "output_type": "stream",
     "text": [
      "ROC AUC: 0.7808\n"
     ]
    },
    {
     "data": {
      "image/png": "[encoded data removed]",
      "text/plain": [
       "<Figure size 640x480 with 1 Axes>"
      ]
     },
     "metadata": {},
     "output_type": "display_data"
    }
   ],
   "source": [
    "from sklearn.metrics import roc_curve, roc_auc_score\n",
    "import matplotlib.pyplot as plt\n",
    "\n",
    "# Predycke prawdopodobieństwa dla danych zw z katastrofą Titanica\n",
    "yhat_titanic_proba = model_titanic.predict_proba(X_test_titanic)\n",
    "\n",
    "# Obliczanie krzywej ROC\n",
    "fpr, tpr, thresholds = roc_curve(y_test_titanic, yhat_titanic_proba[:, 1])\n",
    "\n",
    "# Obliczanie AUC\n",
    "auc = roc_auc_score(y_test_titanic, yhat_titanic_proba[:, 1])\n",
    "print(f'ROC AUC: {auc:.4f}')\n",
    "\n",
    "# Rysowanie krzywej ROC\n",
    "plt.plot(fpr, tpr, label=f'Krzywa ROC (pole powierzchni = {auc:.2f})')\n",
    "plt.plot([0, 1], [0, 1], 'k--')  # Linia przerywana (losowy klasyfikator)\n",
    "plt.xlabel('False Positive Rate')\n",
    "plt.ylabel('True Positive Rate')\n",
    "plt.title('Krzywa ROC titanic')\n",
    "plt.legend(loc=\"lower right\")\n",
    "plt.show()\n"
   ]
  },
  {
   "cell_type": "markdown",
   "metadata": {},
   "source": [
    "Jak widać w powyższym przykładzie - model wyszkolony dla danych związanych z katastrofą Titanica, zdecydowanie przewyższa wyniki losowego klasyfikatora."
   ]
  },
  {
   "cell_type": "markdown",
   "metadata": {},
   "source": [
    "### **Krzywa precision-recall i AUC (Precision-Recall Curve i Pole pod Krzywą Precision-Recall)**\n",
    "\n",
    "Krzywa *precision-recall* jest alternatywą dla krzywej ROC, szczególnie przydatną w przypadku, gdy klasy są niezrównoważone.\n",
    "\n",
    "Przykład kodu generującego tą krzywą dla danych zw. z katastrofą Titanica.\n"
   ]
  },
  {
   "cell_type": "code",
   "execution_count": 30,
   "metadata": {},
   "outputs": [
    {
     "name": "stdout",
     "output_type": "stream",
     "text": [
      "Precision-Recall AUC: 0.7771\n"
     ]
    },
    {
     "data": {
      "image/png": "[encoded data removed]",
      "text/plain": [
       "<Figure size 640x480 with 1 Axes>"
      ]
     },
     "metadata": {},
     "output_type": "display_data"
    }
   ],
   "source": [
    "from sklearn.metrics import precision_recall_curve, auc\n",
    "\n",
    "# Obliczanie krzywej precision-recall\n",
    "precision, recall, thresholds = precision_recall_curve(y_test_titanic, yhat_titanic_proba[:, 1])\n",
    "\n",
    "# Obliczanie AUC dla krzywej precision-recall\n",
    "pr_auc = auc(recall, precision)\n",
    "print(f'Precision-Recall AUC: {pr_auc:.4f}')\n",
    "\n",
    "\n",
    "plt.plot(recall, precision, label=f'Krzywa Precyzji-czułości (pole powierzchni = {pr_auc:.2f})')\n",
    "plt.xlabel('Recall')\n",
    "plt.ylabel('Precision')\n",
    "plt.title('Krzywa precyzji i czułości')\n",
    "plt.legend(loc=\"lower left\")\n",
    "plt.show()"
   ]
  },
  {
   "cell_type": "markdown",
   "metadata": {},
   "source": [
    "### Kalibracja Prawdopodobieństwa\n",
    "\n",
    "Kalibracja prawdopodobieństwa jest procesem dostosowywania prognoz modelu, aby lepiej odpowiadały rzeczywistym prawdopodobieństwom. W ramach tego procesu, steruje się progiem odcięcia/przypisania, zilustrowanym powyżej. Może się okazać, że np. dla danego problemu dużo lepszym wyborem jest graniczny próg prawdopodobieństwa 0.3, a nie 0.5.\n",
    "\n",
    "Jednym z najczęściej używanych narzędzi do kalibracji jest `CalibratedClassifierCV` w Scikit-learn, który można zastosować do każdego modelu klasyfikacyjnego.\n",
    "\n",
    "To narzędzie wykorzystuje **walidację krzyżową** (ang. *cross-validation*) - którą poznamy bliżej w kolejnych rozdziałach - do wykonania dwóch działań:\n",
    "1. Znalezienia optymalnych parametrów modelu;\n",
    "2. Znalezienia optymalnego progu prawdopoobieństwa dla przypisania do klasy (czyli: $P(y_i = 1 \\mid F_i )$ ), dla którego model osiąga najlepsze wyniki. Ten efekt osiąga się szkoląc meta-model, zwany `kalibratorem`, który mapuje \"surowe\" prawdopodobieństwo przypisania do klasy z modelu na nową wartość. Formalnie:\n",
    "\n",
    "$$\n",
    "F_i = \\text{kalibrator}(\\text{model}(\\mathbf{x}_i; \\theta))\n",
    "$$\n",
    "gdzie `model` to nasz oryginalny (nieskalibrowany) model uczenia maszynowego, a  $\\theta$ to jego parametry.\n",
    "\n",
    "Wielokrotnie dzieląc zbiór danych na treningowy i testowy, szkoląc klasyfikator oraz kalibrator, można uzyskać dużo lepsze osiągi. Biblioteka `sklearn` umożliwia w tym miejscu, dodatkowo wykonanie połączenia wielu modeli (ang. *model ensemble*) dla wzmocnienia tego efektu.\n",
    "\n",
    "Dokładny przewodnik po działaniu i szczegółach implantacyjnych kalibratora prawdopodobieństwa, można znaleźć w [przewodniku sklearn](https://scikit-learn.org/stable/modules/calibration.html).\n",
    "\n",
    "\n",
    "Przykład poniżej."
   ]
  },
  {
   "cell_type": "code",
   "execution_count": 31,
   "metadata": {},
   "outputs": [
    {
     "name": "stdout",
     "output_type": "stream",
     "text": [
      "Log-loss score przed kalibracją: 7.2923\n",
      "F1 przed kalibracją: 0.7200\n",
      "ROC AUC przed kalibracją: 0.7808\n",
      "\n",
      "\n",
      "\n",
      "Log-loss po kalibracji: 0.4892\n",
      "F1 po kalibracji: 0.7286\n",
      "ROC AUC po kalibracji: 0.8609\n"
     ]
    },
    {
     "data": {
      "image/png": "[encoded data removed]",
      "text/plain": [
       "<Figure size 640x480 with 1 Axes>"
      ]
     },
     "metadata": {},
     "output_type": "display_data"
    }
   ],
   "source": [
    "from sklearn.calibration import CalibratedClassifierCV, calibration_curve\n",
    "\n",
    "# Kalibracja modelu z wykorzystaniem CalibratedClassifierCV.\n",
    "calibrated_model = CalibratedClassifierCV(model_titanic, method='sigmoid', cv=5)\n",
    "calibrated_model.fit(X_train_titanic, y_train_titanic)\n",
    "\n",
    "# Przewidywanie prawdopodobieństw po kalibracji\n",
    "yhat_prob_titanic_calibrated = calibrated_model.predict_proba(X_test_titanic)[:, 1]\n",
    "\n",
    "# Przewidywanie przypisania klasy na podstawie skalibrowanego prawdopodobieństwa\n",
    "yhat_titanic_calibrated = calibrated_model.predict(X_test_titanic)\n",
    "\n",
    "# Obliczanie Log-loss oraz F1 przed i po kalibracji\n",
    "log_loss_before = log_loss(y_test_titanic, yhat_titanic_proba)\n",
    "f1_before = f1_score(y_test_titanic, yhat_titanic_proba[:, 1] > 0.5)\n",
    "auc_before = roc_auc_score(y_test_titanic, yhat_titanic_proba[:, 1])\n",
    "\n",
    "brier_after = log_loss(y_test_titanic, yhat_prob_titanic_calibrated)\n",
    "f1_after = f1_score(y_test_titanic, yhat_titanic_calibrated)\n",
    "auc_after = roc_auc_score(y_test_titanic, yhat_prob_titanic_calibrated)\n",
    "\n",
    "print(f'Log-loss score przed kalibracją: {log_loss_before:.4f}')\n",
    "print(f'F1 przed kalibracją: {f1_before:.4f}')\n",
    "print(f'ROC AUC przed kalibracją: {auc_before:.4f}')\n",
    "print(\"\\n\\n\")\n",
    "print(f'Log-loss po kalibracji: {brier_after:.4f}')\n",
    "print(f'F1 po kalibracji: {f1_after:.4f}')\n",
    "print(f'ROC AUC po kalibracji: {auc_after:.4f}')\n",
    "\n",
    "# Rysowanie krzywej kalibracji\n",
    "prob_true, prob_pred = calibration_curve(y_test_titanic, yhat_titanic_proba[:, 1], n_bins=10)\n",
    "prob_true_calibrated, prob_pred_calibrated = calibration_curve(y_test_titanic, yhat_prob_titanic_calibrated, n_bins=10)\n",
    "\n",
    "plt.plot(prob_pred, prob_true, 's-', label='Przed kalibracją')\n",
    "plt.plot(prob_pred_calibrated, prob_true_calibrated, 's-', label='Po kalibracji')\n",
    "plt.plot([0, 1], [0, 1], 'k--')  # Idealna kalibracja\n",
    "plt.xlabel('Średnie przewidywane prawdopodobieństwo')\n",
    "plt.ylabel('Udział pozytywnych próbek')\n",
    "plt.title('Krzywa kalibracji')\n",
    "plt.legend(loc=\"best\")\n",
    "plt.show()"
   ]
  },
  {
   "cell_type": "markdown",
   "metadata": {},
   "source": [
    "W pokazanym przykładzie widzimy, że po kalibracji spadła wartość log-loss, oraz wzrósł współczynnik F1."
   ]
  },
  {
   "cell_type": "markdown",
   "metadata": {},
   "source": [
    "# Regresja\n",
    "\n",
    "W polskiej literaturze termin \"regresja\" często bywa utożsamiany z (prostą) regresją liniową, podczas gdy w anglojęzycznym piśmiennictwie termin ten odnosi się do szerszego zagadnienia przewidywania wartości numerycznych (ciągłych). Regresja to fundamentalne zadanie w uczeniu maszynowym, które polega na przewidywaniu wartości liczbowych na podstawie dostępnych danych wejściowych. Jakość modelu regresyjnego ocenia się za pomocą różnych metryk, które mierzą różnice między przewidywanymi a rzeczywistymi wartościami.\n",
    "\n",
    "Formalnie:\n",
    "\n",
    "\n",
    "```{glossary}\n",
    "Regresja\n",
    "    (ang. *regression*), w szerokim rozumieniu tego terminu, jest zadaniem w uczeniu maszynowym polegającym na przewidywaniu wartości numerycznych (ciągłych) na podstawie dostępnych danych wejściowych.\n",
    "\n",
    "    Dany jest zbiór wejściowy $\\mathcal{X}$ oraz zbiór wartości docelowych $\\mathcal{Y} \\subseteq \\mathbb{R}$. Próbka ucząca $S = \\left\\{ (\\mathbf{x}_1, y_1), (\\mathbf{x}_2, y_2), \\dots, (\\mathbf{x}_m, y_m) \\right\\} \\subseteq \\mathcal{X} \\times \\mathcal{Y}$ składa się z $m$ par, gdzie każdy wektor wejściowy $\\mathbf{x}_i \\in \\mathcal{X}$ jest losowany zgodnie z (nieznanym) rozkładem prawdopodobieństwa $D$, a odpowiadające mu etykiety $y_i \\in \\mathcal{Y}$ są generowane zgodnie z funkcją docelową $y = f(\\mathbf{x}) + \\epsilon$, gdzie $f: \\mathcal{X} \\to \\mathbb{R}$ jest nieznaną funkcją, a $\\epsilon$ jest nieredukowalnym błędem losowym, $\\epsilon \\sim \\mathcal{N}(0, \\sigma^2)$.\n",
    "\n",
    "    Celem regresji jest znalezienie modelu (zwanego również **estymatorem**) funkcji $f$, który przybliży ją na podstawie próbki uczącej $S$.\n",
    "\n",
    "    Ponieważ wartości docelowe należą do zbioru liczb rzeczywistych, stworzenie modelu, który przewiduje te wartości bezbłędnie, jest mało realistyczne. Dlatego w zadaniu regresji oczekuje się, aby model przewidywał wartości **możliwie jak najbliższe** rzeczywistym wartościom docelowym. Poziom spełnienia tego zadania oceniany jest za pomocą dedykowanych metryk.\n",
    "\n",
    "    (ujednolicona definicja w oparciu o: {cite:ps}`mohri2012foundations`, {cite:ps}`deisenroth2020mathematics`, {cite:ps}`flach2012machine`)\n",
    "```\n",
    "\n",
    "\n",
    "Poniżej omówione zostaną najważniejsze metryki regresji, takie jak **błąd średniokwadratowy**/ ang. *Mean Square Error (MSE)*, **pierwiastek błędu średniokwadratowego**/ ang. *Root Mean Square Error (RMSE)*, **średni błąd bezwzględny** / ang. *Mean Absolute Error (MAE)* oraz **średni bezwzględny błąd procentowy**/ang. *Mean Absolute Percentage Error (MAPE)*. Dla każdej metryki podane będą wzory oraz przykłady kodu w Pythonie, wykorzystujące wbudowane zbiory danych z biblioteki `Scikit-learn`."
   ]
  },
  {
   "cell_type": "markdown",
   "metadata": {},
   "source": [
    "### Błąd średniokwadratowy / ang. *Mean Square Error (MSE)*\n",
    "\n",
    "\n",
    "```{glossary}\n",
    "Błąd średniokwadratowy\n",
    "    ang. *Mean Square Error (MSE)*, to jedna z najczęściej używanych metryk do oceny modeli regresyjnych. MSE mierzy średnią kwadratową różnicę między przewidywanymi a rzeczywistymi wartościami. Podnoszenie błędów do kwadratu ma na celu podkreślenie większych odchyleń, co sprawia, że **MSE jest szczególnie czuła na duże błędy**.\n",
    "\n",
    "    Z drugiej strony - forma równania umozliwia łatwe przekształcenia, które ułatwiają skracanie niektórych wyrażeń podczas liczenia np. gradientów błędów.\n",
    "\n",
    "\n",
    "    Formalnie:\n",
    "\n",
    "    $$\n",
    "    \\text{MSE} = \\frac{1}{N} \\sum_{i=1}^{N} (y_i - \\hat{y}_i)^2\n",
    "    $$\n",
    "\n",
    "    gdzie:\n",
    "    - $y_i$ to rzeczywista wartość,\n",
    "    - $\\hat{y}_i$ to przewidywana wartość,\n",
    "    - $N$ to liczba obserwacji.\n",
    "```\n",
    "\n",
    "\n",
    "**Przykład kodu w Pythonie**:"
   ]
  },
  {
   "cell_type": "code",
   "execution_count": 32,
   "metadata": {},
   "outputs": [
    {
     "name": "stdout",
     "output_type": "stream",
     "text": [
      "Błąd średniokwadratowy (MSE): 0.5306\n"
     ]
    }
   ],
   "source": [
    "import matplotlib.pyplot as plt \n",
    "from sklearn.metrics import mean_squared_error\n",
    "from sklearn.datasets import fetch_california_housing\n",
    "from sklearn.model_selection import train_test_split\n",
    "from sklearn.linear_model import LinearRegression\n",
    "\n",
    "# Ładowanie danych Boston Housing\n",
    "data = fetch_california_housing()\n",
    "X, y = data.data, data.target\n",
    "\n",
    "# Podział na zbiór treningowy i testowy\n",
    "X_train, X_test, y_train, y_test = train_test_split(X, y, test_size=0.3, random_state=42)\n",
    "\n",
    "# Trenowanie modelu regresji liniowej\n",
    "model = LinearRegression()\n",
    "model.fit(X_train, y_train)\n",
    "\n",
    "# Przewidywanie wartości na zbiorze testowym\n",
    "y_pred = model.predict(X_test)\n",
    "\n",
    "# Obliczanie MSE\n",
    "mse = mean_squared_error(y_test, y_pred)\n",
    "\n",
    "print(f'Błąd średniokwadratowy (MSE): {mse:.4f}')"
   ]
  },
  {
   "cell_type": "markdown",
   "metadata": {},
   "source": [
    "### Pierwiastek błędu średniokwadratowego / ang. *Root Mean Square Error (RMSE)*\n",
    "\n",
    "```{glossary}\n",
    "\n",
    "Pierwiastek błędu średniokwadratowego\n",
    "    ang. *Root Mean Square Error (RMSE)*, jest metryką będącą pierwiastkiem kwadratowym z MSE. RMSE, podobnie jak MSE, karze większe błędy, ale ma tę zaletę, że jest wyrażona w tych samych jednostkach co przewidywane wartości, co ułatwia interpretację.\n",
    "\n",
    "    Wzór na RMSE:\n",
    "\n",
    "    $$\n",
    "    \\text{RMSE} = \\sqrt{\\text{MSE}} = \\sqrt{\\frac{1}{N} \\sum_{i=1}^{N} (y_i - \\hat{y}_i)^2}\n",
    "    $$\n",
    "```"
   ]
  },
  {
   "cell_type": "markdown",
   "metadata": {},
   "source": [
    "**Przykład kodu w Pythonie**:"
   ]
  },
  {
   "cell_type": "code",
   "execution_count": 33,
   "metadata": {},
   "outputs": [
    {
     "name": "stdout",
     "output_type": "stream",
     "text": [
      "Pierwiastek błędu średniokwadratowego (RMSE): 0.7284\n"
     ]
    }
   ],
   "source": [
    "import numpy as np\n",
    "\n",
    "# Obliczanie RMSE\n",
    "rmse = np.sqrt(mse)\n",
    "print(f'Pierwiastek błędu średniokwadratowego (RMSE): {rmse:.4f}')"
   ]
  },
  {
   "cell_type": "markdown",
   "metadata": {},
   "source": [
    "### Średni błąd bezwzględny / ang. *Mean Absolute Error (MAE)*\n",
    "\n",
    "```{glossary}\n",
    "Średni błąd bezwzględny\n",
    "    ang. *Mean Absolute Error (MAE)* mierzy średnią wartość bezwzględnej różnicy między przewidywaniami a rzeczywistymi wartościami. MAE jest mniej czuła na duże błędy w porównaniu do MSE i RMSE, ponieważ nie wykonuje operacji potęgowania. Z drugiej strony - ze względu na użycie wartości bezwzględnej, nie wskazuje na to, czy model przeszacowuje czy niedoszacowuje wartości.\n",
    "\n",
    "    Wzór na MAE:\n",
    "\n",
    "    $$\n",
    "    \\text{MAE} = \\frac{1}{N} \\sum_{i=1}^{N} |y_i - \\hat{y}_i|\n",
    "    $$\n",
    "```\n",
    "\n",
    "\n",
    "**Przykład kodu w Pythonie**:"
   ]
  },
  {
   "cell_type": "code",
   "execution_count": 34,
   "metadata": {},
   "outputs": [
    {
     "name": "stdout",
     "output_type": "stream",
     "text": [
      "Średni błąd bezwzględny (MAE): 0.5272\n"
     ]
    }
   ],
   "source": [
    "from sklearn.metrics import mean_absolute_error\n",
    "\n",
    "# Obliczanie MAE\n",
    "mae = mean_absolute_error(y_test, y_pred)\n",
    "print(f'Średni błąd bezwzględny (MAE): {mae:.4f}')"
   ]
  },
  {
   "cell_type": "markdown",
   "metadata": {},
   "source": [
    "### Średni bezwzględny błąd procentowy / ang. *Mean Absolute Percentage Error (MAPE)*\n",
    "\n",
    "```{glossary}\n",
    "Średni bezwzględny błąd procentowy\n",
    "    ang. *Mean Absolute Percentage Error (MAPE)* mierzy średni procentowy błąd przewidywań w stosunku do rzeczywistych wartości. MAPE jest szczególnie przydatna, gdy chcemy ocenić dokładność przewidywań w kategoriach procentowych, a zatem relatywnie łatwo interpretowalna. Jednakże, ze względu na użycie wartości bezwzględnej, nie wskazuje na to, czy model przeszacowuje czy niedoszacowuje wartości.\n",
    "\n",
    "    Wzór na MAPE:\n",
    "\n",
    "    $$\n",
    "    \\text{MAPE} = \\frac{100\\%}{N} \\sum_{i=1}^{N} \\left|\\frac{y_i - \\hat{y}_i}{y_i}\\right|\n",
    "    $$\n",
    "```\n",
    "\n",
    "```{admonition} Mylące wartości MAPE\n",
    ":class: tip\n",
    "Warto zwrócić uwagę, że metryka MAPE może być myląca, w dwóch sytuacjach.\n",
    "1. Gdy wartości rzeczywiste są bliskie zeru, ponieważ wtedy wartość mianownika jest bardzo mała, co może prowadzić do niestabilnych wyników.\n",
    "2. MAPE może wykazać **jednakową różnicę procentową** dla kompletnie różnych skal wartości. Przykładowo:\n",
    "> - Model 1: rzeczywista wartość = 100, przewidywana wartość = 110, MAPE = 10%,\n",
    "> - Model 2: rzeczywista wartość = 1000, przewidywana wartość = 1100, MAPE = 10%.\n",
    "\n",
    "W niektórych zastosowaniach biznesowych (np. finansach), różnica 10% dla wartości 100 i 1000 może mieć zupełnie różne konsekwencje.\n",
    "```\n",
    "\n",
    "**Przykład kodu w Pythonie**:"
   ]
  },
  {
   "cell_type": "code",
   "execution_count": 35,
   "metadata": {},
   "outputs": [
    {
     "name": "stdout",
     "output_type": "stream",
     "text": [
      "Średni bezwzględny błąd procentowy (MAPE): 31.75%\n"
     ]
    }
   ],
   "source": [
    "def mean_absolute_percentage_error(y_true, y_pred): \n",
    "    y_true, y_pred = np.array(y_true), np.array(y_pred)\n",
    "    return np.mean(np.abs((y_true - y_pred) / y_true)) * 100\n",
    "\n",
    "# Obliczanie MAPE\n",
    "mape = mean_absolute_percentage_error(y_test, y_pred)\n",
    "print(f'Średni bezwzględny błąd procentowy (MAPE): {mape:.2f}%')"
   ]
  }
 ],
 "metadata": {
  "kernelspec": {
   "display_name": "dsbook",
   "language": "python",
   "name": "python3"
  },
  "language_info": {
   "codemirror_mode": {
    "name": "ipython",
    "version": 3
   },
   "file_extension": ".py",
   "mimetype": "text/x-python",
   "name": "python",
   "nbconvert_exporter": "python",
   "pygments_lexer": "ipython3",
   "version": "3.11.9"
  }
 },
 "nbformat": 4,
 "nbformat_minor": 2
}
