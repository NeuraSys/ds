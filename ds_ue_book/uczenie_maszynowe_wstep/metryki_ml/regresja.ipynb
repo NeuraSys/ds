{
 "cells": [
  {
   "cell_type": "markdown",
   "metadata": {},
   "source": [
    "# Regresja\n",
    "\n",
    "Autor sekcji: {ref}`authors:filip-wojcik`.\n",
    "\n",
    "\n",
    "W polskiej literaturze termin \"regresja\" często bywa utożsamiany z (prostą) regresją liniową, podczas gdy w anglojęzycznym piśmiennictwie termin ten odnosi się do szerszego zagadnienia przewidywania wartości numerycznych (ciągłych). Regresja to fundamentalne zadanie w uczeniu maszynowym, które polega na przewidywaniu wartości liczbowych na podstawie dostępnych danych wejściowych. Jakość modelu regresyjnego ocenia się za pomocą różnych metryk, które mierzą różnice między przewidywanymi a rzeczywistymi wartościami.\n",
    "\n",
    "Formalnie:\n",
    "\n",
    "\n",
    "```{glossary}\n",
    "Regresja\n",
    "    (ang. *regression*), w szerokim rozumieniu tego terminu, jest zadaniem w uczeniu maszynowym polegającym na przewidywaniu wartości numerycznych (ciągłych) na podstawie dostępnych danych wejściowych.\n",
    "\n",
    "    Dany jest zbiór wejściowy $\\mathcal{X}$ oraz zbiór wartości docelowych $\\mathcal{Y} \\subseteq \\mathbb{R}$. Próbka ucząca $S = \\left\\{ (\\mathbf{x}_1, y_1), (\\mathbf{x}_2, y_2), \\dots, (\\mathbf{x}_m, y_m) \\right\\} \\subseteq \\mathcal{X} \\times \\mathcal{Y}$ składa się z $m$ par, gdzie każdy wektor wejściowy $\\mathbf{x}_i \\in \\mathcal{X}$ jest losowany zgodnie z (nieznanym) rozkładem prawdopodobieństwa $D$, a odpowiadające mu etykiety $y_i \\in \\mathcal{Y}$ są generowane zgodnie z funkcją docelową $y = f(\\mathbf{x}) + \\epsilon$, gdzie $f: \\mathcal{X} \\to \\mathbb{R}$ jest nieznaną funkcją, a $\\epsilon$ jest nieredukowalnym błędem losowym, $\\epsilon \\sim \\mathcal{N}(0, \\sigma^2)$.\n",
    "\n",
    "    Celem regresji jest znalezienie modelu (zwanego również **estymatorem**) funkcji $f$, który przybliży ją na podstawie próbki uczącej $S$.\n",
    "\n",
    "    Ponieważ wartości docelowe należą do zbioru liczb rzeczywistych, stworzenie modelu, który przewiduje te wartości bezbłędnie, jest mało realistyczne. Dlatego w zadaniu regresji oczekuje się, aby model przewidywał wartości **możliwie jak najbliższe** rzeczywistym wartościom docelowym. Poziom spełnienia tego zadania oceniany jest za pomocą dedykowanych metryk.\n",
    "\n",
    "    (ujednolicona definicja w oparciu o: {cite:ps}`mohri2012foundations`, {cite:ps}`deisenroth2020mathematics`, {cite:ps}`flach2012machine`)\n",
    "```\n",
    "\n",
    "\n",
    "Poniżej omówione zostaną najważniejsze metryki regresji, takie jak **błąd średniokwadratowy**/ ang. *Mean Square Error (MSE)*, **pierwiastek błędu średniokwadratowego**/ ang. *Root Mean Square Error (RMSE)*, **średni błąd bezwzględny** / ang. *Mean Absolute Error (MAE)* oraz **średni bezwzględny błąd procentowy**/ang. *Mean Absolute Percentage Error (MAPE)*. Dla każdej metryki podane będą wzory oraz przykłady kodu w Pythonie, wykorzystujące wbudowane zbiory danych z biblioteki `Scikit-learn`."
   ]
  },
  {
   "cell_type": "markdown",
   "metadata": {},
   "source": [
    "### Błąd średniokwadratowy / ang. *Mean Square Error (MSE)*\n",
    "\n",
    "\n",
    "```{glossary}\n",
    "Błąd średniokwadratowy\n",
    "    ang. *Mean Square Error (MSE)*, to jedna z najczęściej używanych metryk do oceny modeli regresyjnych. MSE mierzy średnią kwadratową różnicę między przewidywanymi a rzeczywistymi wartościami. Podnoszenie błędów do kwadratu ma na celu podkreślenie większych odchyleń, co sprawia, że **MSE jest szczególnie czuła na duże błędy**.\n",
    "\n",
    "    Z drugiej strony - forma równania umozliwia łatwe przekształcenia, które ułatwiają skracanie niektórych wyrażeń podczas liczenia np. gradientów błędów.\n",
    "\n",
    "\n",
    "    Formalnie:\n",
    "\n",
    "    $$\n",
    "    \\text{MSE} = \\frac{1}{N} \\sum_{i=1}^{N} (y_i - \\hat{y}_i)^2\n",
    "    $$\n",
    "\n",
    "    gdzie:\n",
    "    - $y_i$ to rzeczywista wartość,\n",
    "    - $\\hat{y}_i$ to przewidywana wartość,\n",
    "    - $N$ to liczba obserwacji.\n",
    "```\n",
    "\n",
    "\n",
    "**Przykład kodu w Pythonie**:"
   ]
  },
  {
   "cell_type": "code",
   "execution_count": 6,
   "metadata": {},
   "outputs": [
    {
     "name": "stdout",
     "output_type": "stream",
     "text": [
      "Błąd średniokwadratowy (MSE): 0.5306\n"
     ]
    }
   ],
   "source": [
    "import matplotlib.pyplot as plt \n",
    "from sklearn.metrics import mean_squared_error\n",
    "from sklearn.datasets import fetch_california_housing\n",
    "from sklearn.model_selection import train_test_split\n",
    "from sklearn.linear_model import LinearRegression\n",
    "\n",
    "# Ładowanie danych Boston Housing\n",
    "data = fetch_california_housing()\n",
    "X, y = data.data, data.target\n",
    "\n",
    "# Podział na zbiór treningowy i testowy\n",
    "X_train, X_test, y_train, y_test = train_test_split(X, y, test_size=0.3, random_state=42)\n",
    "\n",
    "# Trenowanie modelu regresji liniowej\n",
    "model = LinearRegression()\n",
    "model.fit(X_train, y_train)\n",
    "\n",
    "# Przewidywanie wartości na zbiorze testowym\n",
    "y_pred = model.predict(X_test)\n",
    "\n",
    "# Obliczanie MSE\n",
    "mse = mean_squared_error(y_test, y_pred)\n",
    "\n",
    "print(f'Błąd średniokwadratowy (MSE): {mse:.4f}')"
   ]
  },
  {
   "cell_type": "markdown",
   "metadata": {},
   "source": [
    "### Pierwiastek błędu średniokwadratowego / ang. *Root Mean Square Error (RMSE)*\n",
    "\n",
    "```{glossary}\n",
    "\n",
    "Pierwiastek błędu średniokwadratowego\n",
    "    ang. *Root Mean Square Error (RMSE)*, jest metryką będącą pierwiastkiem kwadratowym z MSE. RMSE, podobnie jak MSE, karze większe błędy, ale ma tę zaletę, że jest wyrażona w tych samych jednostkach co przewidywane wartości, co ułatwia interpretację.\n",
    "\n",
    "    Wzór na RMSE:\n",
    "\n",
    "    $$\n",
    "    \\text{RMSE} = \\sqrt{\\text{MSE}} = \\sqrt{\\frac{1}{N} \\sum_{i=1}^{N} (y_i - \\hat{y}_i)^2}\n",
    "    $$\n",
    "```"
   ]
  },
  {
   "cell_type": "markdown",
   "metadata": {},
   "source": [
    "**Przykład kodu w Pythonie**:"
   ]
  },
  {
   "cell_type": "code",
   "execution_count": 7,
   "metadata": {},
   "outputs": [
    {
     "name": "stdout",
     "output_type": "stream",
     "text": [
      "Pierwiastek błędu średniokwadratowego (RMSE): 0.7284\n"
     ]
    }
   ],
   "source": [
    "import numpy as np\n",
    "\n",
    "# Obliczanie RMSE\n",
    "rmse = np.sqrt(mse)\n",
    "print(f'Pierwiastek błędu średniokwadratowego (RMSE): {rmse:.4f}')"
   ]
  },
  {
   "cell_type": "markdown",
   "metadata": {},
   "source": [
    "### Średni błąd bezwzględny / ang. *Mean Absolute Error (MAE)*\n",
    "\n",
    "```{glossary}\n",
    "Średni błąd bezwzględny\n",
    "    ang. *Mean Absolute Error (MAE)* mierzy średnią wartość bezwzględnej różnicy między przewidywaniami a rzeczywistymi wartościami. MAE jest mniej czuła na duże błędy w porównaniu do MSE i RMSE, ponieważ nie wykonuje operacji potęgowania. Z drugiej strony - ze względu na użycie wartości bezwzględnej, nie wskazuje na to, czy model przeszacowuje czy niedoszacowuje wartości.\n",
    "\n",
    "    Wzór na MAE:\n",
    "\n",
    "    $$\n",
    "    \\text{MAE} = \\frac{1}{N} \\sum_{i=1}^{N} |y_i - \\hat{y}_i|\n",
    "    $$\n",
    "```\n",
    "\n",
    "\n",
    "**Przykład kodu w Pythonie**:"
   ]
  },
  {
   "cell_type": "code",
   "execution_count": 8,
   "metadata": {},
   "outputs": [
    {
     "name": "stdout",
     "output_type": "stream",
     "text": [
      "Średni błąd bezwzględny (MAE): 0.5272\n"
     ]
    }
   ],
   "source": [
    "from sklearn.metrics import mean_absolute_error\n",
    "\n",
    "# Obliczanie MAE\n",
    "mae = mean_absolute_error(y_test, y_pred)\n",
    "print(f'Średni błąd bezwzględny (MAE): {mae:.4f}')"
   ]
  },
  {
   "cell_type": "markdown",
   "metadata": {},
   "source": [
    "### Średni bezwzględny błąd procentowy / ang. *Mean Absolute Percentage Error (MAPE)*\n",
    "\n",
    "```{glossary}\n",
    "Średni bezwzględny błąd procentowy\n",
    "    ang. *Mean Absolute Percentage Error (MAPE)* mierzy średni procentowy błąd przewidywań w stosunku do rzeczywistych wartości. MAPE jest szczególnie przydatna, gdy chcemy ocenić dokładność przewidywań w kategoriach procentowych, a zatem relatywnie łatwo interpretowalna. Jednakże, ze względu na użycie wartości bezwzględnej, nie wskazuje na to, czy model przeszacowuje czy niedoszacowuje wartości.\n",
    "\n",
    "    Wzór na MAPE:\n",
    "\n",
    "    $$\n",
    "    \\text{MAPE} = \\frac{100\\%}{N} \\sum_{i=1}^{N} \\left|\\frac{y_i - \\hat{y}_i}{y_i}\\right|\n",
    "    $$\n",
    "```\n",
    "\n",
    "```{admonition} Mylące wartości MAPE\n",
    ":class: tip\n",
    "Warto zwrócić uwagę, że metryka MAPE może być myląca, w dwóch sytuacjach.\n",
    "1. Gdy wartości rzeczywiste są bliskie zeru, ponieważ wtedy wartość mianownika jest bardzo mała, co może prowadzić do niestabilnych wyników.\n",
    "2. MAPE może wykazać **jednakową różnicę procentową** dla kompletnie różnych skal wartości. Przykładowo:\n",
    "> - Model 1: rzeczywista wartość = 100, przewidywana wartość = 110, MAPE = 10%,\n",
    "> - Model 2: rzeczywista wartość = 1000, przewidywana wartość = 1100, MAPE = 10%.\n",
    "\n",
    "W niektórych zastosowaniach biznesowych (np. finansach), różnica 10% dla wartości 100 i 1000 może mieć zupełnie różne konsekwencje.\n",
    "```\n",
    "\n",
    "**Przykład kodu w Pythonie**:"
   ]
  },
  {
   "cell_type": "code",
   "execution_count": 9,
   "metadata": {},
   "outputs": [
    {
     "name": "stdout",
     "output_type": "stream",
     "text": [
      "Średni bezwzględny błąd procentowy (MAPE): 31.75%\n"
     ]
    }
   ],
   "source": [
    "def mean_absolute_percentage_error(y_true, y_pred): \n",
    "    y_true, y_pred = np.array(y_true), np.array(y_pred)\n",
    "    return np.mean(np.abs((y_true - y_pred) / y_true)) * 100\n",
    "\n",
    "# Obliczanie MAPE\n",
    "mape = mean_absolute_percentage_error(y_test, y_pred)\n",
    "print(f'Średni bezwzględny błąd procentowy (MAPE): {mape:.2f}%')"
   ]
  }
 ],
 "metadata": {
  "kernelspec": {
   "display_name": "dsbook",
   "language": "python",
   "name": "python3"
  },
  "language_info": {
   "codemirror_mode": {
    "name": "ipython",
    "version": 3
   },
   "file_extension": ".py",
   "mimetype": "text/x-python",
   "name": "python",
   "nbconvert_exporter": "python",
   "pygments_lexer": "ipython3",
   "version": "3.11.9"
  }
 },
 "nbformat": 4,
 "nbformat_minor": 2
}
