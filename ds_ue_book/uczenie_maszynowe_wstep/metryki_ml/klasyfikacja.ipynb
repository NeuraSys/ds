{
 "cells": [
  {
   "cell_type": "code",
   "execution_count": 2,
   "metadata": {
    "tags": [
     "remove-cell"
    ]
   },
   "outputs": [],
   "source": [
    "import pandas as pd\n",
    "import numpy as np\n",
    "\n",
    "from IPython.display import display"
   ]
  },
  {
   "cell_type": "markdown",
   "metadata": {},
   "source": [
    "# Klasyfikacja\n",
    "\n",
    "\n",
    "```{glossary}\n",
    "Klasyfikacja\n",
    "    Klasyfikacja jest jednym z kluczowych zadań w uczeniu maszynowym, polegającym na przypisaniu obiektów do określonych kategorii (klas) na podstawie ich cech.\n",
    "    Formalnie, klasyfikator jest funkcją $h: \\mathcal{X} \\rightarrow \\mathcal{C}, \\text{ gdzie } \\mathcal{C} = \\left\\{c_1, c_2, \\dots, c_k \\right\\}$, która przypisuje obiektom $x \\in \\mathcal{X}$ etykiety z zadanego, skończonego zbioru.\n",
    "    Możemy wyróżnić dwa podstawowe typy klasyfikacji: klasyfikację binarną, gdzie mamy do czynienia z dwiema klasami, oraz klasyfikację wieloklasową, gdzie obiekt może należeć do jednej z wielu klas. W języku polskim określa się czasem zadnie klasyfikacji, mianem `taksonomii`.\n",
    "    {cite:ps}`flach2012machine`, {cite:ps}`hastie2009elements`, {cite:ps}`Ma2007CS229LN`\n",
    "```"
   ]
  },
  {
   "cell_type": "markdown",
   "metadata": {},
   "source": []
  },
  {
   "cell_type": "markdown",
   "metadata": {},
   "source": [
    "## Przykłady klasyfikacji\n",
    "\n",
    "### Klasyfikacja binarna\n",
    "\n",
    "Jednym z klasycznych zbiorów danych, dla których pokazuje się przykłady klasyfikacji binarnej jest zbiór \"Titanic\", który zawiera informacje o pasażerach słynnego okrętu, w tym informacje o tym, **czy dany pasażer przeżył katastrofę czy nie**. Wolumen danych zawiera informacje demograficzne (płać, wielkość rodziny oraz jej obecność na statku), oraz związane z zajmowaną kabiną, opłatami, etc.\n"
   ]
  },
  {
   "cell_type": "code",
   "execution_count": 3,
   "metadata": {},
   "outputs": [
    {
     "data": {
      "text/html": [
       "<div>\n",
       "<style scoped>\n",
       "    .dataframe tbody tr th:only-of-type {\n",
       "        vertical-align: middle;\n",
       "    }\n",
       "\n",
       "    .dataframe tbody tr th {\n",
       "        vertical-align: top;\n",
       "    }\n",
       "\n",
       "    .dataframe thead th {\n",
       "        text-align: right;\n",
       "    }\n",
       "</style>\n",
       "<table border=\"1\" class=\"dataframe\">\n",
       "  <thead>\n",
       "    <tr style=\"text-align: right;\">\n",
       "      <th></th>\n",
       "      <th>survived</th>\n",
       "      <th>pclass</th>\n",
       "      <th>sex</th>\n",
       "      <th>age</th>\n",
       "      <th>sibsp</th>\n",
       "      <th>parch</th>\n",
       "      <th>fare</th>\n",
       "      <th>embarked</th>\n",
       "      <th>class</th>\n",
       "      <th>who</th>\n",
       "      <th>adult_male</th>\n",
       "      <th>deck</th>\n",
       "      <th>embark_town</th>\n",
       "      <th>alive</th>\n",
       "      <th>alone</th>\n",
       "    </tr>\n",
       "  </thead>\n",
       "  <tbody>\n",
       "    <tr>\n",
       "      <th>0</th>\n",
       "      <td>0</td>\n",
       "      <td>3</td>\n",
       "      <td>male</td>\n",
       "      <td>22.0</td>\n",
       "      <td>1</td>\n",
       "      <td>0</td>\n",
       "      <td>7.2500</td>\n",
       "      <td>S</td>\n",
       "      <td>Third</td>\n",
       "      <td>man</td>\n",
       "      <td>True</td>\n",
       "      <td>NaN</td>\n",
       "      <td>Southampton</td>\n",
       "      <td>no</td>\n",
       "      <td>False</td>\n",
       "    </tr>\n",
       "    <tr>\n",
       "      <th>1</th>\n",
       "      <td>1</td>\n",
       "      <td>1</td>\n",
       "      <td>female</td>\n",
       "      <td>38.0</td>\n",
       "      <td>1</td>\n",
       "      <td>0</td>\n",
       "      <td>71.2833</td>\n",
       "      <td>C</td>\n",
       "      <td>First</td>\n",
       "      <td>woman</td>\n",
       "      <td>False</td>\n",
       "      <td>C</td>\n",
       "      <td>Cherbourg</td>\n",
       "      <td>yes</td>\n",
       "      <td>False</td>\n",
       "    </tr>\n",
       "    <tr>\n",
       "      <th>2</th>\n",
       "      <td>1</td>\n",
       "      <td>3</td>\n",
       "      <td>female</td>\n",
       "      <td>26.0</td>\n",
       "      <td>0</td>\n",
       "      <td>0</td>\n",
       "      <td>7.9250</td>\n",
       "      <td>S</td>\n",
       "      <td>Third</td>\n",
       "      <td>woman</td>\n",
       "      <td>False</td>\n",
       "      <td>NaN</td>\n",
       "      <td>Southampton</td>\n",
       "      <td>yes</td>\n",
       "      <td>True</td>\n",
       "    </tr>\n",
       "    <tr>\n",
       "      <th>3</th>\n",
       "      <td>1</td>\n",
       "      <td>1</td>\n",
       "      <td>female</td>\n",
       "      <td>35.0</td>\n",
       "      <td>1</td>\n",
       "      <td>0</td>\n",
       "      <td>53.1000</td>\n",
       "      <td>S</td>\n",
       "      <td>First</td>\n",
       "      <td>woman</td>\n",
       "      <td>False</td>\n",
       "      <td>C</td>\n",
       "      <td>Southampton</td>\n",
       "      <td>yes</td>\n",
       "      <td>False</td>\n",
       "    </tr>\n",
       "    <tr>\n",
       "      <th>4</th>\n",
       "      <td>0</td>\n",
       "      <td>3</td>\n",
       "      <td>male</td>\n",
       "      <td>35.0</td>\n",
       "      <td>0</td>\n",
       "      <td>0</td>\n",
       "      <td>8.0500</td>\n",
       "      <td>S</td>\n",
       "      <td>Third</td>\n",
       "      <td>man</td>\n",
       "      <td>True</td>\n",
       "      <td>NaN</td>\n",
       "      <td>Southampton</td>\n",
       "      <td>no</td>\n",
       "      <td>True</td>\n",
       "    </tr>\n",
       "  </tbody>\n",
       "</table>\n",
       "</div>"
      ],
      "text/plain": [
       "   survived  pclass     sex   age  sibsp  parch     fare embarked  class  \\\n",
       "0         0       3    male  22.0      1      0   7.2500        S  Third   \n",
       "1         1       1  female  38.0      1      0  71.2833        C  First   \n",
       "2         1       3  female  26.0      0      0   7.9250        S  Third   \n",
       "3         1       1  female  35.0      1      0  53.1000        S  First   \n",
       "4         0       3    male  35.0      0      0   8.0500        S  Third   \n",
       "\n",
       "     who  adult_male deck  embark_town alive  alone  \n",
       "0    man        True  NaN  Southampton    no  False  \n",
       "1  woman       False    C    Cherbourg   yes  False  \n",
       "2  woman       False  NaN  Southampton   yes   True  \n",
       "3  woman       False    C  Southampton   yes  False  \n",
       "4    man        True  NaN  Southampton    no   True  "
      ]
     },
     "execution_count": 3,
     "metadata": {},
     "output_type": "execute_result"
    }
   ],
   "source": [
    "# Wczytywanie danych z pliku CSV\n",
    "url = \"https://raw.githubusercontent.com/mwaskom/seaborn-data/master/titanic.csv\"\n",
    "titanic_data = pd.read_csv(url)\n",
    "\n",
    "# Przegląd pierwszych kilku wierszy\n",
    "titanic_data.head()"
   ]
  },
  {
   "cell_type": "code",
   "execution_count": 4,
   "metadata": {},
   "outputs": [
    {
     "data": {
      "text/plain": [
       "survived\n",
       "0    0.616\n",
       "1    0.384\n",
       "Name: proportion, dtype: float64"
      ]
     },
     "execution_count": 4,
     "metadata": {},
     "output_type": "execute_result"
    }
   ],
   "source": [
    "titanic_data.survived.value_counts(normalize=True).round(3)"
   ]
  },
  {
   "cell_type": "markdown",
   "metadata": {},
   "source": [
    "Widzimy, że proporcja klas wynosi około 2:1 (przeżył vs. nie przeżył), a zatem mamy do czynienia z problemem **niezbalansowanym**. Przekładając to na język formalny, możemy powiedzieć, że w przypadku zbioru danych `Titanic`:\n",
    "\n",
    "$$\\mathcal{C}_{\\text{Ttianic}} = \\left\\{ \\text{0}, \\text{1} \\right\\}$$\n",
    "\n",
    "gdzie 0 oznacza, że pasażer nie przeżył katastrofy, a 1, że przeżył."
   ]
  },
  {
   "cell_type": "markdown",
   "metadata": {},
   "source": [
    "### Klasyfikacja wieloklasowa\n",
    "\n",
    "Przykładem klasyfikacji wieloklasowej, jest zbiór danych 'Iris', który zawiera informacje o trzech gatunkach irysów: `Iris-setosa`, `Iris-versicolor`, `Iris-virginica`. W tym przypadku mamy do czynienia z problemem **zbalansowanym**, ponieważ każda z klas ma tyle samo przykładów. Jest to chyba najczęściej wykorzystywany, w celach edukacyjnych, zbiór danych w uczeniu maszynowym."
   ]
  },
  {
   "cell_type": "code",
   "execution_count": 5,
   "metadata": {},
   "outputs": [
    {
     "data": {
      "text/html": [
       "<div>\n",
       "<style scoped>\n",
       "    .dataframe tbody tr th:only-of-type {\n",
       "        vertical-align: middle;\n",
       "    }\n",
       "\n",
       "    .dataframe tbody tr th {\n",
       "        vertical-align: top;\n",
       "    }\n",
       "\n",
       "    .dataframe thead th {\n",
       "        text-align: right;\n",
       "    }\n",
       "</style>\n",
       "<table border=\"1\" class=\"dataframe\">\n",
       "  <thead>\n",
       "    <tr style=\"text-align: right;\">\n",
       "      <th></th>\n",
       "      <th>sepal length (cm)</th>\n",
       "      <th>sepal width (cm)</th>\n",
       "      <th>petal length (cm)</th>\n",
       "      <th>petal width (cm)</th>\n",
       "      <th>species</th>\n",
       "    </tr>\n",
       "  </thead>\n",
       "  <tbody>\n",
       "    <tr>\n",
       "      <th>0</th>\n",
       "      <td>5.1</td>\n",
       "      <td>3.5</td>\n",
       "      <td>1.4</td>\n",
       "      <td>0.2</td>\n",
       "      <td>setosa</td>\n",
       "    </tr>\n",
       "    <tr>\n",
       "      <th>1</th>\n",
       "      <td>4.9</td>\n",
       "      <td>3.0</td>\n",
       "      <td>1.4</td>\n",
       "      <td>0.2</td>\n",
       "      <td>setosa</td>\n",
       "    </tr>\n",
       "    <tr>\n",
       "      <th>2</th>\n",
       "      <td>4.7</td>\n",
       "      <td>3.2</td>\n",
       "      <td>1.3</td>\n",
       "      <td>0.2</td>\n",
       "      <td>setosa</td>\n",
       "    </tr>\n",
       "  </tbody>\n",
       "</table>\n",
       "</div>"
      ],
      "text/plain": [
       "   sepal length (cm)  sepal width (cm)  petal length (cm)  petal width (cm)  \\\n",
       "0                5.1               3.5                1.4               0.2   \n",
       "1                4.9               3.0                1.4               0.2   \n",
       "2                4.7               3.2                1.3               0.2   \n",
       "\n",
       "  species  \n",
       "0  setosa  \n",
       "1  setosa  \n",
       "2  setosa  "
      ]
     },
     "execution_count": 5,
     "metadata": {},
     "output_type": "execute_result"
    }
   ],
   "source": [
    "from sklearn.datasets import load_iris\n",
    "\n",
    "iris = load_iris()\n",
    "iris_data = pd.DataFrame(data=iris.data, columns=iris.feature_names)\n",
    "iris_data[\"species\"] = [iris.target_names[i] for i in iris.target]\n",
    "iris_data.head(3)"
   ]
  },
  {
   "cell_type": "code",
   "execution_count": 6,
   "metadata": {},
   "outputs": [
    {
     "data": {
      "text/plain": [
       "species\n",
       "setosa        0.333333\n",
       "versicolor    0.333333\n",
       "virginica     0.333333\n",
       "Name: proportion, dtype: float64"
      ]
     },
     "execution_count": 6,
     "metadata": {},
     "output_type": "execute_result"
    }
   ],
   "source": [
    "iris_data.species.value_counts(normalize=True)"
   ]
  },
  {
   "cell_type": "markdown",
   "metadata": {},
   "source": [
    "Przekładając to na język formalny, możemy powiedzieć, że w przypadku zbioru danych `Iris`:\n",
    "\n",
    "$$\\mathcal{C}_{\\text{Iris}} = \\left\\{ \\text{Iris-setosa}, \\text{Iris-versicolor}, \\text{Iris-virginica} \\right\\}$$"
   ]
  },
  {
   "cell_type": "markdown",
   "metadata": {},
   "source": [
    "## Kodowanie kategorii dla klasyfikacji i regresji\n",
    "\n",
    "Istotne jest zwrócenie uwagi na fakt, że (wbrew temu, jak zaimplementowane są niektóre algorytmy w poszczególnych bibliotekach), modele uczenia maszynowego **nie mogą przetwarzać etykiet klas w postaci tekstowej**. W rzeczywistości, muszą one być zakodowane w postaci numerycznej, np. za pomocą kodowania `one-hot`.\n",
    "\n",
    "Istnieje wiele sposobów do osiągnięcia tego celu. Poniżej przedstawimy tylko podstawowe sposoby. Bardziej zaawansowane metody, jak np. `embedding` zostaną omówione w dalszej części książki, razem z modelami sieci neuronowych.\n",
    "\n",
    "\n",
    "### One-hot encoding.\n",
    "\n",
    "```{glossary}\n",
    "Kodowanie typu one-hot\n",
    "    (ang. *one-hot encoding*) - technika kodowania zmiennych kategorycznych w postaci wektorów binarnych, w których tylko jedna zmienna jest równa 1, a pozostałe 0. W przypadku klasyfikacji wieloklasowej, każda klasa jest kodowana jako wektor binarny, w którym jedna zmienna jest równa 1, a pozostałe 0.\n",
    "    Jest to jedna z najprostszych metod kodowania numerycznego dla zmiennych kategorycznych. {cite:ps}`galli2022python`\n",
    "```\n",
    "\n",
    "Definicja tej metody jest bardziej skomplikowana, niż jej działanie w praktyce. \"Przepis\" na `one-hot encoding` jest bardzo prosty:\n",
    "```{admonition} Kodowanie one-hot\n",
    ":class: tip\n",
    "1. Dla każdego obiektu w zbiorze danych, przygotuj wektor o długości równej ilości klas.\n",
    "2. Nadaj klasom poszczególne indeksy (np. A - 0, B - 1, C - 2, etc.).\n",
    "3. Dla każdego obiektu - wstaw \"1\" na pozycji wektora, odpowiadającej indeksowi klasy.\n",
    "```\n",
    "\n",
    "W praktyce, wiele bibliotek wykona tą pracę za nas.\n",
    "\n",
    "W celach edukacyjnych, przyjrzyjmy się przykładowej, własnej implementacji."
   ]
  },
  {
   "cell_type": "markdown",
   "metadata": {},
   "source": [
    "#### One-hot encoding - własna implemetacja"
   ]
  },
  {
   "cell_type": "code",
   "execution_count": 7,
   "metadata": {},
   "outputs": [
    {
     "data": {
      "text/html": [
       "<div>\n",
       "<style scoped>\n",
       "    .dataframe tbody tr th:only-of-type {\n",
       "        vertical-align: middle;\n",
       "    }\n",
       "\n",
       "    .dataframe tbody tr th {\n",
       "        vertical-align: top;\n",
       "    }\n",
       "\n",
       "    .dataframe thead th {\n",
       "        text-align: right;\n",
       "    }\n",
       "</style>\n",
       "<table border=\"1\" class=\"dataframe\">\n",
       "  <thead>\n",
       "    <tr style=\"text-align: right;\">\n",
       "      <th></th>\n",
       "      <th>setosa</th>\n",
       "      <th>versicolor</th>\n",
       "      <th>virginica</th>\n",
       "    </tr>\n",
       "  </thead>\n",
       "  <tbody>\n",
       "    <tr>\n",
       "      <th>0</th>\n",
       "      <td>1.0</td>\n",
       "      <td>0.0</td>\n",
       "      <td>0.0</td>\n",
       "    </tr>\n",
       "    <tr>\n",
       "      <th>1</th>\n",
       "      <td>1.0</td>\n",
       "      <td>0.0</td>\n",
       "      <td>0.0</td>\n",
       "    </tr>\n",
       "    <tr>\n",
       "      <th>2</th>\n",
       "      <td>1.0</td>\n",
       "      <td>0.0</td>\n",
       "      <td>0.0</td>\n",
       "    </tr>\n",
       "  </tbody>\n",
       "</table>\n",
       "</div>"
      ],
      "text/plain": [
       "   setosa  versicolor  virginica\n",
       "0     1.0         0.0        0.0\n",
       "1     1.0         0.0        0.0\n",
       "2     1.0         0.0        0.0"
      ]
     },
     "metadata": {},
     "output_type": "display_data"
    },
    {
     "data": {
      "text/html": [
       "<div>\n",
       "<style scoped>\n",
       "    .dataframe tbody tr th:only-of-type {\n",
       "        vertical-align: middle;\n",
       "    }\n",
       "\n",
       "    .dataframe tbody tr th {\n",
       "        vertical-align: top;\n",
       "    }\n",
       "\n",
       "    .dataframe thead th {\n",
       "        text-align: right;\n",
       "    }\n",
       "</style>\n",
       "<table border=\"1\" class=\"dataframe\">\n",
       "  <thead>\n",
       "    <tr style=\"text-align: right;\">\n",
       "      <th></th>\n",
       "      <th>setosa</th>\n",
       "      <th>versicolor</th>\n",
       "      <th>virginica</th>\n",
       "    </tr>\n",
       "  </thead>\n",
       "  <tbody>\n",
       "    <tr>\n",
       "      <th>147</th>\n",
       "      <td>0.0</td>\n",
       "      <td>0.0</td>\n",
       "      <td>1.0</td>\n",
       "    </tr>\n",
       "    <tr>\n",
       "      <th>148</th>\n",
       "      <td>0.0</td>\n",
       "      <td>0.0</td>\n",
       "      <td>1.0</td>\n",
       "    </tr>\n",
       "    <tr>\n",
       "      <th>149</th>\n",
       "      <td>0.0</td>\n",
       "      <td>0.0</td>\n",
       "      <td>1.0</td>\n",
       "    </tr>\n",
       "  </tbody>\n",
       "</table>\n",
       "</div>"
      ],
      "text/plain": [
       "     setosa  versicolor  virginica\n",
       "147     0.0         0.0        1.0\n",
       "148     0.0         0.0        1.0\n",
       "149     0.0         0.0        1.0"
      ]
     },
     "metadata": {},
     "output_type": "display_data"
    }
   ],
   "source": [
    "def simple_ohe(df: pd.DataFrame, target_column: str) -> np.array:\n",
    "\n",
    "    # Pobranie unikalnych wartości z kolumny docelowej\n",
    "    unique_classes = list(df[target_column].unique())\n",
    "\n",
    "    # Przygotowanie macierzy o wymiarach liczba_wierszy x liczba_unikalnych_klas\n",
    "    ohe_vectors = np.zeros((len(df), len(unique_classes)))\n",
    "\n",
    "    # Dla każdego obiektu - ustawienie wartości 1 w odpowiednim miejscu\n",
    "    indices = df[target_column].apply(lambda v: unique_classes.index(v))\n",
    "\n",
    "    # Ustawienie wartości 1 w odpowiednich miejscach\n",
    "    ohe_vectors[np.arange(len(df)), indices] = 1\n",
    "\n",
    "    # Pomocniczo stworzymy sobie DataFrame z etykietami kategorii\n",
    "    ohe_df = pd.DataFrame(ohe_vectors, columns=unique_classes)\n",
    "\n",
    "    return ohe_df\n",
    "\n",
    "iris_simple_ohe = simple_ohe(iris_data, \"species\")\n",
    "\n",
    "display(iris_simple_ohe.head(3))\n",
    "\n",
    "display(iris_simple_ohe.tail(3))"
   ]
  },
  {
   "cell_type": "markdown",
   "metadata": {},
   "source": [
    "#### One-hot encoding - użycie biblioteki 'feature-engine'\n",
    "\n",
    "Biblioteka `feature-engine` jest jedną z wielu, które pozwalają na szybkie i łatwe kodowanie zmiennych kategorycznych. Poniżej przedstawimy przykład użycia tej biblioteki do osiągnięcia dokładnie tego samego efektu, co w przypadku własnej implementacji."
   ]
  },
  {
   "cell_type": "code",
   "execution_count": 8,
   "metadata": {},
   "outputs": [
    {
     "data": {
      "text/html": [
       "<div>\n",
       "<style scoped>\n",
       "    .dataframe tbody tr th:only-of-type {\n",
       "        vertical-align: middle;\n",
       "    }\n",
       "\n",
       "    .dataframe tbody tr th {\n",
       "        vertical-align: top;\n",
       "    }\n",
       "\n",
       "    .dataframe thead th {\n",
       "        text-align: right;\n",
       "    }\n",
       "</style>\n",
       "<table border=\"1\" class=\"dataframe\">\n",
       "  <thead>\n",
       "    <tr style=\"text-align: right;\">\n",
       "      <th></th>\n",
       "      <th>sepal length (cm)</th>\n",
       "      <th>sepal width (cm)</th>\n",
       "      <th>petal length (cm)</th>\n",
       "      <th>petal width (cm)</th>\n",
       "      <th>species_setosa</th>\n",
       "      <th>species_versicolor</th>\n",
       "      <th>species_virginica</th>\n",
       "    </tr>\n",
       "  </thead>\n",
       "  <tbody>\n",
       "    <tr>\n",
       "      <th>0</th>\n",
       "      <td>5.1</td>\n",
       "      <td>3.5</td>\n",
       "      <td>1.4</td>\n",
       "      <td>0.2</td>\n",
       "      <td>1</td>\n",
       "      <td>0</td>\n",
       "      <td>0</td>\n",
       "    </tr>\n",
       "    <tr>\n",
       "      <th>1</th>\n",
       "      <td>4.9</td>\n",
       "      <td>3.0</td>\n",
       "      <td>1.4</td>\n",
       "      <td>0.2</td>\n",
       "      <td>1</td>\n",
       "      <td>0</td>\n",
       "      <td>0</td>\n",
       "    </tr>\n",
       "    <tr>\n",
       "      <th>2</th>\n",
       "      <td>4.7</td>\n",
       "      <td>3.2</td>\n",
       "      <td>1.3</td>\n",
       "      <td>0.2</td>\n",
       "      <td>1</td>\n",
       "      <td>0</td>\n",
       "      <td>0</td>\n",
       "    </tr>\n",
       "  </tbody>\n",
       "</table>\n",
       "</div>"
      ],
      "text/plain": [
       "   sepal length (cm)  sepal width (cm)  petal length (cm)  petal width (cm)  \\\n",
       "0                5.1               3.5                1.4               0.2   \n",
       "1                4.9               3.0                1.4               0.2   \n",
       "2                4.7               3.2                1.3               0.2   \n",
       "\n",
       "   species_setosa  species_versicolor  species_virginica  \n",
       "0               1                   0                  0  \n",
       "1               1                   0                  0  \n",
       "2               1                   0                  0  "
      ]
     },
     "execution_count": 8,
     "metadata": {},
     "output_type": "execute_result"
    }
   ],
   "source": [
    "from feature_engine.encoding import OneHotEncoder\n",
    "\n",
    "ohe = OneHotEncoder(variables=[\"species\"], drop_last=False)\n",
    "ohe.fit_transform(iris_data).head(3)"
   ]
  },
  {
   "cell_type": "markdown",
   "metadata": {},
   "source": [
    "Uzyskany efekt jest ten sam.\n",
    "\n",
    "\n",
    "```{admonition} Kodowanie OHE dla danych treningowych i testowych\n",
    ":class: important\n",
    "\n",
    "Ważne jest, aby uczyć się kodować zmienne OHE na zbiorze **treningowym** i aplikować to samo kodowanie na zbiór **testowy**.\n",
    "\n",
    "Naturalne pytanie pojawiające się w takim układzie to:\n",
    "\n",
    "> Co, gdy w zbiorze testowym pojawi się nowa kategoria, której nie było w zbiorze treningowym?\n",
    "\n",
    "W zależności od naszych zamiarów, modelu, oraz używanej biblioteki, można w dodać jedną, dodatkową kategorię `nieznane` / ang. *other*, która będzie obsługiwała takie przypadki. Warto zwrócić uwagę, że w przypadku niektórych modeli, takie rozwiązanie może prowadzić do problemów z interpretacją wyników.\n",
    "```\n",
    "\n",
    "\n",
    "\n",
    "```{admonition} Słabości metody OHE\n",
    ":class: important\n",
    "\n",
    "Metoda OHE jest bardzo prosta i intuicyjna, ale ma swoje wady. Jedną z nich jest to, że w przypadku zmiennych kategorycznych o dużej liczbie kategorii, może prowadzić do alokacji dużej macierzy opisujacej klasy. Nic dziwnego, skoro na potrzeby tego sposobu, tworzymy macierz o wymiarach `N x K` (gdzie K - liczba klas). Można temu zapobiegać stosujac tzw. macierze rzadkie (ang. *sparse matrices*), które są bardziej efektywne pod względem pamięciowym.\n",
    "\n",
    "To jednak nie wszytko. Metoda OHE pomija zależności pomiedzy klasami, traktując jest wszytkie jednakowo. W przypadku, gdy zależności te są istotne, warto zastanowić się nad innymi metodami kodowania zmiennych kategorycznych, takimi jak `target encoding`, `weight of evidence`, czy `embedding`.\n",
    "```"
   ]
  },
  {
   "cell_type": "markdown",
   "metadata": {},
   "source": [
    "### Kodowanie numeryczne\n",
    "\n",
    "Kodowanie numeryczne jest, w zasadzie pierwszym krokiem metody OHE. W tym przypadku, zamiast alokować macierz `N x K`, (gdzie K - liczba klas), alokujemy jednowymiarowy wektor o długości `N`, gdzie każda klasa jest zakodowana jako liczba całkowita, najczęściej jej indeks. Warto zwrócić uwagę, że w przypadku niektórych modeli, takie kodowanie może prowadzić do błędów interpretacyjnych, ponieważ model może traktować klasy jako zmienne numeryczne, a nie kategoryczne.\n",
    "\n",
    "Bardzo często kodowanie numeryczne jest wykorzystywane przez biblioteki do optymalizacji pamięciowej metody OHE, w celu uniknięcia alokacji dużej macierzy."
   ]
  },
  {
   "cell_type": "markdown",
   "metadata": {},
   "source": [
    "## Metryki klasyfikacji binarnej\n",
    "\n",
    "Teraz, gdy już wiemy, jak przygotować dane do modelu klasyfikacji, warto zastanowić się nad tym, jak ocenić jakość modelu. W tym celu, wykorzystuje się metryki klasyfikacji, które pozwalają na porównanie modeli pod kątem ich skuteczności.\n",
    "\n",
    "Zaczniemy od omówienia metryk dla klasyfikacji binarnej."
   ]
  },
  {
   "cell_type": "markdown",
   "metadata": {},
   "source": [
    "### Macierz pomyłek\n",
    "\n",
    "Podstawowym narzędziem oceny klasyfikacji jest tzw. **macierz pomyłek** (ang. *confusion matrix*), z której można wywodzić cały szereg dodatkowych metryk oceny jakości.\n",
    "\n",
    "```{glossary}\n",
    "Macierz pomyłek\n",
    "    (ang. *confusion matrix*) - tabela, która pozwala na wizualizację wyników klasyfikacji binarnej. Zestawia ze sobą dwie składowe: liczność klas rzeczywistych (danych), oraz liczność predykcji modelu. W macierzy przedstawiane są cztery możliwe zależności, zachodzące między tymi składowymi:\n",
    "    - **TP** (True Positive) - liczba poprawnie sklasyfikowanych obserwacji pozytywnych,\n",
    "    - **TN** (True Negative) - liczba poprawnie sklasyfikowanych obserwacji negatywnych,\n",
    "    - **FP** (False Positive) - liczba błędnie sklasyfikowanych obserwacji pozytywnych,\n",
    "    - **FN** (False Negative) - liczba błędnie sklasyfikowanych obserwacji negatywnych.\n",
    "    {cite:ps}`flach2012machine`, {cite:ps}`hastie2009elements`\n",
    "```\n",
    "\n",
    "Jeden obraz (i przykład) mówi więcej niż tysiąc słow, spójrzmy więc na poniższy przykład, wykorzystujący model zbiór danych Titanic i predykcje prostego modelu."
   ]
  },
  {
   "cell_type": "code",
   "execution_count": 9,
   "metadata": {},
   "outputs": [
    {
     "name": "stdout",
     "output_type": "stream",
     "text": [
      "Wartości rzeczywiste:  [1 0 0 1 1 1 1 0 1 1]\n",
      "Wartości przewidziane:  [0 1 0 1 1 1 1 0 0 1]\n",
      "True Positives (TP):  54\n",
      "True Negatives (TN):  83\n",
      "False Positives (FP):  22\n",
      "False Negatives (FN):  20\n"
     ]
    },
    {
     "data": {
      "image/png": "[encoded data removed]",
      "text/plain": [
       "<Figure size 640x480 with 2 Axes>"
      ]
     },
     "metadata": {},
     "output_type": "display_data"
    }
   ],
   "source": [
    "from sklearn.tree import DecisionTreeClassifier\n",
    "from sklearn.model_selection import train_test_split\n",
    "from feature_engine.imputation import MeanMedianImputer, CategoricalImputer\n",
    "from feature_engine.pipeline import make_pipeline\n",
    "from sklearn.metrics import ConfusionMatrixDisplay, confusion_matrix\n",
    "\n",
    "titanic_cols_to_take = ['pclass', 'sex', 'age', 'sibsp', 'parch', 'fare', 'embarked', 'class', 'adult_male']\n",
    "\n",
    "# Wstępne przygotowanie danych - wypełnienie wart. brakujących i kodowanie OHE\n",
    "num_imputer = MeanMedianImputer(imputation_method='median')\n",
    "cat_imputer = CategoricalImputer(imputation_method='missing', fill_value='missing')\n",
    "titanic_ohe = OneHotEncoder(variables=['sex', 'embarked', 'class', 'adult_male'], ignore_format=True)\n",
    "transformation_pipe = make_pipeline(num_imputer, cat_imputer, titanic_ohe)\n",
    "\n",
    "X = titanic_data.drop(columns=[\"survived\"])[titanic_cols_to_take]\n",
    "y = titanic_data[\"survived\"]\n",
    "\n",
    "# Podział danych na treningowe i testowe\n",
    "X_train_titanic, X_test_titanic, y_train_titanic, y_test_titanic = train_test_split(X, y, test_size=0.2, random_state=42)\n",
    "X_train_titanic = transformation_pipe.fit_transform(X_train_titanic)\n",
    "X_test_titanic = transformation_pipe.transform(X_test_titanic)\n",
    "\n",
    "# Przygotowanie modelu\n",
    "model_titanic = DecisionTreeClassifier(random_state=42)\n",
    "model_titanic.fit(X_train_titanic, y_train_titanic)\n",
    "\n",
    "# Ocena modelu\n",
    "yhat_titanic = model_titanic.predict(X_test_titanic)\n",
    "\n",
    "print(\"Wartości rzeczywiste: \", y_test_titanic.values[:10])\n",
    "print(\"Wartości przewidziane: \", yhat_titanic[:10])\n",
    "\n",
    "confmat = confusion_matrix(y_true=y_test_titanic, y_pred=yhat_titanic)\n",
    "\n",
    "tn, fp, fn, tp = confmat.ravel()\n",
    "print(\"True Positives (TP): \", tp)\n",
    "print(\"True Negatives (TN): \", tn)\n",
    "print(\"False Positives (FP): \", fp)\n",
    "print(\"False Negatives (FN): \", fn)\n",
    "\n",
    "ConfusionMatrixDisplay.from_predictions(y_test_titanic, yhat_titanic);"
   ]
  },
  {
   "cell_type": "markdown",
   "metadata": {},
   "source": [
    "Obrazek powyżej pokazuje zestawienie predykcji i wartości oczekiwanych - wraz z ich pokrywaniem się. \n",
    "\n",
    "1. Suma każdego wiersza - to liczba obserwacji w danej klasie rzeczywistej.\n",
    "2. Suma każdej kolumny - to liczba obserwacji w danej klasie predykcji.\n"
   ]
  },
  {
   "cell_type": "markdown",
   "metadata": {},
   "source": [
    "### Podstawowe metryki\n",
    "\n",
    "Jak widać powyżej, prosta macierz pomyłek daje nam szereg wartości, na podstawie których możemy wyliczać wiele metryk. Do najważniejszych należą {cite:ps}`flach2012machine`:\n",
    "\n",
    "```{glossary}\n",
    "Dokładność\n",
    "    (ang. *accuracy*) - procent obserwacji, które zostały poprawnie sklasyfikowane przez model. Jest to jedna z najbardziej intuicyjnych metryk, ale może być myląca w przypadku niezbalansowanych zbiorów danych.\n",
    "\n",
    "    $$\\text{Accuracy} = \\frac{TP + TN}{TP + TN + FP + FN}$$\n",
    "\n",
    "Precyzja\n",
    "    (ang. *precision*) - procent obserwacji sklasyfikowanych jako pozytywne, które są rzeczywiście pozytywne. Jest to metryka, która pozwala na ocenę jakości modelu/testu. Odpowiada na pytanie: \"jak często model ma rację, gdy przewiduje pozytywny wynik?\".\n",
    "\n",
    "    $$\\text{Precision} = \\frac{TP}{TP + FP}$$\n",
    "\n",
    "Czułość\n",
    "    (ang. *recall* lub *sensitivity*) - procent obserwacji pozytywnych, które zostały poprawnie sklasyfikowane przez model. JOdpowiada na pytanie: \"ile prawdziwie pozytywnych przypadków udało się wykryć\".\n",
    "\n",
    "    $$\\text{Recall} = \\frac{TP}{TP + FN}$$\n",
    "\n",
    "Specyficzność\n",
    "    (ang. *specificity*) - procent obserwacji negatywnych, które zostały poprawnie sklasyfikowane przez model. Odpowiada na pytanie: \"ile prawdziwie negatywnych przypadków udało się wykryć\".\n",
    "    \n",
    "    $$\\text{Specificity} = \\frac{TN}{TN + FP}$$\n",
    "```"
   ]
  },
  {
   "cell_type": "markdown",
   "metadata": {},
   "source": [
    "```{admonition} Warto znać metryki\n",
    ":class: tip\n",
    "Wśród niewielu rzeczy, których warto się uczyć na pamięć i znać na wylot, są podstawowe metryki klasyfikacji wywiedzione z macierzy pomyłek. Naprawdę warto jest pamiętać - przydaje się to niemal w każdej dyskusji i analizie dowolnego modelu klasyfikacji.\n",
    "```"
   ]
  },
  {
   "cell_type": "markdown",
   "metadata": {},
   "source": [
    "Zobaczmy, jak wyglądają wartości opisanych metryk, w przypadku modelu klasyfikacji binarnej dla danych Titanic."
   ]
  },
  {
   "cell_type": "code",
   "execution_count": 10,
   "metadata": {},
   "outputs": [
    {
     "name": "stdout",
     "output_type": "stream",
     "text": [
      "Dokładność / Accuracy         : 0.765\n",
      "Precyzja / Precision          : 0.711\n",
      "Czułość / Recall              : 0.730\n",
      "Specyficzność / Specificity   : 0.790\n"
     ]
    }
   ],
   "source": [
    "from sklearn.metrics import accuracy_score, precision_score, recall_score\n",
    "\n",
    "accuracy = accuracy_score(y_test_titanic, yhat_titanic)\n",
    "precision = precision_score(y_test_titanic, yhat_titanic)\n",
    "recall = recall_score(y_test_titanic, yhat_titanic)\n",
    "\n",
    "specificity = tn / (tn + fp)\n",
    "\n",
    "print(f\"{'Dokładność / Accuracy':<30}: {accuracy:.3f}\")\n",
    "print(f\"{'Precyzja / Precision':<30}: {precision:.3f}\")\n",
    "print(f\"{'Czułość / Recall':<30}: {recall:.3f}\")\n",
    "print(f\"{'Specyficzność / Specificity':<30}: {specificity:.3f}\")"
   ]
  },
  {
   "cell_type": "markdown",
   "metadata": {},
   "source": [
    "Zachęcam, dla utrwalenia, do policzenia \"ręcznie\" tych wartości i upewnienia się, czy zgadzają się z wynikami poniżej :) "
   ]
  },
  {
   "cell_type": "markdown",
   "metadata": {},
   "source": [
    "### F1-score\n",
    "\n",
    "Jak podkreślaliśmy wcześniej, metryka dokładności / *accuracy* nie jest najlepszym wyborem w przypadku, gdy zbiór danych nie jest zbalansowany. W takich przypadkach, warto zwrócić uwagę na metrykę F1-score, która jest średnią harmoniczną precyzji i czułości.\n",
    "\n",
    "\n",
    "```{glossary}\n",
    "Miara F1 (ang. F1-score)\n",
    "    Miara F1 jest średnią harmoniczną precyzji i czułości. Jest to metryka jakości klasyfikacji binarnej, szczególnie przydatna w przypadku niezbalansowanych zbiorów danych. Przyjmuje wartości z zakresu [0, 1], gdzie 1 oznacza idealną klasyfikację, a 0 - całkowity brak trafności.\n",
    "    Ze względu na swoje właściwości, jej wartości oscylują pomiędzy precyzją i czułością, zbiegając ku wartości mniejszej z nich. Dzięki temu Miara F1 pozwala wychwycić sytuacje niedoszacowania/przeszacowania kluczowych metryk. \n",
    "    Formalnie miarę F1 wyliczamy następująco:\n",
    "\n",
    "    $$\\text{F1} = 2 \\cdot \\frac{\\text{Precision} \\cdot \\text{Recall}}{\\text{Precision} + \\text{Recall}}$$\n",
    "\n",
    "    {cite:ps}`flach2012machine`, {cite:ps}`sammut2017encyclopedia`\n",
    "```"
   ]
  },
  {
   "cell_type": "markdown",
   "metadata": {},
   "source": [
    "Rozpatrzmy następujący przykład, oparty na wydarzeniach, zwiazanych z pandemią COVID-19.\n",
    "\n",
    "```{admonition} Przykład skrajnej nierównowagi klas - różnice w metrykach\n",
    "Na początku pandemii COVID-19 trwał wyścig, mający na celu opracowanie jak najdokładniejszych testów, pozwalających na szybkie wykrycie zakażenia. Firmy farmaceutyczne i laboratoria badawcze zaczęły opracowywać testy, które miały jak najmniejsze ryzyko błędu. W przypadku testów na obecność wirusa, ważne jest, aby test był jak najbardziej czuły (wysoki, ang. *recall*), aby nie przegapić przypadków zakażenia. Zdarzały się również sytuacje, gdy testy nie wykrywały niczego, stając się bezużyteczne.\n",
    "\n",
    "* Wyobraźmy sobie, że do punktu kontrolnego dostarczono **bardzo słaby test** - test, tylko w połowie przypadków wykrył wirusa.\n",
    "* W kolejce do testowania czeka 100 pacjentów, z czego:\n",
    "    - 90 jest zdrowych,\n",
    "    - 10 jest chorych na nową odmianę wirusa.\n",
    "\n",
    "Fragment kodu poniżej pokazuje wartości poszczególnych metryk dla tego testu.\n",
    "```"
   ]
  },
  {
   "cell_type": "code",
   "execution_count": 12,
   "metadata": {},
   "outputs": [
    {
     "name": "stdout",
     "output_type": "stream",
     "text": [
      "Dokładność / Accuracy         : 0.950\n",
      "Precyzja / Precision          : 1.000\n",
      "Czułość / Recall              : 0.500\n",
      "F1                            : 0.667\n",
      "\n",
      "\n",
      "\n",
      "              precision    recall  f1-score   support\n",
      "\n",
      "           0       0.95      1.00      0.97        90\n",
      "           1       1.00      0.50      0.67        10\n",
      "\n",
      "    accuracy                           0.95       100\n",
      "   macro avg       0.97      0.75      0.82       100\n",
      "weighted avg       0.95      0.95      0.94       100\n",
      "\n"
     ]
    }
   ],
   "source": [
    "from sklearn.metrics import f1_score, classification_report\n",
    "\n",
    "# Kolejka 100 pacjentów: 90x\"0\" (zdrowy), 10 x \"1\" (chory)\n",
    "patients = np.array([0] * 90  + [1] * 10)\n",
    "\n",
    "# Wadliwy test, wykrył tylko połowę przypadków zakażenia\n",
    "test_result = np.array([0] * 95 + [1] * 5)\n",
    "\n",
    "# Wyliczenie metryk\n",
    "accuracy = accuracy_score(patients, test_result)\n",
    "precision = precision_score(patients, test_result)\n",
    "recall = recall_score(patients, test_result)\n",
    "f1 = f1_score(patients, test_result)\n",
    "\n",
    "print(f\"{'Dokładność / Accuracy':<30}: {accuracy:.3f}\")\n",
    "print(f\"{'Precyzja / Precision':<30}: {precision:.3f}\")\n",
    "print(f\"{'Czułość / Recall':<30}: {recall:.3f}\")\n",
    "print(f\"{'F1':<30}: {f1:.3f}\")\n",
    "\n",
    "# Podsumowanie wszystkich metryk jednocześnie - bardzo przydatna funkcja\n",
    "print(\"\\n\\n\")\n",
    "print(classification_report(patients, test_result))"
   ]
  },
  {
   "cell_type": "markdown",
   "metadata": {},
   "source": [
    "Te wyniki nie napawają optymizmem, co więcej, **osoby nieznające się na ich interpretacji** mogłyby mylnie uznać, że wyniki są dobre.\n",
    "\n",
    "1. **Dokładność** - 90% - wydaje się być bardzo wysoka, podobnie jak...\n",
    "2. **Precyzja** - 100% - wszystkie przypadki, które test uznał za pozytywne, były rzeczywiście pozytywne. Dobrze, prada? Ale...\n",
    "3. **Czułość** - 50% - tylko połowa przypadków pozytywnych została wykryta. To już nie wygląda tak dobrze.\n",
    "4. **Miara F1** - 66.67% - średnia harmoniczna precyzji i czułości. Wciąż nie jest to wynik, który można uznać za zadowalający.\n",
    "\n",
    "Dlatego tak ważne jest rozpatrywanie wielu metryk jednocześnie, a nie tylko kierowanie się pojedynczą wartością.\n",
    "\n",
    "```{admonition} Wybór pojedynczej metryki\n",
    ":class: tip\n",
    "Czasem zdarza się, że trzeba wybrać pojedynczą wartość. Dzieje się tak np. przy optymalizacji modelu metodami automatycznymi, gdy wskazujemy **funkcję celu** wzgledem której optymalizator ma poprawiać wyniki. W takiej sytuacji, zwykle można wybrać miarę F1, która jest kompromisem pomiędzy precyzją i czułością.\n",
    "```"
   ]
  },
  {
   "cell_type": "markdown",
   "metadata": {},
   "source": [
    "## Metryki klasfikacji wieloklasowej\n",
    "\n",
    "Klasyfikacja wieloklasowa to zadanie, w którym obiekty mogą być przypisane do jednej z wielu klas. W takim przypadku, metryki klasyfikacji binarnej nie są wystarczające, ponieważ nie uwzględniają wszystkich klas.Na całe szczęście, jak słusznie zwracają na to uwagę niektórzy autorzy {cite:ps}`flach2012machine`, {cite:ps}`mohri2012foundations`, każdy problem klasyfikacji wieloklasowej da się sprowadzić do serii problemów klasyfikacji binarnej.\n",
    "\n",
    "W poniższym omówieniu wykorzystamy zbiór danych `Iris`, przedstawiony już wcześniej, jako klasyczny przykład tego zadania."
   ]
  },
  {
   "cell_type": "code",
   "execution_count": 14,
   "metadata": {},
   "outputs": [
    {
     "data": {
      "text/html": [
       "<div>\n",
       "<style scoped>\n",
       "    .dataframe tbody tr th:only-of-type {\n",
       "        vertical-align: middle;\n",
       "    }\n",
       "\n",
       "    .dataframe tbody tr th {\n",
       "        vertical-align: top;\n",
       "    }\n",
       "\n",
       "    .dataframe thead th {\n",
       "        text-align: right;\n",
       "    }\n",
       "</style>\n",
       "<table border=\"1\" class=\"dataframe\">\n",
       "  <thead>\n",
       "    <tr style=\"text-align: right;\">\n",
       "      <th></th>\n",
       "      <th>sepal length (cm)</th>\n",
       "      <th>sepal width (cm)</th>\n",
       "      <th>petal length (cm)</th>\n",
       "      <th>petal width (cm)</th>\n",
       "      <th>species</th>\n",
       "    </tr>\n",
       "  </thead>\n",
       "  <tbody>\n",
       "    <tr>\n",
       "      <th>0</th>\n",
       "      <td>5.1</td>\n",
       "      <td>3.5</td>\n",
       "      <td>1.4</td>\n",
       "      <td>0.2</td>\n",
       "      <td>setosa</td>\n",
       "    </tr>\n",
       "    <tr>\n",
       "      <th>1</th>\n",
       "      <td>4.9</td>\n",
       "      <td>3.0</td>\n",
       "      <td>1.4</td>\n",
       "      <td>0.2</td>\n",
       "      <td>setosa</td>\n",
       "    </tr>\n",
       "    <tr>\n",
       "      <th>2</th>\n",
       "      <td>4.7</td>\n",
       "      <td>3.2</td>\n",
       "      <td>1.3</td>\n",
       "      <td>0.2</td>\n",
       "      <td>setosa</td>\n",
       "    </tr>\n",
       "    <tr>\n",
       "      <th>3</th>\n",
       "      <td>4.6</td>\n",
       "      <td>3.1</td>\n",
       "      <td>1.5</td>\n",
       "      <td>0.2</td>\n",
       "      <td>setosa</td>\n",
       "    </tr>\n",
       "    <tr>\n",
       "      <th>4</th>\n",
       "      <td>5.0</td>\n",
       "      <td>3.6</td>\n",
       "      <td>1.4</td>\n",
       "      <td>0.2</td>\n",
       "      <td>setosa</td>\n",
       "    </tr>\n",
       "    <tr>\n",
       "      <th>5</th>\n",
       "      <td>5.4</td>\n",
       "      <td>3.9</td>\n",
       "      <td>1.7</td>\n",
       "      <td>0.4</td>\n",
       "      <td>setosa</td>\n",
       "    </tr>\n",
       "    <tr>\n",
       "      <th>6</th>\n",
       "      <td>4.6</td>\n",
       "      <td>3.4</td>\n",
       "      <td>1.4</td>\n",
       "      <td>0.3</td>\n",
       "      <td>setosa</td>\n",
       "    </tr>\n",
       "    <tr>\n",
       "      <th>7</th>\n",
       "      <td>5.0</td>\n",
       "      <td>3.4</td>\n",
       "      <td>1.5</td>\n",
       "      <td>0.2</td>\n",
       "      <td>setosa</td>\n",
       "    </tr>\n",
       "    <tr>\n",
       "      <th>8</th>\n",
       "      <td>4.4</td>\n",
       "      <td>2.9</td>\n",
       "      <td>1.4</td>\n",
       "      <td>0.2</td>\n",
       "      <td>setosa</td>\n",
       "    </tr>\n",
       "    <tr>\n",
       "      <th>9</th>\n",
       "      <td>4.9</td>\n",
       "      <td>3.1</td>\n",
       "      <td>1.5</td>\n",
       "      <td>0.1</td>\n",
       "      <td>setosa</td>\n",
       "    </tr>\n",
       "  </tbody>\n",
       "</table>\n",
       "</div>"
      ],
      "text/plain": [
       "   sepal length (cm)  sepal width (cm)  petal length (cm)  petal width (cm)  \\\n",
       "0                5.1               3.5                1.4               0.2   \n",
       "1                4.9               3.0                1.4               0.2   \n",
       "2                4.7               3.2                1.3               0.2   \n",
       "3                4.6               3.1                1.5               0.2   \n",
       "4                5.0               3.6                1.4               0.2   \n",
       "5                5.4               3.9                1.7               0.4   \n",
       "6                4.6               3.4                1.4               0.3   \n",
       "7                5.0               3.4                1.5               0.2   \n",
       "8                4.4               2.9                1.4               0.2   \n",
       "9                4.9               3.1                1.5               0.1   \n",
       "\n",
       "  species  \n",
       "0  setosa  \n",
       "1  setosa  \n",
       "2  setosa  \n",
       "3  setosa  \n",
       "4  setosa  \n",
       "5  setosa  \n",
       "6  setosa  \n",
       "7  setosa  \n",
       "8  setosa  \n",
       "9  setosa  "
      ]
     },
     "execution_count": 14,
     "metadata": {},
     "output_type": "execute_result"
    }
   ],
   "source": [
    "iris_data.head(10)"
   ]
  },
  {
   "cell_type": "code",
   "execution_count": 15,
   "metadata": {},
   "outputs": [
    {
     "data": {
      "text/html": [
       "<div>\n",
       "<style scoped>\n",
       "    .dataframe tbody tr th:only-of-type {\n",
       "        vertical-align: middle;\n",
       "    }\n",
       "\n",
       "    .dataframe tbody tr th {\n",
       "        vertical-align: top;\n",
       "    }\n",
       "\n",
       "    .dataframe thead th {\n",
       "        text-align: right;\n",
       "    }\n",
       "</style>\n",
       "<table border=\"1\" class=\"dataframe\">\n",
       "  <thead>\n",
       "    <tr style=\"text-align: right;\">\n",
       "      <th></th>\n",
       "      <th>sepal length (cm)</th>\n",
       "      <th>sepal width (cm)</th>\n",
       "      <th>petal length (cm)</th>\n",
       "      <th>petal width (cm)</th>\n",
       "    </tr>\n",
       "  </thead>\n",
       "  <tbody>\n",
       "    <tr>\n",
       "      <th>22</th>\n",
       "      <td>4.6</td>\n",
       "      <td>3.6</td>\n",
       "      <td>1.0</td>\n",
       "      <td>0.2</td>\n",
       "    </tr>\n",
       "    <tr>\n",
       "      <th>15</th>\n",
       "      <td>5.7</td>\n",
       "      <td>4.4</td>\n",
       "      <td>1.5</td>\n",
       "      <td>0.4</td>\n",
       "    </tr>\n",
       "    <tr>\n",
       "      <th>65</th>\n",
       "      <td>6.7</td>\n",
       "      <td>3.1</td>\n",
       "      <td>4.4</td>\n",
       "      <td>1.4</td>\n",
       "    </tr>\n",
       "  </tbody>\n",
       "</table>\n",
       "</div>"
      ],
      "text/plain": [
       "    sepal length (cm)  sepal width (cm)  petal length (cm)  petal width (cm)\n",
       "22                4.6               3.6                1.0               0.2\n",
       "15                5.7               4.4                1.5               0.4\n",
       "65                6.7               3.1                4.4               1.4"
      ]
     },
     "execution_count": 15,
     "metadata": {},
     "output_type": "execute_result"
    }
   ],
   "source": [
    "from feature_engine.encoding import OrdinalEncoder\n",
    "\n",
    "# Kodowanie numeryczne klas - tym razem nie używamy OHE\n",
    "ordinal_encoder = OrdinalEncoder(encoding_method='arbitrary', variables=['species'])\n",
    "iris_encoded  = ordinal_encoder.fit_transform(iris_data)\n",
    "\n",
    "\n",
    "\n",
    "# Podział na dane treningowe i testowe\n",
    "X_train_iris, X_test_iris, y_train_iris, y_test_iris = train_test_split(iris_encoded.drop(columns=[\"species\"]),\n",
    "                                                    iris_encoded[\"species\"],\n",
    "                                                    test_size=0.2,\n",
    "                                                    random_state=42)\n",
    "\n",
    "\n",
    "X_train_iris.head(3)"
   ]
  },
  {
   "cell_type": "code",
   "execution_count": 16,
   "metadata": {},
   "outputs": [
    {
     "data": {
      "text/plain": [
       "{'species': {'setosa': 0, 'versicolor': 1, 'virginica': 2}}"
      ]
     },
     "execution_count": 16,
     "metadata": {},
     "output_type": "execute_result"
    }
   ],
   "source": [
    "# Jak zostały zakodowane nasze klasy?\n",
    "ordinal_encoder.encoder_dict_"
   ]
  },
  {
   "cell_type": "markdown",
   "metadata": {},
   "source": [
    "### Macierz pomyłek dla klasyfikacji wieloklasowej\n",
    "\n",
    "W przypadku klasyfikacji wieloklasowej macierz pomyłek jest rozszerzeniem macierzy pomyłek dla klasyfikacji binarnej. W przypadku klasyfikacji wieloklasowej, macierz pomyłek jest macierzą kwadratową, w której wiersze odpowiadają klasom rzeczywistym, a kolumny klasom predykcji, tak samo, jak wcześniej.\n",
    "\n",
    "Przykład poniżej:"
   ]
  },
  {
   "cell_type": "code",
   "execution_count": 17,
   "metadata": {},
   "outputs": [
    {
     "data": {
      "image/png": "[encoded data removed]",
      "text/plain": [
       "<Figure size 640x480 with 2 Axes>"
      ]
     },
     "metadata": {},
     "output_type": "display_data"
    }
   ],
   "source": [
    "decision_tree_iris = DecisionTreeClassifier(random_state=42)\n",
    "decision_tree_iris.fit(X_train_iris, y_train_iris)\n",
    "\n",
    "yhat_iris = decision_tree_iris.predict(X_test_iris)\n",
    "\n",
    "ConfusionMatrixDisplay.from_predictions(y_test_iris, yhat_iris);"
   ]
  },
  {
   "cell_type": "markdown",
   "metadata": {},
   "source": [
    "### Precyzja, czułość i miara F1 dla klasyfikacji wieloklasowej\n"
   ]
  },
  {
   "cell_type": "markdown",
   "metadata": {},
   "source": [
    "W klasyfikacji wieloklasowej, gdy model generuje predykcje dla wielu klas, potrzebujemy sposobu, by ocenić jego ogólną skuteczność na podstawie metryk takich jak precyzja, czułość, czy miara F1. Zazwyczaj używa się trzech głównych podejść do agregacji tych metryk: **micro-average**, **macro-average** oraz **weighted-average**. Każde z nich różni się sposobem obliczania średniej, co może prowadzić do różnych interpretacji wyników.\n",
    "\n",
    "#### 1. **Micro-average**\n",
    "\n",
    "**Micro-average** to metoda obliczania średnich metryk (np. precyzji, czułości, F1), która traktuje każdą obserwację równo, bez względu na przynależność do klasy. W podejściu *micro-average*, wszystkie prawdziwe pozytywne, fałszywe pozytywne i fałszywe negatywne są sumowane przez wszystkie klasy, a następnie na tej podstawie obliczana jest metryka.\n",
    "\n",
    "$$\n",
    "\\begin{align}\n",
    "\\text{Precision}_{micro} &= \\frac{\\sum_{i=1}^{K} TP_i}{\\sum_{i=1}^{K} (TP_i + FP_i)} \\\\[1em]\n",
    "\\text{Recall}_{micro} &= \\frac{\\sum_{i=1}^{K} TP_i}{\\sum_{i=1}^{K} (TP_i + FN_i)} \\\\[1em]\n",
    "\\text{F1-score}_{micro} &= \\frac{2 \\times \\text{Precision}_{micro} \\times \\text{Recall}_{micro}}{\\text{Precision}_{micro} + \\text{Recall}_{micro}}\n",
    "\\end{align}\n",
    "$$\n",
    "\n",
    "**Przykład:**\n",
    "\n",
    "Załóżmy, że mamy trzy klasy (A, B, C) i następujące dane:\n",
    "\n",
    "- TP (True Positives): A = 40, B = 30, C = 50\n",
    "- FP (False Positives): A = 10, B = 15, C = 5\n",
    "- FN (False Negatives): A = 20, B = 25, C = 10\n",
    "\n",
    "Wówczas:\n",
    "\n",
    "$$\n",
    "\\begin{align}\n",
    "\\text{Precision}_{micro} &= \\frac{40 + 30 + 50}{(40 + 30 + 50) + (10 + 15 + 5)} = \\frac{120}{150} = 0.80 \\\\[1em]\n",
    "\\text{Recall}_{micro} &= \\frac{40 + 30 + 50}{(40 + 30 + 50) + (20 + 25 + 10)} = \\frac{120}{175} = 0.686 \\\\[1em]\n",
    "\\text{F1-score}_{micro} &= \\frac{2 \\times 0.80 \\times 0.686}{0.80 + 0.686} = 0.737\n",
    "\\end{align}\n",
    "$$\n",
    "\n"
   ]
  },
  {
   "cell_type": "markdown",
   "metadata": {},
   "source": [
    "#### 2. **Macro-average**\n",
    "\n",
    "**Macro-average** oblicza metryki dla każdej klasy indywidualnie, a następnie średnia arytmetyczna tych metryk jest brana jako ostateczny wynik. W przeciwieństwie do micro-average, macro-average nie bierze pod uwagę rozkładu klas, co oznacza, że rzadkie klasy mają taki sam wpływ na końcową metrykę, jak klasy bardziej licznie reprezentowane.\n",
    "\n",
    "$$\n",
    "\\begin{align}\n",
    "\\text{Precision}_{macro} &= \\frac{1}{K} \\sum_{i=1}^{K} \\text{Precision}_i \\\\\n",
    "\\text{Recall}_{macro} &= \\frac{1}{K} \\sum_{i=1}^{K} \\text{Recall}_i \\\\\n",
    "\\text{F1-score}_{macro} &= \\frac{1}{K} \\sum_{i=1}^{K} \\text{F1-score}_i\n",
    "\\end{align}\n",
    "$$\n",
    "\n",
    "\n",
    "**Przykład:**\n",
    "\n",
    "Używając tych samych danych co wcześniej:\n",
    "\n",
    "$$\n",
    "\\begin{align}\n",
    "\\text{Precision}_A &= \\frac{40}{40 + 10} = 0.80 \\\\\n",
    "\\text{Precision}_B &= \\frac{30}{30 + 15} = 0.667 \\\\\n",
    "\\text{Precision}_C &= \\frac{50}{50 + 5} = 0.909 \\\\\n",
    "\\text{Precision}_{macro} &= \\frac{0.80 + 0.667 + 0.909}{3} = 0.792\n",
    "\\end{align}\n",
    "$$\n",
    "\n",
    "\n",
    "Podobnie obliczamy recall i F1-score dla każdej klasy, a następnie ich średnią.\n"
   ]
  },
  {
   "cell_type": "markdown",
   "metadata": {},
   "source": [
    "\n",
    "#### 3. **Weighted-average**\n",
    "\n",
    "**Weighted-average** (średnia ważona) to metoda, która podobnie jak macro-average, oblicza metryki dla każdej klasy indywidualnie, ale uwzględnia przy tym rozkład klas. Każda metryka dla danej klasy jest ważona liczbą przykładów w tej klasie.\n",
    "\n",
    "$$\n",
    "\\begin{align}\n",
    "\\text{Precision}_{weighted} &= \\frac{1}{N} \\sum_{i=1}^{K} n_i \\times \\text{Precision}_i \\\\\n",
    "\\text{Recall}_{weighted} &= \\frac{1}{N} \\sum_{i=1}^{K} n_i \\times \\text{Recall}_i \\\\\n",
    "\\text{F1-score}_{weighted} &= \\frac{1}{N} \\sum_{i=1}^{K} n_i \\times \\text{F1-score}_i\n",
    "\\end{align}\n",
    "$$\n",
    "\n",
    "gdzie $n_i$ to liczba próbek w klasie $i$, a $N$ to całkowita liczba próbek we wszystkich klasach.\n",
    "\n",
    "**Przykład:**\n",
    "\n",
    "Załóżmy, że liczby próbek w klasach są następujące:\n",
    "\n",
    "- Liczba próbek: A = 70, B = 70, C = 65\n",
    "\n",
    "Wówczas, weighted-average precision będzie obliczona jako:\n",
    "\n",
    "$$\n",
    "\\text{Precision}_{weighted} = \\frac{70 \\times 0.80 + 70 \\times 0.667 + 65 \\times 0.909}{70 + 70 + 65} = \\frac{161.775}{205} = 0.78\n",
    "$$\n",
    "\n",
    "### Podsumowanie\n",
    "\n",
    "Jak widać w przykładach powyżej - nawet dla tych smaych metryk (precyzji/czułośći/F1) - wyniki mogą się różnic, w zależności od uśrednienia. Ostateczny wybór zależy od konkretnej sytacji i tego, jak model ma być oceniany.\n",
    "\n",
    "```{admonition} Sugerowane metody wyboru uśrednienia\n",
    ":class: tip\n",
    "- **Micro-average** jest odpowiednie, gdy zależy nam na ocenie ogólnej skuteczności modelu niezależnie od rozkładu klas.\n",
    "- **Macro-average** jest przydatne, gdy interesuje nas równomierna ocena skuteczności modelu dla każdej klasy, bez względu na liczebność klas.\n",
    "- **Weighted-average** zapewnia bardziej zbalansowaną ocenę, uwzględniając zarówno skuteczność dla każdej klasy, jak i ich liczebność, co jest szczególnie użyteczne w przypadkach, gdy rozkład klas jest nierównomierny.\n",
    "```"
   ]
  }
 ],
 "metadata": {
  "kernelspec": {
   "display_name": "dsbook",
   "language": "python",
   "name": "python3"
  },
  "language_info": {
   "codemirror_mode": {
    "name": "ipython",
    "version": 3
   },
   "file_extension": ".py",
   "mimetype": "text/x-python",
   "name": "python",
   "nbconvert_exporter": "python",
   "pygments_lexer": "ipython3",
   "version": "3.11.9"
  }
 },
 "nbformat": 4,
 "nbformat_minor": 2
}
